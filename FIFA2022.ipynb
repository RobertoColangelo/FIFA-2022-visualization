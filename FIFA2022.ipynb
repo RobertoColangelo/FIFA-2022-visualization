{
 "cells": [
  {
   "cell_type": "markdown",
   "metadata": {},
   "source": [
    "# What does it take to be in the top 100 in FIFA?"
   ]
  },
  {
   "cell_type": "markdown",
   "metadata": {},
   "source": [
    "## Introduction"
   ]
  },
  {
   "cell_type": "markdown",
   "metadata": {},
   "source": [
    "Football is probably the most followed, romantic and appreciated sport in the world with hundreds of millions of people talking about it or dreaming to become professional football players. However, for most the dream vanishes with time and is shrunk to having to follow those who realized it by watching games on tv or by playing videogames. Among the various videogames the one that has accompanied us in our puberty and has led to disputes and laughter between friends is undisputedly FIFA. The game produced by Electronic Arts which every year sells millions of copies leads yearly to controversies and disputes related to the rating of players, in particular the best ones in the top 100. Since it appears to be quite interesting as a topic we would like to investigate what features in common have the players in the top 100 and what it takes to become recognized as one of the strongest players in the world. In order to extract some insights and answers, we’ll dig into the problem through some data exploration and graph visualization by also taking a look at the measures and communities detected by two hierarchical clustering algorithms. "
   ]
  },
  {
   "cell_type": "markdown",
   "metadata": {},
   "source": [
    "## Importing libraries"
   ]
  },
  {
   "cell_type": "code",
   "execution_count": 124,
   "metadata": {},
   "outputs": [],
   "source": [
    "import plotly.express as px \n",
    "import seaborn as sns \n",
    "import networkx as nx\n",
    "import pandas as pd\n",
    "import numpy as np \n",
    "import matplotlib.pyplot as plt\n",
    "import random\n",
    "import community \n",
    "from community import community_louvain\n",
    "from networkx.algorithms.community.centrality import girvan_newman \n",
    "from networkx.algorithms.community.quality import modularity\n",
    "from networkx.algorithms.community import k_clique_communities\n",
    "import matplotlib.cm as cm\n",
    "import dash\n",
    "from jupyter_dash import JupyterDash\n",
    "import dash_core_components as dcc\n",
    "import dash_html_components as html\n",
    "from dash.dependencies import Input, Output"
   ]
  },
  {
   "cell_type": "markdown",
   "metadata": {},
   "source": [
    "## Importing dataset"
   ]
  },
  {
   "cell_type": "code",
   "execution_count": 125,
   "metadata": {},
   "outputs": [
    {
     "data": {
      "text/html": [
       "<div>\n",
       "<style scoped>\n",
       "    .dataframe tbody tr th:only-of-type {\n",
       "        vertical-align: middle;\n",
       "    }\n",
       "\n",
       "    .dataframe tbody tr th {\n",
       "        vertical-align: top;\n",
       "    }\n",
       "\n",
       "    .dataframe thead th {\n",
       "        text-align: right;\n",
       "    }\n",
       "</style>\n",
       "<table border=\"1\" class=\"dataframe\">\n",
       "  <thead>\n",
       "    <tr style=\"text-align: right;\">\n",
       "      <th></th>\n",
       "      <th>ID</th>\n",
       "      <th>Name</th>\n",
       "      <th>FullName</th>\n",
       "      <th>Age</th>\n",
       "      <th>Height</th>\n",
       "      <th>Weight</th>\n",
       "      <th>PhotoUrl</th>\n",
       "      <th>Nationality</th>\n",
       "      <th>Overall</th>\n",
       "      <th>Potential</th>\n",
       "      <th>...</th>\n",
       "      <th>LMRating</th>\n",
       "      <th>CMRating</th>\n",
       "      <th>RMRating</th>\n",
       "      <th>LWBRating</th>\n",
       "      <th>CDMRating</th>\n",
       "      <th>RWBRating</th>\n",
       "      <th>LBRating</th>\n",
       "      <th>CBRating</th>\n",
       "      <th>RBRating</th>\n",
       "      <th>GKRating</th>\n",
       "    </tr>\n",
       "  </thead>\n",
       "  <tbody>\n",
       "    <tr>\n",
       "      <th>0</th>\n",
       "      <td>158023</td>\n",
       "      <td>L. Messi</td>\n",
       "      <td>Lionel Messi</td>\n",
       "      <td>34</td>\n",
       "      <td>170</td>\n",
       "      <td>72</td>\n",
       "      <td>https://cdn.sofifa.com/players/158/023/22_60.png</td>\n",
       "      <td>Argentina</td>\n",
       "      <td>93</td>\n",
       "      <td>93</td>\n",
       "      <td>...</td>\n",
       "      <td>93</td>\n",
       "      <td>90</td>\n",
       "      <td>93</td>\n",
       "      <td>69</td>\n",
       "      <td>67</td>\n",
       "      <td>69</td>\n",
       "      <td>64</td>\n",
       "      <td>53</td>\n",
       "      <td>64</td>\n",
       "      <td>22</td>\n",
       "    </tr>\n",
       "    <tr>\n",
       "      <th>1</th>\n",
       "      <td>188545</td>\n",
       "      <td>R. Lewandowski</td>\n",
       "      <td>Robert Lewandowski</td>\n",
       "      <td>32</td>\n",
       "      <td>185</td>\n",
       "      <td>81</td>\n",
       "      <td>https://cdn.sofifa.com/players/188/545/22_60.png</td>\n",
       "      <td>Poland</td>\n",
       "      <td>92</td>\n",
       "      <td>92</td>\n",
       "      <td>...</td>\n",
       "      <td>87</td>\n",
       "      <td>83</td>\n",
       "      <td>87</td>\n",
       "      <td>67</td>\n",
       "      <td>69</td>\n",
       "      <td>67</td>\n",
       "      <td>64</td>\n",
       "      <td>63</td>\n",
       "      <td>64</td>\n",
       "      <td>22</td>\n",
       "    </tr>\n",
       "    <tr>\n",
       "      <th>2</th>\n",
       "      <td>20801</td>\n",
       "      <td>Cristiano Ronaldo</td>\n",
       "      <td>C. Ronaldo dos Santos Aveiro</td>\n",
       "      <td>36</td>\n",
       "      <td>187</td>\n",
       "      <td>83</td>\n",
       "      <td>https://cdn.sofifa.com/players/020/801/22_60.png</td>\n",
       "      <td>Portugal</td>\n",
       "      <td>91</td>\n",
       "      <td>91</td>\n",
       "      <td>...</td>\n",
       "      <td>89</td>\n",
       "      <td>81</td>\n",
       "      <td>89</td>\n",
       "      <td>66</td>\n",
       "      <td>62</td>\n",
       "      <td>66</td>\n",
       "      <td>63</td>\n",
       "      <td>56</td>\n",
       "      <td>63</td>\n",
       "      <td>23</td>\n",
       "    </tr>\n",
       "    <tr>\n",
       "      <th>3</th>\n",
       "      <td>231747</td>\n",
       "      <td>K. Mbappé</td>\n",
       "      <td>Kylian Mbappé</td>\n",
       "      <td>22</td>\n",
       "      <td>182</td>\n",
       "      <td>73</td>\n",
       "      <td>https://cdn.sofifa.com/players/231/747/22_60.png</td>\n",
       "      <td>France</td>\n",
       "      <td>91</td>\n",
       "      <td>95</td>\n",
       "      <td>...</td>\n",
       "      <td>92</td>\n",
       "      <td>84</td>\n",
       "      <td>92</td>\n",
       "      <td>70</td>\n",
       "      <td>66</td>\n",
       "      <td>70</td>\n",
       "      <td>66</td>\n",
       "      <td>57</td>\n",
       "      <td>66</td>\n",
       "      <td>21</td>\n",
       "    </tr>\n",
       "    <tr>\n",
       "      <th>4</th>\n",
       "      <td>200389</td>\n",
       "      <td>J. Oblak</td>\n",
       "      <td>Jan Oblak</td>\n",
       "      <td>28</td>\n",
       "      <td>188</td>\n",
       "      <td>87</td>\n",
       "      <td>https://cdn.sofifa.com/players/200/389/22_60.png</td>\n",
       "      <td>Slovenia</td>\n",
       "      <td>91</td>\n",
       "      <td>93</td>\n",
       "      <td>...</td>\n",
       "      <td>38</td>\n",
       "      <td>41</td>\n",
       "      <td>38</td>\n",
       "      <td>35</td>\n",
       "      <td>39</td>\n",
       "      <td>35</td>\n",
       "      <td>35</td>\n",
       "      <td>36</td>\n",
       "      <td>35</td>\n",
       "      <td>92</td>\n",
       "    </tr>\n",
       "    <tr>\n",
       "      <th>...</th>\n",
       "      <td>...</td>\n",
       "      <td>...</td>\n",
       "      <td>...</td>\n",
       "      <td>...</td>\n",
       "      <td>...</td>\n",
       "      <td>...</td>\n",
       "      <td>...</td>\n",
       "      <td>...</td>\n",
       "      <td>...</td>\n",
       "      <td>...</td>\n",
       "      <td>...</td>\n",
       "      <td>...</td>\n",
       "      <td>...</td>\n",
       "      <td>...</td>\n",
       "      <td>...</td>\n",
       "      <td>...</td>\n",
       "      <td>...</td>\n",
       "      <td>...</td>\n",
       "      <td>...</td>\n",
       "      <td>...</td>\n",
       "      <td>...</td>\n",
       "    </tr>\n",
       "    <tr>\n",
       "      <th>95</th>\n",
       "      <td>205498</td>\n",
       "      <td>Jorginho</td>\n",
       "      <td>Luiz Frello Filho Jorge</td>\n",
       "      <td>29</td>\n",
       "      <td>180</td>\n",
       "      <td>68</td>\n",
       "      <td>https://cdn.sofifa.com/players/205/498/22_60.png</td>\n",
       "      <td>Italy</td>\n",
       "      <td>85</td>\n",
       "      <td>85</td>\n",
       "      <td>...</td>\n",
       "      <td>80</td>\n",
       "      <td>85</td>\n",
       "      <td>80</td>\n",
       "      <td>80</td>\n",
       "      <td>84</td>\n",
       "      <td>80</td>\n",
       "      <td>78</td>\n",
       "      <td>75</td>\n",
       "      <td>78</td>\n",
       "      <td>21</td>\n",
       "    </tr>\n",
       "    <tr>\n",
       "      <th>96</th>\n",
       "      <td>204963</td>\n",
       "      <td>Carvajal</td>\n",
       "      <td>Daniel Carvajal Ramos</td>\n",
       "      <td>29</td>\n",
       "      <td>173</td>\n",
       "      <td>73</td>\n",
       "      <td>https://cdn.sofifa.com/players/204/963/22_60.png</td>\n",
       "      <td>Spain</td>\n",
       "      <td>85</td>\n",
       "      <td>85</td>\n",
       "      <td>...</td>\n",
       "      <td>81</td>\n",
       "      <td>81</td>\n",
       "      <td>81</td>\n",
       "      <td>85</td>\n",
       "      <td>84</td>\n",
       "      <td>85</td>\n",
       "      <td>85</td>\n",
       "      <td>83</td>\n",
       "      <td>85</td>\n",
       "      <td>23</td>\n",
       "    </tr>\n",
       "    <tr>\n",
       "      <th>97</th>\n",
       "      <td>200458</td>\n",
       "      <td>L. Digne</td>\n",
       "      <td>Lucas Digne</td>\n",
       "      <td>27</td>\n",
       "      <td>178</td>\n",
       "      <td>74</td>\n",
       "      <td>https://cdn.sofifa.com/players/200/458/22_60.png</td>\n",
       "      <td>France</td>\n",
       "      <td>84</td>\n",
       "      <td>84</td>\n",
       "      <td>...</td>\n",
       "      <td>81</td>\n",
       "      <td>81</td>\n",
       "      <td>81</td>\n",
       "      <td>84</td>\n",
       "      <td>82</td>\n",
       "      <td>84</td>\n",
       "      <td>84</td>\n",
       "      <td>81</td>\n",
       "      <td>84</td>\n",
       "      <td>19</td>\n",
       "    </tr>\n",
       "    <tr>\n",
       "      <th>98</th>\n",
       "      <td>197445</td>\n",
       "      <td>D. Alaba</td>\n",
       "      <td>David Alaba</td>\n",
       "      <td>29</td>\n",
       "      <td>180</td>\n",
       "      <td>78</td>\n",
       "      <td>https://cdn.sofifa.com/players/197/445/22_60.png</td>\n",
       "      <td>Austria</td>\n",
       "      <td>84</td>\n",
       "      <td>84</td>\n",
       "      <td>...</td>\n",
       "      <td>82</td>\n",
       "      <td>84</td>\n",
       "      <td>82</td>\n",
       "      <td>84</td>\n",
       "      <td>84</td>\n",
       "      <td>84</td>\n",
       "      <td>84</td>\n",
       "      <td>84</td>\n",
       "      <td>84</td>\n",
       "      <td>21</td>\n",
       "    </tr>\n",
       "    <tr>\n",
       "      <th>99</th>\n",
       "      <td>198706</td>\n",
       "      <td>Luis Alberto</td>\n",
       "      <td>Luis Alberto Romero Alconchel</td>\n",
       "      <td>28</td>\n",
       "      <td>183</td>\n",
       "      <td>74</td>\n",
       "      <td>https://cdn.sofifa.com/players/198/706/22_60.png</td>\n",
       "      <td>Spain</td>\n",
       "      <td>84</td>\n",
       "      <td>84</td>\n",
       "      <td>...</td>\n",
       "      <td>82</td>\n",
       "      <td>84</td>\n",
       "      <td>82</td>\n",
       "      <td>71</td>\n",
       "      <td>73</td>\n",
       "      <td>71</td>\n",
       "      <td>67</td>\n",
       "      <td>61</td>\n",
       "      <td>67</td>\n",
       "      <td>18</td>\n",
       "    </tr>\n",
       "  </tbody>\n",
       "</table>\n",
       "<p>100 rows × 90 columns</p>\n",
       "</div>"
      ],
      "text/plain": [
       "        ID               Name                       FullName  Age  Height  \\\n",
       "0   158023           L. Messi                   Lionel Messi   34     170   \n",
       "1   188545     R. Lewandowski             Robert Lewandowski   32     185   \n",
       "2    20801  Cristiano Ronaldo   C. Ronaldo dos Santos Aveiro   36     187   \n",
       "3   231747          K. Mbappé                  Kylian Mbappé   22     182   \n",
       "4   200389           J. Oblak                      Jan Oblak   28     188   \n",
       "..     ...                ...                            ...  ...     ...   \n",
       "95  205498           Jorginho        Luiz Frello Filho Jorge   29     180   \n",
       "96  204963           Carvajal          Daniel Carvajal Ramos   29     173   \n",
       "97  200458           L. Digne                    Lucas Digne   27     178   \n",
       "98  197445           D. Alaba                    David Alaba   29     180   \n",
       "99  198706       Luis Alberto  Luis Alberto Romero Alconchel   28     183   \n",
       "\n",
       "    Weight                                          PhotoUrl Nationality  \\\n",
       "0       72  https://cdn.sofifa.com/players/158/023/22_60.png   Argentina   \n",
       "1       81  https://cdn.sofifa.com/players/188/545/22_60.png      Poland   \n",
       "2       83  https://cdn.sofifa.com/players/020/801/22_60.png    Portugal   \n",
       "3       73  https://cdn.sofifa.com/players/231/747/22_60.png      France   \n",
       "4       87  https://cdn.sofifa.com/players/200/389/22_60.png    Slovenia   \n",
       "..     ...                                               ...         ...   \n",
       "95      68  https://cdn.sofifa.com/players/205/498/22_60.png       Italy   \n",
       "96      73  https://cdn.sofifa.com/players/204/963/22_60.png       Spain   \n",
       "97      74  https://cdn.sofifa.com/players/200/458/22_60.png      France   \n",
       "98      78  https://cdn.sofifa.com/players/197/445/22_60.png     Austria   \n",
       "99      74  https://cdn.sofifa.com/players/198/706/22_60.png       Spain   \n",
       "\n",
       "    Overall  Potential  ...  LMRating  CMRating  RMRating LWBRating CDMRating  \\\n",
       "0        93         93  ...        93        90        93        69        67   \n",
       "1        92         92  ...        87        83        87        67        69   \n",
       "2        91         91  ...        89        81        89        66        62   \n",
       "3        91         95  ...        92        84        92        70        66   \n",
       "4        91         93  ...        38        41        38        35        39   \n",
       "..      ...        ...  ...       ...       ...       ...       ...       ...   \n",
       "95       85         85  ...        80        85        80        80        84   \n",
       "96       85         85  ...        81        81        81        85        84   \n",
       "97       84         84  ...        81        81        81        84        82   \n",
       "98       84         84  ...        82        84        82        84        84   \n",
       "99       84         84  ...        82        84        82        71        73   \n",
       "\n",
       "   RWBRating  LBRating  CBRating  RBRating GKRating  \n",
       "0         69        64        53        64       22  \n",
       "1         67        64        63        64       22  \n",
       "2         66        63        56        63       23  \n",
       "3         70        66        57        66       21  \n",
       "4         35        35        36        35       92  \n",
       "..       ...       ...       ...       ...      ...  \n",
       "95        80        78        75        78       21  \n",
       "96        85        85        83        85       23  \n",
       "97        84        84        81        84       19  \n",
       "98        84        84        84        84       21  \n",
       "99        71        67        61        67       18  \n",
       "\n",
       "[100 rows x 90 columns]"
      ]
     },
     "execution_count": 125,
     "metadata": {},
     "output_type": "execute_result"
    }
   ],
   "source": [
    "df=pd.read_csv('players_fifa22.csv')\n",
    "dfall=df.copy()\n",
    "df=df.iloc[:100,]\n",
    "df"
   ]
  },
  {
   "cell_type": "markdown",
   "metadata": {},
   "source": [
    "# Data Exploration"
   ]
  },
  {
   "cell_type": "markdown",
   "metadata": {},
   "source": [
    "### Some data exploration on the top 100 players in Fifa"
   ]
  },
  {
   "cell_type": "markdown",
   "metadata": {},
   "source": [
    "In the graph below there is the count of players by nation"
   ]
  },
  {
   "cell_type": "code",
   "execution_count": 126,
   "metadata": {},
   "outputs": [
    {
     "data": {
      "application/vnd.plotly.v1+json": {
       "config": {
        "plotlyServerURL": "https://plot.ly"
       },
       "data": [
        {
         "alignmentgroup": "True",
         "hovertemplate": "Nationality=%{x}<br>Count=%{y}<br>text=%{text}<extra></extra>",
         "legendgroup": "",
         "marker": {
          "color": "#636efa",
          "pattern": {
           "shape": ""
          }
         },
         "name": "",
         "offsetgroup": "",
         "orientation": "v",
         "showlegend": false,
         "text": [
          "1.00%",
          "6.00%",
          "1.00%",
          "5.00%",
          "8.00%",
          "1.00%",
          "1.00%",
          "1.00%",
          "1.00%",
          "7.00%",
          "9.00%",
          "1.00%",
          "10.00%",
          "1.00%",
          "7.00%",
          "1.00%",
          "1.00%",
          "5.00%",
          "1.00%",
          "1.00%",
          "2.00%",
          "5.00%",
          "1.00%",
          "2.00%",
          "1.00%",
          "1.00%",
          "2.00%",
          "14.00%",
          "1.00%",
          "2.00%"
         ],
         "textposition": "outside",
         "type": "bar",
         "x": [
          "Algeria",
          "Argentina",
          "Austria",
          "Belgium",
          "Brazil",
          "Costa Rica",
          "Croatia",
          "Denmark",
          "Egypt",
          "England",
          "France",
          "Gabon",
          "Germany",
          "Hungary",
          "Italy",
          "Korea Republic",
          "Morocco",
          "Netherlands",
          "Nigeria",
          "Norway",
          "Poland",
          "Portugal",
          "Scotland",
          "Senegal",
          "Serbia",
          "Slovakia",
          "Slovenia",
          "Spain",
          "Switzerland",
          "Uruguay"
         ],
         "xaxis": "x",
         "y": [
          1,
          6,
          1,
          5,
          8,
          1,
          1,
          1,
          1,
          7,
          9,
          1,
          10,
          1,
          7,
          1,
          1,
          5,
          1,
          1,
          2,
          5,
          1,
          2,
          1,
          1,
          2,
          14,
          1,
          2
         ],
         "yaxis": "y"
        }
       ],
       "layout": {
        "barmode": "group",
        "legend": {
         "tracegroupgap": 0
        },
        "margin": {
         "t": 60
        },
        "template": {
         "data": {
          "bar": [
           {
            "error_x": {
             "color": "#2a3f5f"
            },
            "error_y": {
             "color": "#2a3f5f"
            },
            "marker": {
             "line": {
              "color": "#E5ECF6",
              "width": 0.5
             },
             "pattern": {
              "fillmode": "overlay",
              "size": 10,
              "solidity": 0.2
             }
            },
            "type": "bar"
           }
          ],
          "barpolar": [
           {
            "marker": {
             "line": {
              "color": "#E5ECF6",
              "width": 0.5
             },
             "pattern": {
              "fillmode": "overlay",
              "size": 10,
              "solidity": 0.2
             }
            },
            "type": "barpolar"
           }
          ],
          "carpet": [
           {
            "aaxis": {
             "endlinecolor": "#2a3f5f",
             "gridcolor": "white",
             "linecolor": "white",
             "minorgridcolor": "white",
             "startlinecolor": "#2a3f5f"
            },
            "baxis": {
             "endlinecolor": "#2a3f5f",
             "gridcolor": "white",
             "linecolor": "white",
             "minorgridcolor": "white",
             "startlinecolor": "#2a3f5f"
            },
            "type": "carpet"
           }
          ],
          "choropleth": [
           {
            "colorbar": {
             "outlinewidth": 0,
             "ticks": ""
            },
            "type": "choropleth"
           }
          ],
          "contour": [
           {
            "colorbar": {
             "outlinewidth": 0,
             "ticks": ""
            },
            "colorscale": [
             [
              0,
              "#0d0887"
             ],
             [
              0.1111111111111111,
              "#46039f"
             ],
             [
              0.2222222222222222,
              "#7201a8"
             ],
             [
              0.3333333333333333,
              "#9c179e"
             ],
             [
              0.4444444444444444,
              "#bd3786"
             ],
             [
              0.5555555555555556,
              "#d8576b"
             ],
             [
              0.6666666666666666,
              "#ed7953"
             ],
             [
              0.7777777777777778,
              "#fb9f3a"
             ],
             [
              0.8888888888888888,
              "#fdca26"
             ],
             [
              1,
              "#f0f921"
             ]
            ],
            "type": "contour"
           }
          ],
          "contourcarpet": [
           {
            "colorbar": {
             "outlinewidth": 0,
             "ticks": ""
            },
            "type": "contourcarpet"
           }
          ],
          "heatmap": [
           {
            "colorbar": {
             "outlinewidth": 0,
             "ticks": ""
            },
            "colorscale": [
             [
              0,
              "#0d0887"
             ],
             [
              0.1111111111111111,
              "#46039f"
             ],
             [
              0.2222222222222222,
              "#7201a8"
             ],
             [
              0.3333333333333333,
              "#9c179e"
             ],
             [
              0.4444444444444444,
              "#bd3786"
             ],
             [
              0.5555555555555556,
              "#d8576b"
             ],
             [
              0.6666666666666666,
              "#ed7953"
             ],
             [
              0.7777777777777778,
              "#fb9f3a"
             ],
             [
              0.8888888888888888,
              "#fdca26"
             ],
             [
              1,
              "#f0f921"
             ]
            ],
            "type": "heatmap"
           }
          ],
          "heatmapgl": [
           {
            "colorbar": {
             "outlinewidth": 0,
             "ticks": ""
            },
            "colorscale": [
             [
              0,
              "#0d0887"
             ],
             [
              0.1111111111111111,
              "#46039f"
             ],
             [
              0.2222222222222222,
              "#7201a8"
             ],
             [
              0.3333333333333333,
              "#9c179e"
             ],
             [
              0.4444444444444444,
              "#bd3786"
             ],
             [
              0.5555555555555556,
              "#d8576b"
             ],
             [
              0.6666666666666666,
              "#ed7953"
             ],
             [
              0.7777777777777778,
              "#fb9f3a"
             ],
             [
              0.8888888888888888,
              "#fdca26"
             ],
             [
              1,
              "#f0f921"
             ]
            ],
            "type": "heatmapgl"
           }
          ],
          "histogram": [
           {
            "marker": {
             "pattern": {
              "fillmode": "overlay",
              "size": 10,
              "solidity": 0.2
             }
            },
            "type": "histogram"
           }
          ],
          "histogram2d": [
           {
            "colorbar": {
             "outlinewidth": 0,
             "ticks": ""
            },
            "colorscale": [
             [
              0,
              "#0d0887"
             ],
             [
              0.1111111111111111,
              "#46039f"
             ],
             [
              0.2222222222222222,
              "#7201a8"
             ],
             [
              0.3333333333333333,
              "#9c179e"
             ],
             [
              0.4444444444444444,
              "#bd3786"
             ],
             [
              0.5555555555555556,
              "#d8576b"
             ],
             [
              0.6666666666666666,
              "#ed7953"
             ],
             [
              0.7777777777777778,
              "#fb9f3a"
             ],
             [
              0.8888888888888888,
              "#fdca26"
             ],
             [
              1,
              "#f0f921"
             ]
            ],
            "type": "histogram2d"
           }
          ],
          "histogram2dcontour": [
           {
            "colorbar": {
             "outlinewidth": 0,
             "ticks": ""
            },
            "colorscale": [
             [
              0,
              "#0d0887"
             ],
             [
              0.1111111111111111,
              "#46039f"
             ],
             [
              0.2222222222222222,
              "#7201a8"
             ],
             [
              0.3333333333333333,
              "#9c179e"
             ],
             [
              0.4444444444444444,
              "#bd3786"
             ],
             [
              0.5555555555555556,
              "#d8576b"
             ],
             [
              0.6666666666666666,
              "#ed7953"
             ],
             [
              0.7777777777777778,
              "#fb9f3a"
             ],
             [
              0.8888888888888888,
              "#fdca26"
             ],
             [
              1,
              "#f0f921"
             ]
            ],
            "type": "histogram2dcontour"
           }
          ],
          "mesh3d": [
           {
            "colorbar": {
             "outlinewidth": 0,
             "ticks": ""
            },
            "type": "mesh3d"
           }
          ],
          "parcoords": [
           {
            "line": {
             "colorbar": {
              "outlinewidth": 0,
              "ticks": ""
             }
            },
            "type": "parcoords"
           }
          ],
          "pie": [
           {
            "automargin": true,
            "type": "pie"
           }
          ],
          "scatter": [
           {
            "marker": {
             "colorbar": {
              "outlinewidth": 0,
              "ticks": ""
             }
            },
            "type": "scatter"
           }
          ],
          "scatter3d": [
           {
            "line": {
             "colorbar": {
              "outlinewidth": 0,
              "ticks": ""
             }
            },
            "marker": {
             "colorbar": {
              "outlinewidth": 0,
              "ticks": ""
             }
            },
            "type": "scatter3d"
           }
          ],
          "scattercarpet": [
           {
            "marker": {
             "colorbar": {
              "outlinewidth": 0,
              "ticks": ""
             }
            },
            "type": "scattercarpet"
           }
          ],
          "scattergeo": [
           {
            "marker": {
             "colorbar": {
              "outlinewidth": 0,
              "ticks": ""
             }
            },
            "type": "scattergeo"
           }
          ],
          "scattergl": [
           {
            "marker": {
             "colorbar": {
              "outlinewidth": 0,
              "ticks": ""
             }
            },
            "type": "scattergl"
           }
          ],
          "scattermapbox": [
           {
            "marker": {
             "colorbar": {
              "outlinewidth": 0,
              "ticks": ""
             }
            },
            "type": "scattermapbox"
           }
          ],
          "scatterpolar": [
           {
            "marker": {
             "colorbar": {
              "outlinewidth": 0,
              "ticks": ""
             }
            },
            "type": "scatterpolar"
           }
          ],
          "scatterpolargl": [
           {
            "marker": {
             "colorbar": {
              "outlinewidth": 0,
              "ticks": ""
             }
            },
            "type": "scatterpolargl"
           }
          ],
          "scatterternary": [
           {
            "marker": {
             "colorbar": {
              "outlinewidth": 0,
              "ticks": ""
             }
            },
            "type": "scatterternary"
           }
          ],
          "surface": [
           {
            "colorbar": {
             "outlinewidth": 0,
             "ticks": ""
            },
            "colorscale": [
             [
              0,
              "#0d0887"
             ],
             [
              0.1111111111111111,
              "#46039f"
             ],
             [
              0.2222222222222222,
              "#7201a8"
             ],
             [
              0.3333333333333333,
              "#9c179e"
             ],
             [
              0.4444444444444444,
              "#bd3786"
             ],
             [
              0.5555555555555556,
              "#d8576b"
             ],
             [
              0.6666666666666666,
              "#ed7953"
             ],
             [
              0.7777777777777778,
              "#fb9f3a"
             ],
             [
              0.8888888888888888,
              "#fdca26"
             ],
             [
              1,
              "#f0f921"
             ]
            ],
            "type": "surface"
           }
          ],
          "table": [
           {
            "cells": {
             "fill": {
              "color": "#EBF0F8"
             },
             "line": {
              "color": "white"
             }
            },
            "header": {
             "fill": {
              "color": "#C8D4E3"
             },
             "line": {
              "color": "white"
             }
            },
            "type": "table"
           }
          ]
         },
         "layout": {
          "annotationdefaults": {
           "arrowcolor": "#2a3f5f",
           "arrowhead": 0,
           "arrowwidth": 1
          },
          "autotypenumbers": "strict",
          "coloraxis": {
           "colorbar": {
            "outlinewidth": 0,
            "ticks": ""
           }
          },
          "colorscale": {
           "diverging": [
            [
             0,
             "#8e0152"
            ],
            [
             0.1,
             "#c51b7d"
            ],
            [
             0.2,
             "#de77ae"
            ],
            [
             0.3,
             "#f1b6da"
            ],
            [
             0.4,
             "#fde0ef"
            ],
            [
             0.5,
             "#f7f7f7"
            ],
            [
             0.6,
             "#e6f5d0"
            ],
            [
             0.7,
             "#b8e186"
            ],
            [
             0.8,
             "#7fbc41"
            ],
            [
             0.9,
             "#4d9221"
            ],
            [
             1,
             "#276419"
            ]
           ],
           "sequential": [
            [
             0,
             "#0d0887"
            ],
            [
             0.1111111111111111,
             "#46039f"
            ],
            [
             0.2222222222222222,
             "#7201a8"
            ],
            [
             0.3333333333333333,
             "#9c179e"
            ],
            [
             0.4444444444444444,
             "#bd3786"
            ],
            [
             0.5555555555555556,
             "#d8576b"
            ],
            [
             0.6666666666666666,
             "#ed7953"
            ],
            [
             0.7777777777777778,
             "#fb9f3a"
            ],
            [
             0.8888888888888888,
             "#fdca26"
            ],
            [
             1,
             "#f0f921"
            ]
           ],
           "sequentialminus": [
            [
             0,
             "#0d0887"
            ],
            [
             0.1111111111111111,
             "#46039f"
            ],
            [
             0.2222222222222222,
             "#7201a8"
            ],
            [
             0.3333333333333333,
             "#9c179e"
            ],
            [
             0.4444444444444444,
             "#bd3786"
            ],
            [
             0.5555555555555556,
             "#d8576b"
            ],
            [
             0.6666666666666666,
             "#ed7953"
            ],
            [
             0.7777777777777778,
             "#fb9f3a"
            ],
            [
             0.8888888888888888,
             "#fdca26"
            ],
            [
             1,
             "#f0f921"
            ]
           ]
          },
          "colorway": [
           "#636efa",
           "#EF553B",
           "#00cc96",
           "#ab63fa",
           "#FFA15A",
           "#19d3f3",
           "#FF6692",
           "#B6E880",
           "#FF97FF",
           "#FECB52"
          ],
          "font": {
           "color": "#2a3f5f"
          },
          "geo": {
           "bgcolor": "white",
           "lakecolor": "white",
           "landcolor": "#E5ECF6",
           "showlakes": true,
           "showland": true,
           "subunitcolor": "white"
          },
          "hoverlabel": {
           "align": "left"
          },
          "hovermode": "closest",
          "mapbox": {
           "style": "light"
          },
          "paper_bgcolor": "white",
          "plot_bgcolor": "#E5ECF6",
          "polar": {
           "angularaxis": {
            "gridcolor": "white",
            "linecolor": "white",
            "ticks": ""
           },
           "bgcolor": "#E5ECF6",
           "radialaxis": {
            "gridcolor": "white",
            "linecolor": "white",
            "ticks": ""
           }
          },
          "scene": {
           "xaxis": {
            "backgroundcolor": "#E5ECF6",
            "gridcolor": "white",
            "gridwidth": 2,
            "linecolor": "white",
            "showbackground": true,
            "ticks": "",
            "zerolinecolor": "white"
           },
           "yaxis": {
            "backgroundcolor": "#E5ECF6",
            "gridcolor": "white",
            "gridwidth": 2,
            "linecolor": "white",
            "showbackground": true,
            "ticks": "",
            "zerolinecolor": "white"
           },
           "zaxis": {
            "backgroundcolor": "#E5ECF6",
            "gridcolor": "white",
            "gridwidth": 2,
            "linecolor": "white",
            "showbackground": true,
            "ticks": "",
            "zerolinecolor": "white"
           }
          },
          "shapedefaults": {
           "line": {
            "color": "#2a3f5f"
           }
          },
          "ternary": {
           "aaxis": {
            "gridcolor": "white",
            "linecolor": "white",
            "ticks": ""
           },
           "baxis": {
            "gridcolor": "white",
            "linecolor": "white",
            "ticks": ""
           },
           "bgcolor": "#E5ECF6",
           "caxis": {
            "gridcolor": "white",
            "linecolor": "white",
            "ticks": ""
           }
          },
          "title": {
           "x": 0.05
          },
          "xaxis": {
           "automargin": true,
           "gridcolor": "white",
           "linecolor": "white",
           "ticks": "",
           "title": {
            "standoff": 15
           },
           "zerolinecolor": "white",
           "zerolinewidth": 2
          },
          "yaxis": {
           "automargin": true,
           "gridcolor": "white",
           "linecolor": "white",
           "ticks": "",
           "title": {
            "standoff": 15
           },
           "zerolinecolor": "white",
           "zerolinewidth": 2
          }
         }
        },
        "xaxis": {
         "anchor": "y",
         "domain": [
          0,
          1
         ],
         "title": {
          "text": "Nationality"
         }
        },
        "yaxis": {
         "anchor": "x",
         "domain": [
          0,
          1
         ],
         "title": {
          "text": "Count"
         }
        }
       }
      }
     },
     "metadata": {},
     "output_type": "display_data"
    }
   ],
   "source": [
    "dfnationscount=df.iloc[:100,]\n",
    "n_records = len(dfnationscount)\n",
    "dfnationscount = dfnationscount.groupby(['Nationality']).size().to_frame('Count').reset_index()\n",
    "percs = dfnationscount['Count'] *100 /sum(dfnationscount['Count'])\n",
    "percs = percs.apply(lambda x: '{0:1.2f}%'.format(x))\n",
    "fig4 = px.bar(dfnationscount, x='Nationality', y='Count', text=percs ,barmode='group')\n",
    "fig4.update_traces(textposition='outside')\n",
    "fig4.show()\n",
    "#Count of players in the top 100 by nation \n",
    "#Most of the players are spanish,german,french or brazilian "
   ]
  },
  {
   "cell_type": "markdown",
   "metadata": {},
   "source": [
    "This graph shows the teams with the highest mean rating. We use the full dataset,thus including all the 19200 players "
   ]
  },
  {
   "cell_type": "code",
   "execution_count": 127,
   "metadata": {},
   "outputs": [
    {
     "data": {
      "application/vnd.plotly.v1+json": {
       "config": {
        "plotlyServerURL": "https://plot.ly"
       },
       "data": [
        {
         "alignmentgroup": "True",
         "hovertemplate": "Club=%{x}<br>Overall=%{y}<extra></extra>",
         "legendgroup": "Paris Saint-Germain",
         "marker": {
          "color": "#D2E0A3",
          "pattern": {
           "shape": ""
          }
         },
         "name": "Paris Saint-Germain",
         "offsetgroup": "Paris Saint-Germain",
         "orientation": "v",
         "showlegend": true,
         "textposition": "auto",
         "type": "bar",
         "x": [
          "Paris Saint-Germain"
         ],
         "xaxis": "x",
         "y": [
          79.45454545454545
         ],
         "yaxis": "y"
        },
        {
         "alignmentgroup": "True",
         "hovertemplate": "Club=%{x}<br>Overall=%{y}<extra></extra>",
         "legendgroup": "Inter",
         "marker": {
          "color": "#00678a",
          "pattern": {
           "shape": ""
          }
         },
         "name": "Inter",
         "offsetgroup": "Inter",
         "orientation": "v",
         "showlegend": true,
         "textposition": "auto",
         "type": "bar",
         "x": [
          "Inter"
         ],
         "xaxis": "x",
         "y": [
          78.72413793103448
         ],
         "yaxis": "y"
        },
        {
         "alignmentgroup": "True",
         "hovertemplate": "Club=%{x}<br>Overall=%{y}<extra></extra>",
         "legendgroup": "FC Bayern München",
         "marker": {
          "color": "#f19670",
          "pattern": {
           "shape": ""
          }
         },
         "name": "FC Bayern München",
         "offsetgroup": "FC Bayern München",
         "orientation": "v",
         "showlegend": true,
         "textposition": "auto",
         "type": "bar",
         "x": [
          "FC Bayern München"
         ],
         "xaxis": "x",
         "y": [
          78.10714285714286
         ],
         "yaxis": "y"
        },
        {
         "alignmentgroup": "True",
         "hovertemplate": "Club=%{x}<br>Overall=%{y}<extra></extra>",
         "legendgroup": "Manchester United",
         "marker": {
          "color": "#5698c4",
          "pattern": {
           "shape": ""
          }
         },
         "name": "Manchester United",
         "offsetgroup": "Manchester United",
         "orientation": "v",
         "showlegend": true,
         "textposition": "auto",
         "type": "bar",
         "x": [
          "Manchester United"
         ],
         "xaxis": "x",
         "y": [
          78
         ],
         "yaxis": "y"
        },
        {
         "alignmentgroup": "True",
         "hovertemplate": "Club=%{x}<br>Overall=%{y}<extra></extra>",
         "legendgroup": "Real Madrid CF",
         "marker": {
          "color": "#e279a3",
          "pattern": {
           "shape": ""
          }
         },
         "name": "Real Madrid CF",
         "offsetgroup": "Real Madrid CF",
         "orientation": "v",
         "showlegend": true,
         "textposition": "auto",
         "type": "bar",
         "x": [
          "Real Madrid CF"
         ],
         "xaxis": "x",
         "y": [
          77.75757575757575
         ],
         "yaxis": "y"
        },
        {
         "alignmentgroup": "True",
         "hovertemplate": "Club=%{x}<br>Overall=%{y}<extra></extra>",
         "legendgroup": "Napoli",
         "marker": {
          "color": "#796E8C",
          "pattern": {
           "shape": ""
          }
         },
         "name": "Napoli",
         "offsetgroup": "Napoli",
         "orientation": "v",
         "showlegend": true,
         "textposition": "auto",
         "type": "bar",
         "x": [
          "Napoli"
         ],
         "xaxis": "x",
         "y": [
          77.5
         ],
         "yaxis": "y"
        },
        {
         "alignmentgroup": "True",
         "hovertemplate": "Club=%{x}<br>Overall=%{y}<extra></extra>",
         "legendgroup": "Atalanta",
         "marker": {
          "color": "#e0598b",
          "pattern": {
           "shape": ""
          }
         },
         "name": "Atalanta",
         "offsetgroup": "Atalanta",
         "orientation": "v",
         "showlegend": true,
         "textposition": "auto",
         "type": "bar",
         "x": [
          "Atalanta"
         ],
         "xaxis": "x",
         "y": [
          77.48
         ],
         "yaxis": "y"
        },
        {
         "alignmentgroup": "True",
         "hovertemplate": "Club=%{x}<br>Overall=%{y}<extra></extra>",
         "legendgroup": "Real Sociedad",
         "marker": {
          "color": "#51574a",
          "pattern": {
           "shape": ""
          }
         },
         "name": "Real Sociedad",
         "offsetgroup": "Real Sociedad",
         "orientation": "v",
         "showlegend": true,
         "textposition": "auto",
         "type": "bar",
         "x": [
          "Real Sociedad"
         ],
         "xaxis": "x",
         "y": [
          77.23076923076923
         ],
         "yaxis": "y"
        },
        {
         "alignmentgroup": "True",
         "hovertemplate": "Club=%{x}<br>Overall=%{y}<extra></extra>",
         "legendgroup": "SL Benfica",
         "marker": {
          "color": "#636efa",
          "pattern": {
           "shape": ""
          }
         },
         "name": "SL Benfica",
         "offsetgroup": "SL Benfica",
         "orientation": "v",
         "showlegend": true,
         "textposition": "auto",
         "type": "bar",
         "x": [
          "SL Benfica"
         ],
         "xaxis": "x",
         "y": [
          76.96428571428571
         ],
         "yaxis": "y"
        },
        {
         "alignmentgroup": "True",
         "hovertemplate": "Club=%{x}<br>Overall=%{y}<extra></extra>",
         "legendgroup": "FC Barcelona",
         "marker": {
          "color": "#e9d78e",
          "pattern": {
           "shape": ""
          }
         },
         "name": "FC Barcelona",
         "offsetgroup": "FC Barcelona",
         "orientation": "v",
         "showlegend": true,
         "textposition": "auto",
         "type": "bar",
         "x": [
          "FC Barcelona"
         ],
         "xaxis": "x",
         "y": [
          76.8529411764706
         ],
         "yaxis": "y"
        }
       ],
       "layout": {
        "barmode": "relative",
        "legend": {
         "title": {
          "text": "Club"
         },
         "tracegroupgap": 0
        },
        "template": {
         "data": {
          "bar": [
           {
            "error_x": {
             "color": "#2a3f5f"
            },
            "error_y": {
             "color": "#2a3f5f"
            },
            "marker": {
             "line": {
              "color": "#E5ECF6",
              "width": 0.5
             },
             "pattern": {
              "fillmode": "overlay",
              "size": 10,
              "solidity": 0.2
             }
            },
            "type": "bar"
           }
          ],
          "barpolar": [
           {
            "marker": {
             "line": {
              "color": "#E5ECF6",
              "width": 0.5
             },
             "pattern": {
              "fillmode": "overlay",
              "size": 10,
              "solidity": 0.2
             }
            },
            "type": "barpolar"
           }
          ],
          "carpet": [
           {
            "aaxis": {
             "endlinecolor": "#2a3f5f",
             "gridcolor": "white",
             "linecolor": "white",
             "minorgridcolor": "white",
             "startlinecolor": "#2a3f5f"
            },
            "baxis": {
             "endlinecolor": "#2a3f5f",
             "gridcolor": "white",
             "linecolor": "white",
             "minorgridcolor": "white",
             "startlinecolor": "#2a3f5f"
            },
            "type": "carpet"
           }
          ],
          "choropleth": [
           {
            "colorbar": {
             "outlinewidth": 0,
             "ticks": ""
            },
            "type": "choropleth"
           }
          ],
          "contour": [
           {
            "colorbar": {
             "outlinewidth": 0,
             "ticks": ""
            },
            "colorscale": [
             [
              0,
              "#0d0887"
             ],
             [
              0.1111111111111111,
              "#46039f"
             ],
             [
              0.2222222222222222,
              "#7201a8"
             ],
             [
              0.3333333333333333,
              "#9c179e"
             ],
             [
              0.4444444444444444,
              "#bd3786"
             ],
             [
              0.5555555555555556,
              "#d8576b"
             ],
             [
              0.6666666666666666,
              "#ed7953"
             ],
             [
              0.7777777777777778,
              "#fb9f3a"
             ],
             [
              0.8888888888888888,
              "#fdca26"
             ],
             [
              1,
              "#f0f921"
             ]
            ],
            "type": "contour"
           }
          ],
          "contourcarpet": [
           {
            "colorbar": {
             "outlinewidth": 0,
             "ticks": ""
            },
            "type": "contourcarpet"
           }
          ],
          "heatmap": [
           {
            "colorbar": {
             "outlinewidth": 0,
             "ticks": ""
            },
            "colorscale": [
             [
              0,
              "#0d0887"
             ],
             [
              0.1111111111111111,
              "#46039f"
             ],
             [
              0.2222222222222222,
              "#7201a8"
             ],
             [
              0.3333333333333333,
              "#9c179e"
             ],
             [
              0.4444444444444444,
              "#bd3786"
             ],
             [
              0.5555555555555556,
              "#d8576b"
             ],
             [
              0.6666666666666666,
              "#ed7953"
             ],
             [
              0.7777777777777778,
              "#fb9f3a"
             ],
             [
              0.8888888888888888,
              "#fdca26"
             ],
             [
              1,
              "#f0f921"
             ]
            ],
            "type": "heatmap"
           }
          ],
          "heatmapgl": [
           {
            "colorbar": {
             "outlinewidth": 0,
             "ticks": ""
            },
            "colorscale": [
             [
              0,
              "#0d0887"
             ],
             [
              0.1111111111111111,
              "#46039f"
             ],
             [
              0.2222222222222222,
              "#7201a8"
             ],
             [
              0.3333333333333333,
              "#9c179e"
             ],
             [
              0.4444444444444444,
              "#bd3786"
             ],
             [
              0.5555555555555556,
              "#d8576b"
             ],
             [
              0.6666666666666666,
              "#ed7953"
             ],
             [
              0.7777777777777778,
              "#fb9f3a"
             ],
             [
              0.8888888888888888,
              "#fdca26"
             ],
             [
              1,
              "#f0f921"
             ]
            ],
            "type": "heatmapgl"
           }
          ],
          "histogram": [
           {
            "marker": {
             "pattern": {
              "fillmode": "overlay",
              "size": 10,
              "solidity": 0.2
             }
            },
            "type": "histogram"
           }
          ],
          "histogram2d": [
           {
            "colorbar": {
             "outlinewidth": 0,
             "ticks": ""
            },
            "colorscale": [
             [
              0,
              "#0d0887"
             ],
             [
              0.1111111111111111,
              "#46039f"
             ],
             [
              0.2222222222222222,
              "#7201a8"
             ],
             [
              0.3333333333333333,
              "#9c179e"
             ],
             [
              0.4444444444444444,
              "#bd3786"
             ],
             [
              0.5555555555555556,
              "#d8576b"
             ],
             [
              0.6666666666666666,
              "#ed7953"
             ],
             [
              0.7777777777777778,
              "#fb9f3a"
             ],
             [
              0.8888888888888888,
              "#fdca26"
             ],
             [
              1,
              "#f0f921"
             ]
            ],
            "type": "histogram2d"
           }
          ],
          "histogram2dcontour": [
           {
            "colorbar": {
             "outlinewidth": 0,
             "ticks": ""
            },
            "colorscale": [
             [
              0,
              "#0d0887"
             ],
             [
              0.1111111111111111,
              "#46039f"
             ],
             [
              0.2222222222222222,
              "#7201a8"
             ],
             [
              0.3333333333333333,
              "#9c179e"
             ],
             [
              0.4444444444444444,
              "#bd3786"
             ],
             [
              0.5555555555555556,
              "#d8576b"
             ],
             [
              0.6666666666666666,
              "#ed7953"
             ],
             [
              0.7777777777777778,
              "#fb9f3a"
             ],
             [
              0.8888888888888888,
              "#fdca26"
             ],
             [
              1,
              "#f0f921"
             ]
            ],
            "type": "histogram2dcontour"
           }
          ],
          "mesh3d": [
           {
            "colorbar": {
             "outlinewidth": 0,
             "ticks": ""
            },
            "type": "mesh3d"
           }
          ],
          "parcoords": [
           {
            "line": {
             "colorbar": {
              "outlinewidth": 0,
              "ticks": ""
             }
            },
            "type": "parcoords"
           }
          ],
          "pie": [
           {
            "automargin": true,
            "type": "pie"
           }
          ],
          "scatter": [
           {
            "marker": {
             "colorbar": {
              "outlinewidth": 0,
              "ticks": ""
             }
            },
            "type": "scatter"
           }
          ],
          "scatter3d": [
           {
            "line": {
             "colorbar": {
              "outlinewidth": 0,
              "ticks": ""
             }
            },
            "marker": {
             "colorbar": {
              "outlinewidth": 0,
              "ticks": ""
             }
            },
            "type": "scatter3d"
           }
          ],
          "scattercarpet": [
           {
            "marker": {
             "colorbar": {
              "outlinewidth": 0,
              "ticks": ""
             }
            },
            "type": "scattercarpet"
           }
          ],
          "scattergeo": [
           {
            "marker": {
             "colorbar": {
              "outlinewidth": 0,
              "ticks": ""
             }
            },
            "type": "scattergeo"
           }
          ],
          "scattergl": [
           {
            "marker": {
             "colorbar": {
              "outlinewidth": 0,
              "ticks": ""
             }
            },
            "type": "scattergl"
           }
          ],
          "scattermapbox": [
           {
            "marker": {
             "colorbar": {
              "outlinewidth": 0,
              "ticks": ""
             }
            },
            "type": "scattermapbox"
           }
          ],
          "scatterpolar": [
           {
            "marker": {
             "colorbar": {
              "outlinewidth": 0,
              "ticks": ""
             }
            },
            "type": "scatterpolar"
           }
          ],
          "scatterpolargl": [
           {
            "marker": {
             "colorbar": {
              "outlinewidth": 0,
              "ticks": ""
             }
            },
            "type": "scatterpolargl"
           }
          ],
          "scatterternary": [
           {
            "marker": {
             "colorbar": {
              "outlinewidth": 0,
              "ticks": ""
             }
            },
            "type": "scatterternary"
           }
          ],
          "surface": [
           {
            "colorbar": {
             "outlinewidth": 0,
             "ticks": ""
            },
            "colorscale": [
             [
              0,
              "#0d0887"
             ],
             [
              0.1111111111111111,
              "#46039f"
             ],
             [
              0.2222222222222222,
              "#7201a8"
             ],
             [
              0.3333333333333333,
              "#9c179e"
             ],
             [
              0.4444444444444444,
              "#bd3786"
             ],
             [
              0.5555555555555556,
              "#d8576b"
             ],
             [
              0.6666666666666666,
              "#ed7953"
             ],
             [
              0.7777777777777778,
              "#fb9f3a"
             ],
             [
              0.8888888888888888,
              "#fdca26"
             ],
             [
              1,
              "#f0f921"
             ]
            ],
            "type": "surface"
           }
          ],
          "table": [
           {
            "cells": {
             "fill": {
              "color": "#EBF0F8"
             },
             "line": {
              "color": "white"
             }
            },
            "header": {
             "fill": {
              "color": "#C8D4E3"
             },
             "line": {
              "color": "white"
             }
            },
            "type": "table"
           }
          ]
         },
         "layout": {
          "annotationdefaults": {
           "arrowcolor": "#2a3f5f",
           "arrowhead": 0,
           "arrowwidth": 1
          },
          "autotypenumbers": "strict",
          "coloraxis": {
           "colorbar": {
            "outlinewidth": 0,
            "ticks": ""
           }
          },
          "colorscale": {
           "diverging": [
            [
             0,
             "#8e0152"
            ],
            [
             0.1,
             "#c51b7d"
            ],
            [
             0.2,
             "#de77ae"
            ],
            [
             0.3,
             "#f1b6da"
            ],
            [
             0.4,
             "#fde0ef"
            ],
            [
             0.5,
             "#f7f7f7"
            ],
            [
             0.6,
             "#e6f5d0"
            ],
            [
             0.7,
             "#b8e186"
            ],
            [
             0.8,
             "#7fbc41"
            ],
            [
             0.9,
             "#4d9221"
            ],
            [
             1,
             "#276419"
            ]
           ],
           "sequential": [
            [
             0,
             "#0d0887"
            ],
            [
             0.1111111111111111,
             "#46039f"
            ],
            [
             0.2222222222222222,
             "#7201a8"
            ],
            [
             0.3333333333333333,
             "#9c179e"
            ],
            [
             0.4444444444444444,
             "#bd3786"
            ],
            [
             0.5555555555555556,
             "#d8576b"
            ],
            [
             0.6666666666666666,
             "#ed7953"
            ],
            [
             0.7777777777777778,
             "#fb9f3a"
            ],
            [
             0.8888888888888888,
             "#fdca26"
            ],
            [
             1,
             "#f0f921"
            ]
           ],
           "sequentialminus": [
            [
             0,
             "#0d0887"
            ],
            [
             0.1111111111111111,
             "#46039f"
            ],
            [
             0.2222222222222222,
             "#7201a8"
            ],
            [
             0.3333333333333333,
             "#9c179e"
            ],
            [
             0.4444444444444444,
             "#bd3786"
            ],
            [
             0.5555555555555556,
             "#d8576b"
            ],
            [
             0.6666666666666666,
             "#ed7953"
            ],
            [
             0.7777777777777778,
             "#fb9f3a"
            ],
            [
             0.8888888888888888,
             "#fdca26"
            ],
            [
             1,
             "#f0f921"
            ]
           ]
          },
          "colorway": [
           "#636efa",
           "#EF553B",
           "#00cc96",
           "#ab63fa",
           "#FFA15A",
           "#19d3f3",
           "#FF6692",
           "#B6E880",
           "#FF97FF",
           "#FECB52"
          ],
          "font": {
           "color": "#2a3f5f"
          },
          "geo": {
           "bgcolor": "white",
           "lakecolor": "white",
           "landcolor": "#E5ECF6",
           "showlakes": true,
           "showland": true,
           "subunitcolor": "white"
          },
          "hoverlabel": {
           "align": "left"
          },
          "hovermode": "closest",
          "mapbox": {
           "style": "light"
          },
          "paper_bgcolor": "white",
          "plot_bgcolor": "#E5ECF6",
          "polar": {
           "angularaxis": {
            "gridcolor": "white",
            "linecolor": "white",
            "ticks": ""
           },
           "bgcolor": "#E5ECF6",
           "radialaxis": {
            "gridcolor": "white",
            "linecolor": "white",
            "ticks": ""
           }
          },
          "scene": {
           "xaxis": {
            "backgroundcolor": "#E5ECF6",
            "gridcolor": "white",
            "gridwidth": 2,
            "linecolor": "white",
            "showbackground": true,
            "ticks": "",
            "zerolinecolor": "white"
           },
           "yaxis": {
            "backgroundcolor": "#E5ECF6",
            "gridcolor": "white",
            "gridwidth": 2,
            "linecolor": "white",
            "showbackground": true,
            "ticks": "",
            "zerolinecolor": "white"
           },
           "zaxis": {
            "backgroundcolor": "#E5ECF6",
            "gridcolor": "white",
            "gridwidth": 2,
            "linecolor": "white",
            "showbackground": true,
            "ticks": "",
            "zerolinecolor": "white"
           }
          },
          "shapedefaults": {
           "line": {
            "color": "#2a3f5f"
           }
          },
          "ternary": {
           "aaxis": {
            "gridcolor": "white",
            "linecolor": "white",
            "ticks": ""
           },
           "baxis": {
            "gridcolor": "white",
            "linecolor": "white",
            "ticks": ""
           },
           "bgcolor": "#E5ECF6",
           "caxis": {
            "gridcolor": "white",
            "linecolor": "white",
            "ticks": ""
           }
          },
          "title": {
           "x": 0.05
          },
          "xaxis": {
           "automargin": true,
           "gridcolor": "white",
           "linecolor": "white",
           "ticks": "",
           "title": {
            "standoff": 15
           },
           "zerolinecolor": "white",
           "zerolinewidth": 2
          },
          "yaxis": {
           "automargin": true,
           "gridcolor": "white",
           "linecolor": "white",
           "ticks": "",
           "title": {
            "standoff": 15
           },
           "zerolinecolor": "white",
           "zerolinewidth": 2
          }
         }
        },
        "title": {
         "text": "Top 10 Clubs for mean of Overall of players  "
        },
        "uniformtext": {
         "minsize": 0.4
        },
        "xaxis": {
         "anchor": "y",
         "categoryarray": [
          "Paris Saint-Germain",
          "Inter",
          "FC Bayern München",
          "Manchester United",
          "Real Madrid CF",
          "Napoli",
          "Atalanta",
          "Real Sociedad",
          "SL Benfica",
          "FC Barcelona"
         ],
         "categoryorder": "array",
         "domain": [
          0,
          1
         ],
         "tickangle": 90,
         "title": {
          "text": "Clubs"
         }
        },
        "yaxis": {
         "anchor": "x",
         "domain": [
          0,
          1
         ],
         "range": [
          76,
          80
         ],
         "title": {
          "text": "Overall"
         }
        }
       }
      }
     },
     "metadata": {},
     "output_type": "display_data"
    }
   ],
   "source": [
    "df_plt1 = dfall.groupby('Club').mean().reset_index()\n",
    "df_plt1=df_plt1.sort_values(by = 'Overall',ascending=False)\n",
    "df_plt1=df_plt1.iloc[ 1:11, :]\n",
    "df_plt1=df_plt1.loc[:,['Overall','Club']]\n",
    "fig1= px.bar(df_plt1, x = 'Club', y = 'Overall', color='Club',color_discrete_map={\"Paris Saint-Germain\":\"#D2E0A3\", \"Inter\":\"#00678a\",\"FC Bayern München\":\"#f19670\",\"Napoli\":\"#796E8C\",\"Real Madrid CF\":\"#e279a3\", \"Manchester United\":\"#5698c4\", \"Atalanta\":\"#e0598b\", \"FC Barcelona\":\"#e9d78e\", \"Real Sociedad\":\"#51574a\", \"SL Benefica\":\"#4e2472\"}, title = 'Top 10 Clubs for mean of Overall of players  ')\n",
    "fig1.update_layout(xaxis_tickangle=90, xaxis_title = 'Clubs')\n",
    "fig1.update_layout(uniformtext_minsize=0.4)\n",
    "fig1.update_yaxes(range=[76, 80])\n",
    "#PSG , Inter (Obviously) and Bayer Munich are the teams whose players have highest mean rating (even players not included in the top 100)"
   ]
  },
  {
   "cell_type": "markdown",
   "metadata": {},
   "source": [
    "We plot another bar chart as before but restricting the dataset to only the best 100 players"
   ]
  },
  {
   "cell_type": "code",
   "execution_count": 128,
   "metadata": {},
   "outputs": [
    {
     "data": {
      "application/vnd.plotly.v1+json": {
       "config": {
        "plotlyServerURL": "https://plot.ly"
       },
       "data": [
        {
         "alignmentgroup": "True",
         "hovertemplate": "Club=%{x}<br>Overall=%{y}<extra></extra>",
         "legendgroup": "Paris Saint-Germain",
         "marker": {
          "color": "#D2E0A3",
          "pattern": {
           "shape": ""
          }
         },
         "name": "Paris Saint-Germain",
         "offsetgroup": "Paris Saint-Germain",
         "orientation": "v",
         "showlegend": true,
         "textposition": "auto",
         "type": "bar",
         "x": [
          "Paris Saint-Germain"
         ],
         "xaxis": "x",
         "y": [
          88.6
         ],
         "yaxis": "y"
        },
        {
         "alignmentgroup": "True",
         "hovertemplate": "Club=%{x}<br>Overall=%{y}<extra></extra>",
         "legendgroup": "FC Bayern München",
         "marker": {
          "color": "#f19670",
          "pattern": {
           "shape": ""
          }
         },
         "name": "FC Bayern München",
         "offsetgroup": "FC Bayern München",
         "orientation": "v",
         "showlegend": true,
         "textposition": "auto",
         "type": "bar",
         "x": [
          "FC Bayern München"
         ],
         "xaxis": "x",
         "y": [
          88
         ],
         "yaxis": "y"
        },
        {
         "alignmentgroup": "True",
         "hovertemplate": "Club=%{x}<br>Overall=%{y}<extra></extra>",
         "legendgroup": "Liverpool",
         "marker": {
          "color": "#be5168",
          "pattern": {
           "shape": ""
          }
         },
         "name": "Liverpool",
         "offsetgroup": "Liverpool",
         "orientation": "v",
         "showlegend": true,
         "textposition": "auto",
         "type": "bar",
         "x": [
          "Liverpool"
         ],
         "xaxis": "x",
         "y": [
          87.44444444444444
         ],
         "yaxis": "y"
        },
        {
         "alignmentgroup": "True",
         "hovertemplate": "Club=%{x}<br>Overall=%{y}<extra></extra>",
         "legendgroup": "Chelsea",
         "marker": {
          "color": "#65387d",
          "pattern": {
           "shape": ""
          }
         },
         "name": "Chelsea",
         "offsetgroup": "Chelsea",
         "orientation": "v",
         "showlegend": true,
         "textposition": "auto",
         "type": "bar",
         "x": [
          "Chelsea"
         ],
         "xaxis": "x",
         "y": [
          87
         ],
         "yaxis": "y"
        },
        {
         "alignmentgroup": "True",
         "hovertemplate": "Club=%{x}<br>Overall=%{y}<extra></extra>",
         "legendgroup": "Real Madrid CF",
         "marker": {
          "color": "#e279a3",
          "pattern": {
           "shape": ""
          }
         },
         "name": "Real Madrid CF",
         "offsetgroup": "Real Madrid CF",
         "orientation": "v",
         "showlegend": true,
         "textposition": "auto",
         "type": "bar",
         "x": [
          "Real Madrid CF"
         ],
         "xaxis": "x",
         "y": [
          87
         ],
         "yaxis": "y"
        },
        {
         "alignmentgroup": "True",
         "hovertemplate": "Club=%{x}<br>Overall=%{y}<extra></extra>",
         "legendgroup": "Manchester United",
         "marker": {
          "color": "#5698c4",
          "pattern": {
           "shape": ""
          }
         },
         "name": "Manchester United",
         "offsetgroup": "Manchester United",
         "orientation": "v",
         "showlegend": true,
         "textposition": "auto",
         "type": "bar",
         "x": [
          "Manchester United"
         ],
         "xaxis": "x",
         "y": [
          87
         ],
         "yaxis": "y"
        },
        {
         "alignmentgroup": "True",
         "hovertemplate": "Club=%{x}<br>Overall=%{y}<extra></extra>",
         "legendgroup": "Atlético de Madrid",
         "marker": {
          "color": "#74c493",
          "pattern": {
           "shape": ""
          }
         },
         "name": "Atlético de Madrid",
         "offsetgroup": "Atlético de Madrid",
         "orientation": "v",
         "showlegend": true,
         "textposition": "auto",
         "type": "bar",
         "x": [
          "Atlético de Madrid"
         ],
         "xaxis": "x",
         "y": [
          87
         ],
         "yaxis": "y"
        },
        {
         "alignmentgroup": "True",
         "hovertemplate": "Club=%{x}<br>Overall=%{y}<extra></extra>",
         "legendgroup": "FC Barcelona",
         "marker": {
          "color": "#e9d78e",
          "pattern": {
           "shape": ""
          }
         },
         "name": "FC Barcelona",
         "offsetgroup": "FC Barcelona",
         "orientation": "v",
         "showlegend": true,
         "textposition": "auto",
         "type": "bar",
         "x": [
          "FC Barcelona"
         ],
         "xaxis": "x",
         "y": [
          86.83333333333333
         ],
         "yaxis": "y"
        },
        {
         "alignmentgroup": "True",
         "hovertemplate": "Club=%{x}<br>Overall=%{y}<extra></extra>",
         "legendgroup": "Manchester City",
         "marker": {
          "color": "#e16552",
          "pattern": {
           "shape": ""
          }
         },
         "name": "Manchester City",
         "offsetgroup": "Manchester City",
         "orientation": "v",
         "showlegend": true,
         "textposition": "auto",
         "type": "bar",
         "x": [
          "Manchester City"
         ],
         "xaxis": "x",
         "y": [
          86.81818181818181
         ],
         "yaxis": "y"
        },
        {
         "alignmentgroup": "True",
         "hovertemplate": "Club=%{x}<br>Overall=%{y}<extra></extra>",
         "legendgroup": "Borussia Dortmund",
         "marker": {
          "color": "#a34974",
          "pattern": {
           "shape": ""
          }
         },
         "name": "Borussia Dortmund",
         "offsetgroup": "Borussia Dortmund",
         "orientation": "v",
         "showlegend": true,
         "textposition": "auto",
         "type": "bar",
         "x": [
          "Borussia Dortmund"
         ],
         "xaxis": "x",
         "y": [
          86.33333333333333
         ],
         "yaxis": "y"
        }
       ],
       "layout": {
        "barmode": "relative",
        "legend": {
         "title": {
          "text": "Club"
         },
         "tracegroupgap": 0
        },
        "template": {
         "data": {
          "bar": [
           {
            "error_x": {
             "color": "#2a3f5f"
            },
            "error_y": {
             "color": "#2a3f5f"
            },
            "marker": {
             "line": {
              "color": "#E5ECF6",
              "width": 0.5
             },
             "pattern": {
              "fillmode": "overlay",
              "size": 10,
              "solidity": 0.2
             }
            },
            "type": "bar"
           }
          ],
          "barpolar": [
           {
            "marker": {
             "line": {
              "color": "#E5ECF6",
              "width": 0.5
             },
             "pattern": {
              "fillmode": "overlay",
              "size": 10,
              "solidity": 0.2
             }
            },
            "type": "barpolar"
           }
          ],
          "carpet": [
           {
            "aaxis": {
             "endlinecolor": "#2a3f5f",
             "gridcolor": "white",
             "linecolor": "white",
             "minorgridcolor": "white",
             "startlinecolor": "#2a3f5f"
            },
            "baxis": {
             "endlinecolor": "#2a3f5f",
             "gridcolor": "white",
             "linecolor": "white",
             "minorgridcolor": "white",
             "startlinecolor": "#2a3f5f"
            },
            "type": "carpet"
           }
          ],
          "choropleth": [
           {
            "colorbar": {
             "outlinewidth": 0,
             "ticks": ""
            },
            "type": "choropleth"
           }
          ],
          "contour": [
           {
            "colorbar": {
             "outlinewidth": 0,
             "ticks": ""
            },
            "colorscale": [
             [
              0,
              "#0d0887"
             ],
             [
              0.1111111111111111,
              "#46039f"
             ],
             [
              0.2222222222222222,
              "#7201a8"
             ],
             [
              0.3333333333333333,
              "#9c179e"
             ],
             [
              0.4444444444444444,
              "#bd3786"
             ],
             [
              0.5555555555555556,
              "#d8576b"
             ],
             [
              0.6666666666666666,
              "#ed7953"
             ],
             [
              0.7777777777777778,
              "#fb9f3a"
             ],
             [
              0.8888888888888888,
              "#fdca26"
             ],
             [
              1,
              "#f0f921"
             ]
            ],
            "type": "contour"
           }
          ],
          "contourcarpet": [
           {
            "colorbar": {
             "outlinewidth": 0,
             "ticks": ""
            },
            "type": "contourcarpet"
           }
          ],
          "heatmap": [
           {
            "colorbar": {
             "outlinewidth": 0,
             "ticks": ""
            },
            "colorscale": [
             [
              0,
              "#0d0887"
             ],
             [
              0.1111111111111111,
              "#46039f"
             ],
             [
              0.2222222222222222,
              "#7201a8"
             ],
             [
              0.3333333333333333,
              "#9c179e"
             ],
             [
              0.4444444444444444,
              "#bd3786"
             ],
             [
              0.5555555555555556,
              "#d8576b"
             ],
             [
              0.6666666666666666,
              "#ed7953"
             ],
             [
              0.7777777777777778,
              "#fb9f3a"
             ],
             [
              0.8888888888888888,
              "#fdca26"
             ],
             [
              1,
              "#f0f921"
             ]
            ],
            "type": "heatmap"
           }
          ],
          "heatmapgl": [
           {
            "colorbar": {
             "outlinewidth": 0,
             "ticks": ""
            },
            "colorscale": [
             [
              0,
              "#0d0887"
             ],
             [
              0.1111111111111111,
              "#46039f"
             ],
             [
              0.2222222222222222,
              "#7201a8"
             ],
             [
              0.3333333333333333,
              "#9c179e"
             ],
             [
              0.4444444444444444,
              "#bd3786"
             ],
             [
              0.5555555555555556,
              "#d8576b"
             ],
             [
              0.6666666666666666,
              "#ed7953"
             ],
             [
              0.7777777777777778,
              "#fb9f3a"
             ],
             [
              0.8888888888888888,
              "#fdca26"
             ],
             [
              1,
              "#f0f921"
             ]
            ],
            "type": "heatmapgl"
           }
          ],
          "histogram": [
           {
            "marker": {
             "pattern": {
              "fillmode": "overlay",
              "size": 10,
              "solidity": 0.2
             }
            },
            "type": "histogram"
           }
          ],
          "histogram2d": [
           {
            "colorbar": {
             "outlinewidth": 0,
             "ticks": ""
            },
            "colorscale": [
             [
              0,
              "#0d0887"
             ],
             [
              0.1111111111111111,
              "#46039f"
             ],
             [
              0.2222222222222222,
              "#7201a8"
             ],
             [
              0.3333333333333333,
              "#9c179e"
             ],
             [
              0.4444444444444444,
              "#bd3786"
             ],
             [
              0.5555555555555556,
              "#d8576b"
             ],
             [
              0.6666666666666666,
              "#ed7953"
             ],
             [
              0.7777777777777778,
              "#fb9f3a"
             ],
             [
              0.8888888888888888,
              "#fdca26"
             ],
             [
              1,
              "#f0f921"
             ]
            ],
            "type": "histogram2d"
           }
          ],
          "histogram2dcontour": [
           {
            "colorbar": {
             "outlinewidth": 0,
             "ticks": ""
            },
            "colorscale": [
             [
              0,
              "#0d0887"
             ],
             [
              0.1111111111111111,
              "#46039f"
             ],
             [
              0.2222222222222222,
              "#7201a8"
             ],
             [
              0.3333333333333333,
              "#9c179e"
             ],
             [
              0.4444444444444444,
              "#bd3786"
             ],
             [
              0.5555555555555556,
              "#d8576b"
             ],
             [
              0.6666666666666666,
              "#ed7953"
             ],
             [
              0.7777777777777778,
              "#fb9f3a"
             ],
             [
              0.8888888888888888,
              "#fdca26"
             ],
             [
              1,
              "#f0f921"
             ]
            ],
            "type": "histogram2dcontour"
           }
          ],
          "mesh3d": [
           {
            "colorbar": {
             "outlinewidth": 0,
             "ticks": ""
            },
            "type": "mesh3d"
           }
          ],
          "parcoords": [
           {
            "line": {
             "colorbar": {
              "outlinewidth": 0,
              "ticks": ""
             }
            },
            "type": "parcoords"
           }
          ],
          "pie": [
           {
            "automargin": true,
            "type": "pie"
           }
          ],
          "scatter": [
           {
            "marker": {
             "colorbar": {
              "outlinewidth": 0,
              "ticks": ""
             }
            },
            "type": "scatter"
           }
          ],
          "scatter3d": [
           {
            "line": {
             "colorbar": {
              "outlinewidth": 0,
              "ticks": ""
             }
            },
            "marker": {
             "colorbar": {
              "outlinewidth": 0,
              "ticks": ""
             }
            },
            "type": "scatter3d"
           }
          ],
          "scattercarpet": [
           {
            "marker": {
             "colorbar": {
              "outlinewidth": 0,
              "ticks": ""
             }
            },
            "type": "scattercarpet"
           }
          ],
          "scattergeo": [
           {
            "marker": {
             "colorbar": {
              "outlinewidth": 0,
              "ticks": ""
             }
            },
            "type": "scattergeo"
           }
          ],
          "scattergl": [
           {
            "marker": {
             "colorbar": {
              "outlinewidth": 0,
              "ticks": ""
             }
            },
            "type": "scattergl"
           }
          ],
          "scattermapbox": [
           {
            "marker": {
             "colorbar": {
              "outlinewidth": 0,
              "ticks": ""
             }
            },
            "type": "scattermapbox"
           }
          ],
          "scatterpolar": [
           {
            "marker": {
             "colorbar": {
              "outlinewidth": 0,
              "ticks": ""
             }
            },
            "type": "scatterpolar"
           }
          ],
          "scatterpolargl": [
           {
            "marker": {
             "colorbar": {
              "outlinewidth": 0,
              "ticks": ""
             }
            },
            "type": "scatterpolargl"
           }
          ],
          "scatterternary": [
           {
            "marker": {
             "colorbar": {
              "outlinewidth": 0,
              "ticks": ""
             }
            },
            "type": "scatterternary"
           }
          ],
          "surface": [
           {
            "colorbar": {
             "outlinewidth": 0,
             "ticks": ""
            },
            "colorscale": [
             [
              0,
              "#0d0887"
             ],
             [
              0.1111111111111111,
              "#46039f"
             ],
             [
              0.2222222222222222,
              "#7201a8"
             ],
             [
              0.3333333333333333,
              "#9c179e"
             ],
             [
              0.4444444444444444,
              "#bd3786"
             ],
             [
              0.5555555555555556,
              "#d8576b"
             ],
             [
              0.6666666666666666,
              "#ed7953"
             ],
             [
              0.7777777777777778,
              "#fb9f3a"
             ],
             [
              0.8888888888888888,
              "#fdca26"
             ],
             [
              1,
              "#f0f921"
             ]
            ],
            "type": "surface"
           }
          ],
          "table": [
           {
            "cells": {
             "fill": {
              "color": "#EBF0F8"
             },
             "line": {
              "color": "white"
             }
            },
            "header": {
             "fill": {
              "color": "#C8D4E3"
             },
             "line": {
              "color": "white"
             }
            },
            "type": "table"
           }
          ]
         },
         "layout": {
          "annotationdefaults": {
           "arrowcolor": "#2a3f5f",
           "arrowhead": 0,
           "arrowwidth": 1
          },
          "autotypenumbers": "strict",
          "coloraxis": {
           "colorbar": {
            "outlinewidth": 0,
            "ticks": ""
           }
          },
          "colorscale": {
           "diverging": [
            [
             0,
             "#8e0152"
            ],
            [
             0.1,
             "#c51b7d"
            ],
            [
             0.2,
             "#de77ae"
            ],
            [
             0.3,
             "#f1b6da"
            ],
            [
             0.4,
             "#fde0ef"
            ],
            [
             0.5,
             "#f7f7f7"
            ],
            [
             0.6,
             "#e6f5d0"
            ],
            [
             0.7,
             "#b8e186"
            ],
            [
             0.8,
             "#7fbc41"
            ],
            [
             0.9,
             "#4d9221"
            ],
            [
             1,
             "#276419"
            ]
           ],
           "sequential": [
            [
             0,
             "#0d0887"
            ],
            [
             0.1111111111111111,
             "#46039f"
            ],
            [
             0.2222222222222222,
             "#7201a8"
            ],
            [
             0.3333333333333333,
             "#9c179e"
            ],
            [
             0.4444444444444444,
             "#bd3786"
            ],
            [
             0.5555555555555556,
             "#d8576b"
            ],
            [
             0.6666666666666666,
             "#ed7953"
            ],
            [
             0.7777777777777778,
             "#fb9f3a"
            ],
            [
             0.8888888888888888,
             "#fdca26"
            ],
            [
             1,
             "#f0f921"
            ]
           ],
           "sequentialminus": [
            [
             0,
             "#0d0887"
            ],
            [
             0.1111111111111111,
             "#46039f"
            ],
            [
             0.2222222222222222,
             "#7201a8"
            ],
            [
             0.3333333333333333,
             "#9c179e"
            ],
            [
             0.4444444444444444,
             "#bd3786"
            ],
            [
             0.5555555555555556,
             "#d8576b"
            ],
            [
             0.6666666666666666,
             "#ed7953"
            ],
            [
             0.7777777777777778,
             "#fb9f3a"
            ],
            [
             0.8888888888888888,
             "#fdca26"
            ],
            [
             1,
             "#f0f921"
            ]
           ]
          },
          "colorway": [
           "#636efa",
           "#EF553B",
           "#00cc96",
           "#ab63fa",
           "#FFA15A",
           "#19d3f3",
           "#FF6692",
           "#B6E880",
           "#FF97FF",
           "#FECB52"
          ],
          "font": {
           "color": "#2a3f5f"
          },
          "geo": {
           "bgcolor": "white",
           "lakecolor": "white",
           "landcolor": "#E5ECF6",
           "showlakes": true,
           "showland": true,
           "subunitcolor": "white"
          },
          "hoverlabel": {
           "align": "left"
          },
          "hovermode": "closest",
          "mapbox": {
           "style": "light"
          },
          "paper_bgcolor": "white",
          "plot_bgcolor": "#E5ECF6",
          "polar": {
           "angularaxis": {
            "gridcolor": "white",
            "linecolor": "white",
            "ticks": ""
           },
           "bgcolor": "#E5ECF6",
           "radialaxis": {
            "gridcolor": "white",
            "linecolor": "white",
            "ticks": ""
           }
          },
          "scene": {
           "xaxis": {
            "backgroundcolor": "#E5ECF6",
            "gridcolor": "white",
            "gridwidth": 2,
            "linecolor": "white",
            "showbackground": true,
            "ticks": "",
            "zerolinecolor": "white"
           },
           "yaxis": {
            "backgroundcolor": "#E5ECF6",
            "gridcolor": "white",
            "gridwidth": 2,
            "linecolor": "white",
            "showbackground": true,
            "ticks": "",
            "zerolinecolor": "white"
           },
           "zaxis": {
            "backgroundcolor": "#E5ECF6",
            "gridcolor": "white",
            "gridwidth": 2,
            "linecolor": "white",
            "showbackground": true,
            "ticks": "",
            "zerolinecolor": "white"
           }
          },
          "shapedefaults": {
           "line": {
            "color": "#2a3f5f"
           }
          },
          "ternary": {
           "aaxis": {
            "gridcolor": "white",
            "linecolor": "white",
            "ticks": ""
           },
           "baxis": {
            "gridcolor": "white",
            "linecolor": "white",
            "ticks": ""
           },
           "bgcolor": "#E5ECF6",
           "caxis": {
            "gridcolor": "white",
            "linecolor": "white",
            "ticks": ""
           }
          },
          "title": {
           "x": 0.05
          },
          "xaxis": {
           "automargin": true,
           "gridcolor": "white",
           "linecolor": "white",
           "ticks": "",
           "title": {
            "standoff": 15
           },
           "zerolinecolor": "white",
           "zerolinewidth": 2
          },
          "yaxis": {
           "automargin": true,
           "gridcolor": "white",
           "linecolor": "white",
           "ticks": "",
           "title": {
            "standoff": 15
           },
           "zerolinecolor": "white",
           "zerolinewidth": 2
          }
         }
        },
        "title": {
         "text": "Top 10 Clubs for mean of Overall of players  "
        },
        "uniformtext": {
         "minsize": 0.4
        },
        "xaxis": {
         "anchor": "y",
         "categoryarray": [
          "Paris Saint-Germain",
          "FC Bayern München",
          "Liverpool",
          "Chelsea",
          "Real Madrid CF",
          "Manchester United",
          "Atlético de Madrid",
          "FC Barcelona",
          "Manchester City",
          "Borussia Dortmund"
         ],
         "categoryorder": "array",
         "domain": [
          0,
          1
         ],
         "tickangle": 90,
         "title": {
          "text": "Clubs"
         }
        },
        "yaxis": {
         "anchor": "x",
         "domain": [
          0,
          1
         ],
         "range": [
          85,
          90
         ],
         "title": {
          "text": "Overall"
         }
        }
       }
      }
     },
     "metadata": {},
     "output_type": "display_data"
    }
   ],
   "source": [
    "df_pl = df.groupby('Club').mean().reset_index()\n",
    "df_pl=df_pl.sort_values(by = 'Overall',ascending=False)\n",
    "df_pl=df_pl.iloc[ 1:11, :]\n",
    "df_pl=df_pl.loc[:,['Overall','Club']]\n",
    "fig1= px.bar(df_pl, x = 'Club', y = 'Overall',  color='Club', color_discrete_map={\"Paris Saint-Germain\":\"#D2E0A3\", \"FC Bayern München\":\"#f19670\",\"Liverpool\":\"#be5168\",\"Chelsea\":\"#65387d\",\"Real Madrid CF\":\"#e279a3\", \"Manchester United\":\"#5698c4\", \"Atlético de Madrid\":\"#74c493\", \"FC Barcelona\":\"#e9d78e\", \"Manchester City\":\"#e16552\", \"Borussia Dortmund\":\"#a34974\"}, title = 'Top 10 Clubs for mean of Overall of players  ',color_continuous_scale=px.colors.sequential.Sunsetdark)\n",
    "fig1.update_layout(xaxis_tickangle=90, xaxis_title = 'Clubs')\n",
    "fig1.update_layout(uniformtext_minsize=0.4)\n",
    "fig1.update_yaxes(range=[85, 90])\n",
    "#PSG ,Bayer Munich and Liverpool are the teams whose players have highest mean rating  in the top 100"
   ]
  },
  {
   "cell_type": "markdown",
   "metadata": {},
   "source": [
    "Bar chart of the five nations with the highest mean age of players"
   ]
  },
  {
   "cell_type": "code",
   "execution_count": 129,
   "metadata": {},
   "outputs": [
    {
     "data": {
      "application/vnd.plotly.v1+json": {
       "config": {
        "plotlyServerURL": "https://plot.ly"
       },
       "data": [
        {
         "alignmentgroup": "True",
         "hovertemplate": "Club=%{x}<br>Age=%{y}<extra></extra>",
         "legendgroup": "",
         "marker": {
          "color": "darkblue",
          "pattern": {
           "shape": ""
          }
         },
         "name": "",
         "offsetgroup": "",
         "orientation": "v",
         "showlegend": false,
         "textposition": "auto",
         "type": "bar",
         "x": [
          "Arsenal",
          "Borussia Mönchengladbach",
          "RB Leipzig",
          "Chelsea",
          "Leicester City"
         ],
         "xaxis": "x",
         "y": [
          32,
          32,
          31,
          30.75,
          30.666666666666668
         ],
         "yaxis": "y"
        }
       ],
       "layout": {
        "barmode": "relative",
        "legend": {
         "tracegroupgap": 0
        },
        "template": {
         "data": {
          "bar": [
           {
            "error_x": {
             "color": "#2a3f5f"
            },
            "error_y": {
             "color": "#2a3f5f"
            },
            "marker": {
             "line": {
              "color": "#E5ECF6",
              "width": 0.5
             },
             "pattern": {
              "fillmode": "overlay",
              "size": 10,
              "solidity": 0.2
             }
            },
            "type": "bar"
           }
          ],
          "barpolar": [
           {
            "marker": {
             "line": {
              "color": "#E5ECF6",
              "width": 0.5
             },
             "pattern": {
              "fillmode": "overlay",
              "size": 10,
              "solidity": 0.2
             }
            },
            "type": "barpolar"
           }
          ],
          "carpet": [
           {
            "aaxis": {
             "endlinecolor": "#2a3f5f",
             "gridcolor": "white",
             "linecolor": "white",
             "minorgridcolor": "white",
             "startlinecolor": "#2a3f5f"
            },
            "baxis": {
             "endlinecolor": "#2a3f5f",
             "gridcolor": "white",
             "linecolor": "white",
             "minorgridcolor": "white",
             "startlinecolor": "#2a3f5f"
            },
            "type": "carpet"
           }
          ],
          "choropleth": [
           {
            "colorbar": {
             "outlinewidth": 0,
             "ticks": ""
            },
            "type": "choropleth"
           }
          ],
          "contour": [
           {
            "colorbar": {
             "outlinewidth": 0,
             "ticks": ""
            },
            "colorscale": [
             [
              0,
              "#0d0887"
             ],
             [
              0.1111111111111111,
              "#46039f"
             ],
             [
              0.2222222222222222,
              "#7201a8"
             ],
             [
              0.3333333333333333,
              "#9c179e"
             ],
             [
              0.4444444444444444,
              "#bd3786"
             ],
             [
              0.5555555555555556,
              "#d8576b"
             ],
             [
              0.6666666666666666,
              "#ed7953"
             ],
             [
              0.7777777777777778,
              "#fb9f3a"
             ],
             [
              0.8888888888888888,
              "#fdca26"
             ],
             [
              1,
              "#f0f921"
             ]
            ],
            "type": "contour"
           }
          ],
          "contourcarpet": [
           {
            "colorbar": {
             "outlinewidth": 0,
             "ticks": ""
            },
            "type": "contourcarpet"
           }
          ],
          "heatmap": [
           {
            "colorbar": {
             "outlinewidth": 0,
             "ticks": ""
            },
            "colorscale": [
             [
              0,
              "#0d0887"
             ],
             [
              0.1111111111111111,
              "#46039f"
             ],
             [
              0.2222222222222222,
              "#7201a8"
             ],
             [
              0.3333333333333333,
              "#9c179e"
             ],
             [
              0.4444444444444444,
              "#bd3786"
             ],
             [
              0.5555555555555556,
              "#d8576b"
             ],
             [
              0.6666666666666666,
              "#ed7953"
             ],
             [
              0.7777777777777778,
              "#fb9f3a"
             ],
             [
              0.8888888888888888,
              "#fdca26"
             ],
             [
              1,
              "#f0f921"
             ]
            ],
            "type": "heatmap"
           }
          ],
          "heatmapgl": [
           {
            "colorbar": {
             "outlinewidth": 0,
             "ticks": ""
            },
            "colorscale": [
             [
              0,
              "#0d0887"
             ],
             [
              0.1111111111111111,
              "#46039f"
             ],
             [
              0.2222222222222222,
              "#7201a8"
             ],
             [
              0.3333333333333333,
              "#9c179e"
             ],
             [
              0.4444444444444444,
              "#bd3786"
             ],
             [
              0.5555555555555556,
              "#d8576b"
             ],
             [
              0.6666666666666666,
              "#ed7953"
             ],
             [
              0.7777777777777778,
              "#fb9f3a"
             ],
             [
              0.8888888888888888,
              "#fdca26"
             ],
             [
              1,
              "#f0f921"
             ]
            ],
            "type": "heatmapgl"
           }
          ],
          "histogram": [
           {
            "marker": {
             "pattern": {
              "fillmode": "overlay",
              "size": 10,
              "solidity": 0.2
             }
            },
            "type": "histogram"
           }
          ],
          "histogram2d": [
           {
            "colorbar": {
             "outlinewidth": 0,
             "ticks": ""
            },
            "colorscale": [
             [
              0,
              "#0d0887"
             ],
             [
              0.1111111111111111,
              "#46039f"
             ],
             [
              0.2222222222222222,
              "#7201a8"
             ],
             [
              0.3333333333333333,
              "#9c179e"
             ],
             [
              0.4444444444444444,
              "#bd3786"
             ],
             [
              0.5555555555555556,
              "#d8576b"
             ],
             [
              0.6666666666666666,
              "#ed7953"
             ],
             [
              0.7777777777777778,
              "#fb9f3a"
             ],
             [
              0.8888888888888888,
              "#fdca26"
             ],
             [
              1,
              "#f0f921"
             ]
            ],
            "type": "histogram2d"
           }
          ],
          "histogram2dcontour": [
           {
            "colorbar": {
             "outlinewidth": 0,
             "ticks": ""
            },
            "colorscale": [
             [
              0,
              "#0d0887"
             ],
             [
              0.1111111111111111,
              "#46039f"
             ],
             [
              0.2222222222222222,
              "#7201a8"
             ],
             [
              0.3333333333333333,
              "#9c179e"
             ],
             [
              0.4444444444444444,
              "#bd3786"
             ],
             [
              0.5555555555555556,
              "#d8576b"
             ],
             [
              0.6666666666666666,
              "#ed7953"
             ],
             [
              0.7777777777777778,
              "#fb9f3a"
             ],
             [
              0.8888888888888888,
              "#fdca26"
             ],
             [
              1,
              "#f0f921"
             ]
            ],
            "type": "histogram2dcontour"
           }
          ],
          "mesh3d": [
           {
            "colorbar": {
             "outlinewidth": 0,
             "ticks": ""
            },
            "type": "mesh3d"
           }
          ],
          "parcoords": [
           {
            "line": {
             "colorbar": {
              "outlinewidth": 0,
              "ticks": ""
             }
            },
            "type": "parcoords"
           }
          ],
          "pie": [
           {
            "automargin": true,
            "type": "pie"
           }
          ],
          "scatter": [
           {
            "marker": {
             "colorbar": {
              "outlinewidth": 0,
              "ticks": ""
             }
            },
            "type": "scatter"
           }
          ],
          "scatter3d": [
           {
            "line": {
             "colorbar": {
              "outlinewidth": 0,
              "ticks": ""
             }
            },
            "marker": {
             "colorbar": {
              "outlinewidth": 0,
              "ticks": ""
             }
            },
            "type": "scatter3d"
           }
          ],
          "scattercarpet": [
           {
            "marker": {
             "colorbar": {
              "outlinewidth": 0,
              "ticks": ""
             }
            },
            "type": "scattercarpet"
           }
          ],
          "scattergeo": [
           {
            "marker": {
             "colorbar": {
              "outlinewidth": 0,
              "ticks": ""
             }
            },
            "type": "scattergeo"
           }
          ],
          "scattergl": [
           {
            "marker": {
             "colorbar": {
              "outlinewidth": 0,
              "ticks": ""
             }
            },
            "type": "scattergl"
           }
          ],
          "scattermapbox": [
           {
            "marker": {
             "colorbar": {
              "outlinewidth": 0,
              "ticks": ""
             }
            },
            "type": "scattermapbox"
           }
          ],
          "scatterpolar": [
           {
            "marker": {
             "colorbar": {
              "outlinewidth": 0,
              "ticks": ""
             }
            },
            "type": "scatterpolar"
           }
          ],
          "scatterpolargl": [
           {
            "marker": {
             "colorbar": {
              "outlinewidth": 0,
              "ticks": ""
             }
            },
            "type": "scatterpolargl"
           }
          ],
          "scatterternary": [
           {
            "marker": {
             "colorbar": {
              "outlinewidth": 0,
              "ticks": ""
             }
            },
            "type": "scatterternary"
           }
          ],
          "surface": [
           {
            "colorbar": {
             "outlinewidth": 0,
             "ticks": ""
            },
            "colorscale": [
             [
              0,
              "#0d0887"
             ],
             [
              0.1111111111111111,
              "#46039f"
             ],
             [
              0.2222222222222222,
              "#7201a8"
             ],
             [
              0.3333333333333333,
              "#9c179e"
             ],
             [
              0.4444444444444444,
              "#bd3786"
             ],
             [
              0.5555555555555556,
              "#d8576b"
             ],
             [
              0.6666666666666666,
              "#ed7953"
             ],
             [
              0.7777777777777778,
              "#fb9f3a"
             ],
             [
              0.8888888888888888,
              "#fdca26"
             ],
             [
              1,
              "#f0f921"
             ]
            ],
            "type": "surface"
           }
          ],
          "table": [
           {
            "cells": {
             "fill": {
              "color": "#EBF0F8"
             },
             "line": {
              "color": "white"
             }
            },
            "header": {
             "fill": {
              "color": "#C8D4E3"
             },
             "line": {
              "color": "white"
             }
            },
            "type": "table"
           }
          ]
         },
         "layout": {
          "annotationdefaults": {
           "arrowcolor": "#2a3f5f",
           "arrowhead": 0,
           "arrowwidth": 1
          },
          "autotypenumbers": "strict",
          "coloraxis": {
           "colorbar": {
            "outlinewidth": 0,
            "ticks": ""
           }
          },
          "colorscale": {
           "diverging": [
            [
             0,
             "#8e0152"
            ],
            [
             0.1,
             "#c51b7d"
            ],
            [
             0.2,
             "#de77ae"
            ],
            [
             0.3,
             "#f1b6da"
            ],
            [
             0.4,
             "#fde0ef"
            ],
            [
             0.5,
             "#f7f7f7"
            ],
            [
             0.6,
             "#e6f5d0"
            ],
            [
             0.7,
             "#b8e186"
            ],
            [
             0.8,
             "#7fbc41"
            ],
            [
             0.9,
             "#4d9221"
            ],
            [
             1,
             "#276419"
            ]
           ],
           "sequential": [
            [
             0,
             "#0d0887"
            ],
            [
             0.1111111111111111,
             "#46039f"
            ],
            [
             0.2222222222222222,
             "#7201a8"
            ],
            [
             0.3333333333333333,
             "#9c179e"
            ],
            [
             0.4444444444444444,
             "#bd3786"
            ],
            [
             0.5555555555555556,
             "#d8576b"
            ],
            [
             0.6666666666666666,
             "#ed7953"
            ],
            [
             0.7777777777777778,
             "#fb9f3a"
            ],
            [
             0.8888888888888888,
             "#fdca26"
            ],
            [
             1,
             "#f0f921"
            ]
           ],
           "sequentialminus": [
            [
             0,
             "#0d0887"
            ],
            [
             0.1111111111111111,
             "#46039f"
            ],
            [
             0.2222222222222222,
             "#7201a8"
            ],
            [
             0.3333333333333333,
             "#9c179e"
            ],
            [
             0.4444444444444444,
             "#bd3786"
            ],
            [
             0.5555555555555556,
             "#d8576b"
            ],
            [
             0.6666666666666666,
             "#ed7953"
            ],
            [
             0.7777777777777778,
             "#fb9f3a"
            ],
            [
             0.8888888888888888,
             "#fdca26"
            ],
            [
             1,
             "#f0f921"
            ]
           ]
          },
          "colorway": [
           "#636efa",
           "#EF553B",
           "#00cc96",
           "#ab63fa",
           "#FFA15A",
           "#19d3f3",
           "#FF6692",
           "#B6E880",
           "#FF97FF",
           "#FECB52"
          ],
          "font": {
           "color": "#2a3f5f"
          },
          "geo": {
           "bgcolor": "white",
           "lakecolor": "white",
           "landcolor": "#E5ECF6",
           "showlakes": true,
           "showland": true,
           "subunitcolor": "white"
          },
          "hoverlabel": {
           "align": "left"
          },
          "hovermode": "closest",
          "mapbox": {
           "style": "light"
          },
          "paper_bgcolor": "white",
          "plot_bgcolor": "#E5ECF6",
          "polar": {
           "angularaxis": {
            "gridcolor": "white",
            "linecolor": "white",
            "ticks": ""
           },
           "bgcolor": "#E5ECF6",
           "radialaxis": {
            "gridcolor": "white",
            "linecolor": "white",
            "ticks": ""
           }
          },
          "scene": {
           "xaxis": {
            "backgroundcolor": "#E5ECF6",
            "gridcolor": "white",
            "gridwidth": 2,
            "linecolor": "white",
            "showbackground": true,
            "ticks": "",
            "zerolinecolor": "white"
           },
           "yaxis": {
            "backgroundcolor": "#E5ECF6",
            "gridcolor": "white",
            "gridwidth": 2,
            "linecolor": "white",
            "showbackground": true,
            "ticks": "",
            "zerolinecolor": "white"
           },
           "zaxis": {
            "backgroundcolor": "#E5ECF6",
            "gridcolor": "white",
            "gridwidth": 2,
            "linecolor": "white",
            "showbackground": true,
            "ticks": "",
            "zerolinecolor": "white"
           }
          },
          "shapedefaults": {
           "line": {
            "color": "#2a3f5f"
           }
          },
          "ternary": {
           "aaxis": {
            "gridcolor": "white",
            "linecolor": "white",
            "ticks": ""
           },
           "baxis": {
            "gridcolor": "white",
            "linecolor": "white",
            "ticks": ""
           },
           "bgcolor": "#E5ECF6",
           "caxis": {
            "gridcolor": "white",
            "linecolor": "white",
            "ticks": ""
           }
          },
          "title": {
           "x": 0.05
          },
          "xaxis": {
           "automargin": true,
           "gridcolor": "white",
           "linecolor": "white",
           "ticks": "",
           "title": {
            "standoff": 15
           },
           "zerolinecolor": "white",
           "zerolinewidth": 2
          },
          "yaxis": {
           "automargin": true,
           "gridcolor": "white",
           "linecolor": "white",
           "ticks": "",
           "title": {
            "standoff": 15
           },
           "zerolinecolor": "white",
           "zerolinewidth": 2
          }
         }
        },
        "title": {
         "text": "Top 5 Clubs with highest average age for players in the top 100 "
        },
        "uniformtext": {
         "minsize": 0.4
        },
        "xaxis": {
         "anchor": "y",
         "domain": [
          0,
          1
         ],
         "tickangle": 0,
         "title": {
          "text": "Clubs"
         }
        },
        "yaxis": {
         "anchor": "x",
         "domain": [
          0,
          1
         ],
         "range": [
          30,
          33
         ],
         "title": {
          "text": "Age"
         }
        }
       }
      }
     },
     "metadata": {},
     "output_type": "display_data"
    }
   ],
   "source": [
    "df_plt2 = df.groupby('Club').mean().reset_index()\n",
    "df_plt2=df_plt2.sort_values(by = 'Age',ascending=False)\n",
    "df_plt2=df_plt2.iloc[ 1:6, :]\n",
    "df_plt2=df_plt2.loc[:,['Age','Club']]\n",
    "df_plt2=df_plt2.sort_values(by='Age',ascending=False)\n",
    "fig2= px.bar(df_plt2, x = 'Club', y = 'Age',title = 'Top 5 Clubs with highest average age for players in the top 100 ')\n",
    "fig2.update_traces(marker_color='darkblue')\n",
    "fig2.update_layout(xaxis_tickangle=0, xaxis_title = 'Clubs')\n",
    "fig2.update_layout(uniformtext_minsize=0.4)\n",
    "fig2.update_yaxes(range=[30, 33])\n",
    "#The five clubs with the highest mean of the ages of players are the ones reported below"
   ]
  },
  {
   "cell_type": "markdown",
   "metadata": {},
   "source": [
    "This function serves to add a column by splittin players by roles"
   ]
  },
  {
   "cell_type": "code",
   "execution_count": 130,
   "metadata": {},
   "outputs": [
    {
     "name": "stderr",
     "output_type": "stream",
     "text": [
      "/var/folders/sc/r0jqlfy569scw9syx066s6n80000gn/T/ipykernel_1833/500464108.py:15: SettingWithCopyWarning:\n",
      "\n",
      "\n",
      "A value is trying to be set on a copy of a slice from a DataFrame\n",
      "\n",
      "See the caveats in the documentation: https://pandas.pydata.org/pandas-docs/stable/user_guide/indexing.html#returning-a-view-versus-a-copy\n",
      "\n"
     ]
    },
    {
     "data": {
      "text/html": [
       "<div>\n",
       "<style scoped>\n",
       "    .dataframe tbody tr th:only-of-type {\n",
       "        vertical-align: middle;\n",
       "    }\n",
       "\n",
       "    .dataframe tbody tr th {\n",
       "        vertical-align: top;\n",
       "    }\n",
       "\n",
       "    .dataframe thead th {\n",
       "        text-align: right;\n",
       "    }\n",
       "</style>\n",
       "<table border=\"1\" class=\"dataframe\">\n",
       "  <thead>\n",
       "    <tr style=\"text-align: right;\">\n",
       "      <th></th>\n",
       "      <th>ID</th>\n",
       "      <th>Name</th>\n",
       "      <th>FullName</th>\n",
       "      <th>Age</th>\n",
       "      <th>Height</th>\n",
       "      <th>Weight</th>\n",
       "      <th>PhotoUrl</th>\n",
       "      <th>Nationality</th>\n",
       "      <th>Overall</th>\n",
       "      <th>Potential</th>\n",
       "      <th>...</th>\n",
       "      <th>CMRating</th>\n",
       "      <th>RMRating</th>\n",
       "      <th>LWBRating</th>\n",
       "      <th>CDMRating</th>\n",
       "      <th>RWBRating</th>\n",
       "      <th>LBRating</th>\n",
       "      <th>CBRating</th>\n",
       "      <th>RBRating</th>\n",
       "      <th>GKRating</th>\n",
       "      <th>role</th>\n",
       "    </tr>\n",
       "  </thead>\n",
       "  <tbody>\n",
       "    <tr>\n",
       "      <th>0</th>\n",
       "      <td>158023</td>\n",
       "      <td>L. Messi</td>\n",
       "      <td>Lionel Messi</td>\n",
       "      <td>34</td>\n",
       "      <td>170</td>\n",
       "      <td>72</td>\n",
       "      <td>https://cdn.sofifa.com/players/158/023/22_60.png</td>\n",
       "      <td>Argentina</td>\n",
       "      <td>93</td>\n",
       "      <td>93</td>\n",
       "      <td>...</td>\n",
       "      <td>90</td>\n",
       "      <td>93</td>\n",
       "      <td>69</td>\n",
       "      <td>67</td>\n",
       "      <td>69</td>\n",
       "      <td>64</td>\n",
       "      <td>53</td>\n",
       "      <td>64</td>\n",
       "      <td>22</td>\n",
       "      <td>Strikers</td>\n",
       "    </tr>\n",
       "    <tr>\n",
       "      <th>1</th>\n",
       "      <td>188545</td>\n",
       "      <td>R. Lewandowski</td>\n",
       "      <td>Robert Lewandowski</td>\n",
       "      <td>32</td>\n",
       "      <td>185</td>\n",
       "      <td>81</td>\n",
       "      <td>https://cdn.sofifa.com/players/188/545/22_60.png</td>\n",
       "      <td>Poland</td>\n",
       "      <td>92</td>\n",
       "      <td>92</td>\n",
       "      <td>...</td>\n",
       "      <td>83</td>\n",
       "      <td>87</td>\n",
       "      <td>67</td>\n",
       "      <td>69</td>\n",
       "      <td>67</td>\n",
       "      <td>64</td>\n",
       "      <td>63</td>\n",
       "      <td>64</td>\n",
       "      <td>22</td>\n",
       "      <td>Strikers</td>\n",
       "    </tr>\n",
       "    <tr>\n",
       "      <th>2</th>\n",
       "      <td>20801</td>\n",
       "      <td>Cristiano Ronaldo</td>\n",
       "      <td>C. Ronaldo dos Santos Aveiro</td>\n",
       "      <td>36</td>\n",
       "      <td>187</td>\n",
       "      <td>83</td>\n",
       "      <td>https://cdn.sofifa.com/players/020/801/22_60.png</td>\n",
       "      <td>Portugal</td>\n",
       "      <td>91</td>\n",
       "      <td>91</td>\n",
       "      <td>...</td>\n",
       "      <td>81</td>\n",
       "      <td>89</td>\n",
       "      <td>66</td>\n",
       "      <td>62</td>\n",
       "      <td>66</td>\n",
       "      <td>63</td>\n",
       "      <td>56</td>\n",
       "      <td>63</td>\n",
       "      <td>23</td>\n",
       "      <td>Strikers</td>\n",
       "    </tr>\n",
       "    <tr>\n",
       "      <th>3</th>\n",
       "      <td>231747</td>\n",
       "      <td>K. Mbappé</td>\n",
       "      <td>Kylian Mbappé</td>\n",
       "      <td>22</td>\n",
       "      <td>182</td>\n",
       "      <td>73</td>\n",
       "      <td>https://cdn.sofifa.com/players/231/747/22_60.png</td>\n",
       "      <td>France</td>\n",
       "      <td>91</td>\n",
       "      <td>95</td>\n",
       "      <td>...</td>\n",
       "      <td>84</td>\n",
       "      <td>92</td>\n",
       "      <td>70</td>\n",
       "      <td>66</td>\n",
       "      <td>70</td>\n",
       "      <td>66</td>\n",
       "      <td>57</td>\n",
       "      <td>66</td>\n",
       "      <td>21</td>\n",
       "      <td>Strikers</td>\n",
       "    </tr>\n",
       "    <tr>\n",
       "      <th>4</th>\n",
       "      <td>200389</td>\n",
       "      <td>J. Oblak</td>\n",
       "      <td>Jan Oblak</td>\n",
       "      <td>28</td>\n",
       "      <td>188</td>\n",
       "      <td>87</td>\n",
       "      <td>https://cdn.sofifa.com/players/200/389/22_60.png</td>\n",
       "      <td>Slovenia</td>\n",
       "      <td>91</td>\n",
       "      <td>93</td>\n",
       "      <td>...</td>\n",
       "      <td>41</td>\n",
       "      <td>38</td>\n",
       "      <td>35</td>\n",
       "      <td>39</td>\n",
       "      <td>35</td>\n",
       "      <td>35</td>\n",
       "      <td>36</td>\n",
       "      <td>35</td>\n",
       "      <td>92</td>\n",
       "      <td>Goalkeepers</td>\n",
       "    </tr>\n",
       "    <tr>\n",
       "      <th>...</th>\n",
       "      <td>...</td>\n",
       "      <td>...</td>\n",
       "      <td>...</td>\n",
       "      <td>...</td>\n",
       "      <td>...</td>\n",
       "      <td>...</td>\n",
       "      <td>...</td>\n",
       "      <td>...</td>\n",
       "      <td>...</td>\n",
       "      <td>...</td>\n",
       "      <td>...</td>\n",
       "      <td>...</td>\n",
       "      <td>...</td>\n",
       "      <td>...</td>\n",
       "      <td>...</td>\n",
       "      <td>...</td>\n",
       "      <td>...</td>\n",
       "      <td>...</td>\n",
       "      <td>...</td>\n",
       "      <td>...</td>\n",
       "      <td>...</td>\n",
       "    </tr>\n",
       "    <tr>\n",
       "      <th>95</th>\n",
       "      <td>205498</td>\n",
       "      <td>Jorginho</td>\n",
       "      <td>Luiz Frello Filho Jorge</td>\n",
       "      <td>29</td>\n",
       "      <td>180</td>\n",
       "      <td>68</td>\n",
       "      <td>https://cdn.sofifa.com/players/205/498/22_60.png</td>\n",
       "      <td>Italy</td>\n",
       "      <td>85</td>\n",
       "      <td>85</td>\n",
       "      <td>...</td>\n",
       "      <td>85</td>\n",
       "      <td>80</td>\n",
       "      <td>80</td>\n",
       "      <td>84</td>\n",
       "      <td>80</td>\n",
       "      <td>78</td>\n",
       "      <td>75</td>\n",
       "      <td>78</td>\n",
       "      <td>21</td>\n",
       "      <td>Midfielders</td>\n",
       "    </tr>\n",
       "    <tr>\n",
       "      <th>96</th>\n",
       "      <td>204963</td>\n",
       "      <td>Carvajal</td>\n",
       "      <td>Daniel Carvajal Ramos</td>\n",
       "      <td>29</td>\n",
       "      <td>173</td>\n",
       "      <td>73</td>\n",
       "      <td>https://cdn.sofifa.com/players/204/963/22_60.png</td>\n",
       "      <td>Spain</td>\n",
       "      <td>85</td>\n",
       "      <td>85</td>\n",
       "      <td>...</td>\n",
       "      <td>81</td>\n",
       "      <td>81</td>\n",
       "      <td>85</td>\n",
       "      <td>84</td>\n",
       "      <td>85</td>\n",
       "      <td>85</td>\n",
       "      <td>83</td>\n",
       "      <td>85</td>\n",
       "      <td>23</td>\n",
       "      <td>Defenders</td>\n",
       "    </tr>\n",
       "    <tr>\n",
       "      <th>97</th>\n",
       "      <td>200458</td>\n",
       "      <td>L. Digne</td>\n",
       "      <td>Lucas Digne</td>\n",
       "      <td>27</td>\n",
       "      <td>178</td>\n",
       "      <td>74</td>\n",
       "      <td>https://cdn.sofifa.com/players/200/458/22_60.png</td>\n",
       "      <td>France</td>\n",
       "      <td>84</td>\n",
       "      <td>84</td>\n",
       "      <td>...</td>\n",
       "      <td>81</td>\n",
       "      <td>81</td>\n",
       "      <td>84</td>\n",
       "      <td>82</td>\n",
       "      <td>84</td>\n",
       "      <td>84</td>\n",
       "      <td>81</td>\n",
       "      <td>84</td>\n",
       "      <td>19</td>\n",
       "      <td>Defenders</td>\n",
       "    </tr>\n",
       "    <tr>\n",
       "      <th>98</th>\n",
       "      <td>197445</td>\n",
       "      <td>D. Alaba</td>\n",
       "      <td>David Alaba</td>\n",
       "      <td>29</td>\n",
       "      <td>180</td>\n",
       "      <td>78</td>\n",
       "      <td>https://cdn.sofifa.com/players/197/445/22_60.png</td>\n",
       "      <td>Austria</td>\n",
       "      <td>84</td>\n",
       "      <td>84</td>\n",
       "      <td>...</td>\n",
       "      <td>84</td>\n",
       "      <td>82</td>\n",
       "      <td>84</td>\n",
       "      <td>84</td>\n",
       "      <td>84</td>\n",
       "      <td>84</td>\n",
       "      <td>84</td>\n",
       "      <td>84</td>\n",
       "      <td>21</td>\n",
       "      <td>Defenders</td>\n",
       "    </tr>\n",
       "    <tr>\n",
       "      <th>99</th>\n",
       "      <td>198706</td>\n",
       "      <td>Luis Alberto</td>\n",
       "      <td>Luis Alberto Romero Alconchel</td>\n",
       "      <td>28</td>\n",
       "      <td>183</td>\n",
       "      <td>74</td>\n",
       "      <td>https://cdn.sofifa.com/players/198/706/22_60.png</td>\n",
       "      <td>Spain</td>\n",
       "      <td>84</td>\n",
       "      <td>84</td>\n",
       "      <td>...</td>\n",
       "      <td>84</td>\n",
       "      <td>82</td>\n",
       "      <td>71</td>\n",
       "      <td>73</td>\n",
       "      <td>71</td>\n",
       "      <td>67</td>\n",
       "      <td>61</td>\n",
       "      <td>67</td>\n",
       "      <td>18</td>\n",
       "      <td>Midfielders</td>\n",
       "    </tr>\n",
       "  </tbody>\n",
       "</table>\n",
       "<p>100 rows × 91 columns</p>\n",
       "</div>"
      ],
      "text/plain": [
       "        ID               Name                       FullName  Age  Height  \\\n",
       "0   158023           L. Messi                   Lionel Messi   34     170   \n",
       "1   188545     R. Lewandowski             Robert Lewandowski   32     185   \n",
       "2    20801  Cristiano Ronaldo   C. Ronaldo dos Santos Aveiro   36     187   \n",
       "3   231747          K. Mbappé                  Kylian Mbappé   22     182   \n",
       "4   200389           J. Oblak                      Jan Oblak   28     188   \n",
       "..     ...                ...                            ...  ...     ...   \n",
       "95  205498           Jorginho        Luiz Frello Filho Jorge   29     180   \n",
       "96  204963           Carvajal          Daniel Carvajal Ramos   29     173   \n",
       "97  200458           L. Digne                    Lucas Digne   27     178   \n",
       "98  197445           D. Alaba                    David Alaba   29     180   \n",
       "99  198706       Luis Alberto  Luis Alberto Romero Alconchel   28     183   \n",
       "\n",
       "    Weight                                          PhotoUrl Nationality  \\\n",
       "0       72  https://cdn.sofifa.com/players/158/023/22_60.png   Argentina   \n",
       "1       81  https://cdn.sofifa.com/players/188/545/22_60.png      Poland   \n",
       "2       83  https://cdn.sofifa.com/players/020/801/22_60.png    Portugal   \n",
       "3       73  https://cdn.sofifa.com/players/231/747/22_60.png      France   \n",
       "4       87  https://cdn.sofifa.com/players/200/389/22_60.png    Slovenia   \n",
       "..     ...                                               ...         ...   \n",
       "95      68  https://cdn.sofifa.com/players/205/498/22_60.png       Italy   \n",
       "96      73  https://cdn.sofifa.com/players/204/963/22_60.png       Spain   \n",
       "97      74  https://cdn.sofifa.com/players/200/458/22_60.png      France   \n",
       "98      78  https://cdn.sofifa.com/players/197/445/22_60.png     Austria   \n",
       "99      74  https://cdn.sofifa.com/players/198/706/22_60.png       Spain   \n",
       "\n",
       "    Overall  Potential  ...  CMRating  RMRating  LWBRating CDMRating  \\\n",
       "0        93         93  ...        90        93         69        67   \n",
       "1        92         92  ...        83        87         67        69   \n",
       "2        91         91  ...        81        89         66        62   \n",
       "3        91         95  ...        84        92         70        66   \n",
       "4        91         93  ...        41        38         35        39   \n",
       "..      ...        ...  ...       ...       ...        ...       ...   \n",
       "95       85         85  ...        85        80         80        84   \n",
       "96       85         85  ...        81        81         85        84   \n",
       "97       84         84  ...        81        81         84        82   \n",
       "98       84         84  ...        84        82         84        84   \n",
       "99       84         84  ...        84        82         71        73   \n",
       "\n",
       "   RWBRating LBRating  CBRating  RBRating  GKRating         role  \n",
       "0         69       64        53        64        22     Strikers  \n",
       "1         67       64        63        64        22     Strikers  \n",
       "2         66       63        56        63        23     Strikers  \n",
       "3         70       66        57        66        21     Strikers  \n",
       "4         35       35        36        35        92  Goalkeepers  \n",
       "..       ...      ...       ...       ...       ...          ...  \n",
       "95        80       78        75        78        21  Midfielders  \n",
       "96        85       85        83        85        23    Defenders  \n",
       "97        84       84        81        84        19    Defenders  \n",
       "98        84       84        84        84        21    Defenders  \n",
       "99        71       67        61        67        18  Midfielders  \n",
       "\n",
       "[100 rows x 91 columns]"
      ]
     },
     "execution_count": 130,
     "metadata": {},
     "output_type": "execute_result"
    }
   ],
   "source": [
    "def add_role(df):\n",
    "    df['role']=0\n",
    "    goalkeepers=['GK']\n",
    "    defenders=['RB','RWB','LB','LWB','CB']\n",
    "    midfielders=['CAM','CDM','CM','RM','LM']\n",
    "    strikers=['RW','LW','RF','LF','CF','ST']\n",
    "    substitues=['RES','SUB']\n",
    "    i=0\n",
    "    for el in df['BestPosition']:\n",
    "        if el in defenders:\n",
    "            df['role'][i]='Defenders'\n",
    "        elif el in midfielders:\n",
    "            df['role'][i]='Midfielders'\n",
    "        elif el in strikers:\n",
    "            df['role'][i]='Strikers'\n",
    "        else:\n",
    "            df['role'][i]='Goalkeepers'\n",
    "        i+=1\n",
    "add_role(df)\n",
    "df\n",
    "#Splitting the different players into generic categories related to their position on the field"
   ]
  },
  {
   "cell_type": "markdown",
   "metadata": {},
   "source": [
    "Pie plot of best 100 players by role"
   ]
  },
  {
   "cell_type": "code",
   "execution_count": 131,
   "metadata": {},
   "outputs": [
    {
     "data": {
      "application/vnd.plotly.v1+json": {
       "config": {
        "plotlyServerURL": "https://plot.ly"
       },
       "data": [
        {
         "domain": {
          "x": [
           0,
           1
          ],
          "y": [
           0,
           1
          ]
         },
         "hoverinfo": "label+percent",
         "hovertemplate": "role=%{label}<br>count=%{value}<extra></extra>",
         "labels": [
          "Defenders",
          "Goalkeepers",
          "Midfielders",
          "Strikers"
         ],
         "legendgroup": "",
         "name": "",
         "pull": [
          0.1,
          0.1,
          0.1,
          0.1,
          0.1,
          0.1
         ],
         "showlegend": true,
         "textfont": {
          "size": 12
         },
         "textinfo": "label+percent",
         "type": "pie",
         "values": [
          24,
          15,
          34,
          27
         ]
        }
       ],
       "layout": {
        "legend": {
         "tracegroupgap": 0
        },
        "piecolorway": [
         "rgb(102, 197, 204)",
         "rgb(246, 207, 113)",
         "rgb(248, 156, 116)",
         "rgb(220, 176, 242)",
         "rgb(135, 197, 95)",
         "rgb(158, 185, 243)",
         "rgb(254, 136, 177)",
         "rgb(201, 219, 116)",
         "rgb(139, 224, 164)",
         "rgb(180, 151, 231)",
         "rgb(179, 179, 179)"
        ],
        "template": {
         "data": {
          "bar": [
           {
            "error_x": {
             "color": "#2a3f5f"
            },
            "error_y": {
             "color": "#2a3f5f"
            },
            "marker": {
             "line": {
              "color": "#E5ECF6",
              "width": 0.5
             },
             "pattern": {
              "fillmode": "overlay",
              "size": 10,
              "solidity": 0.2
             }
            },
            "type": "bar"
           }
          ],
          "barpolar": [
           {
            "marker": {
             "line": {
              "color": "#E5ECF6",
              "width": 0.5
             },
             "pattern": {
              "fillmode": "overlay",
              "size": 10,
              "solidity": 0.2
             }
            },
            "type": "barpolar"
           }
          ],
          "carpet": [
           {
            "aaxis": {
             "endlinecolor": "#2a3f5f",
             "gridcolor": "white",
             "linecolor": "white",
             "minorgridcolor": "white",
             "startlinecolor": "#2a3f5f"
            },
            "baxis": {
             "endlinecolor": "#2a3f5f",
             "gridcolor": "white",
             "linecolor": "white",
             "minorgridcolor": "white",
             "startlinecolor": "#2a3f5f"
            },
            "type": "carpet"
           }
          ],
          "choropleth": [
           {
            "colorbar": {
             "outlinewidth": 0,
             "ticks": ""
            },
            "type": "choropleth"
           }
          ],
          "contour": [
           {
            "colorbar": {
             "outlinewidth": 0,
             "ticks": ""
            },
            "colorscale": [
             [
              0,
              "#0d0887"
             ],
             [
              0.1111111111111111,
              "#46039f"
             ],
             [
              0.2222222222222222,
              "#7201a8"
             ],
             [
              0.3333333333333333,
              "#9c179e"
             ],
             [
              0.4444444444444444,
              "#bd3786"
             ],
             [
              0.5555555555555556,
              "#d8576b"
             ],
             [
              0.6666666666666666,
              "#ed7953"
             ],
             [
              0.7777777777777778,
              "#fb9f3a"
             ],
             [
              0.8888888888888888,
              "#fdca26"
             ],
             [
              1,
              "#f0f921"
             ]
            ],
            "type": "contour"
           }
          ],
          "contourcarpet": [
           {
            "colorbar": {
             "outlinewidth": 0,
             "ticks": ""
            },
            "type": "contourcarpet"
           }
          ],
          "heatmap": [
           {
            "colorbar": {
             "outlinewidth": 0,
             "ticks": ""
            },
            "colorscale": [
             [
              0,
              "#0d0887"
             ],
             [
              0.1111111111111111,
              "#46039f"
             ],
             [
              0.2222222222222222,
              "#7201a8"
             ],
             [
              0.3333333333333333,
              "#9c179e"
             ],
             [
              0.4444444444444444,
              "#bd3786"
             ],
             [
              0.5555555555555556,
              "#d8576b"
             ],
             [
              0.6666666666666666,
              "#ed7953"
             ],
             [
              0.7777777777777778,
              "#fb9f3a"
             ],
             [
              0.8888888888888888,
              "#fdca26"
             ],
             [
              1,
              "#f0f921"
             ]
            ],
            "type": "heatmap"
           }
          ],
          "heatmapgl": [
           {
            "colorbar": {
             "outlinewidth": 0,
             "ticks": ""
            },
            "colorscale": [
             [
              0,
              "#0d0887"
             ],
             [
              0.1111111111111111,
              "#46039f"
             ],
             [
              0.2222222222222222,
              "#7201a8"
             ],
             [
              0.3333333333333333,
              "#9c179e"
             ],
             [
              0.4444444444444444,
              "#bd3786"
             ],
             [
              0.5555555555555556,
              "#d8576b"
             ],
             [
              0.6666666666666666,
              "#ed7953"
             ],
             [
              0.7777777777777778,
              "#fb9f3a"
             ],
             [
              0.8888888888888888,
              "#fdca26"
             ],
             [
              1,
              "#f0f921"
             ]
            ],
            "type": "heatmapgl"
           }
          ],
          "histogram": [
           {
            "marker": {
             "pattern": {
              "fillmode": "overlay",
              "size": 10,
              "solidity": 0.2
             }
            },
            "type": "histogram"
           }
          ],
          "histogram2d": [
           {
            "colorbar": {
             "outlinewidth": 0,
             "ticks": ""
            },
            "colorscale": [
             [
              0,
              "#0d0887"
             ],
             [
              0.1111111111111111,
              "#46039f"
             ],
             [
              0.2222222222222222,
              "#7201a8"
             ],
             [
              0.3333333333333333,
              "#9c179e"
             ],
             [
              0.4444444444444444,
              "#bd3786"
             ],
             [
              0.5555555555555556,
              "#d8576b"
             ],
             [
              0.6666666666666666,
              "#ed7953"
             ],
             [
              0.7777777777777778,
              "#fb9f3a"
             ],
             [
              0.8888888888888888,
              "#fdca26"
             ],
             [
              1,
              "#f0f921"
             ]
            ],
            "type": "histogram2d"
           }
          ],
          "histogram2dcontour": [
           {
            "colorbar": {
             "outlinewidth": 0,
             "ticks": ""
            },
            "colorscale": [
             [
              0,
              "#0d0887"
             ],
             [
              0.1111111111111111,
              "#46039f"
             ],
             [
              0.2222222222222222,
              "#7201a8"
             ],
             [
              0.3333333333333333,
              "#9c179e"
             ],
             [
              0.4444444444444444,
              "#bd3786"
             ],
             [
              0.5555555555555556,
              "#d8576b"
             ],
             [
              0.6666666666666666,
              "#ed7953"
             ],
             [
              0.7777777777777778,
              "#fb9f3a"
             ],
             [
              0.8888888888888888,
              "#fdca26"
             ],
             [
              1,
              "#f0f921"
             ]
            ],
            "type": "histogram2dcontour"
           }
          ],
          "mesh3d": [
           {
            "colorbar": {
             "outlinewidth": 0,
             "ticks": ""
            },
            "type": "mesh3d"
           }
          ],
          "parcoords": [
           {
            "line": {
             "colorbar": {
              "outlinewidth": 0,
              "ticks": ""
             }
            },
            "type": "parcoords"
           }
          ],
          "pie": [
           {
            "automargin": true,
            "type": "pie"
           }
          ],
          "scatter": [
           {
            "marker": {
             "colorbar": {
              "outlinewidth": 0,
              "ticks": ""
             }
            },
            "type": "scatter"
           }
          ],
          "scatter3d": [
           {
            "line": {
             "colorbar": {
              "outlinewidth": 0,
              "ticks": ""
             }
            },
            "marker": {
             "colorbar": {
              "outlinewidth": 0,
              "ticks": ""
             }
            },
            "type": "scatter3d"
           }
          ],
          "scattercarpet": [
           {
            "marker": {
             "colorbar": {
              "outlinewidth": 0,
              "ticks": ""
             }
            },
            "type": "scattercarpet"
           }
          ],
          "scattergeo": [
           {
            "marker": {
             "colorbar": {
              "outlinewidth": 0,
              "ticks": ""
             }
            },
            "type": "scattergeo"
           }
          ],
          "scattergl": [
           {
            "marker": {
             "colorbar": {
              "outlinewidth": 0,
              "ticks": ""
             }
            },
            "type": "scattergl"
           }
          ],
          "scattermapbox": [
           {
            "marker": {
             "colorbar": {
              "outlinewidth": 0,
              "ticks": ""
             }
            },
            "type": "scattermapbox"
           }
          ],
          "scatterpolar": [
           {
            "marker": {
             "colorbar": {
              "outlinewidth": 0,
              "ticks": ""
             }
            },
            "type": "scatterpolar"
           }
          ],
          "scatterpolargl": [
           {
            "marker": {
             "colorbar": {
              "outlinewidth": 0,
              "ticks": ""
             }
            },
            "type": "scatterpolargl"
           }
          ],
          "scatterternary": [
           {
            "marker": {
             "colorbar": {
              "outlinewidth": 0,
              "ticks": ""
             }
            },
            "type": "scatterternary"
           }
          ],
          "surface": [
           {
            "colorbar": {
             "outlinewidth": 0,
             "ticks": ""
            },
            "colorscale": [
             [
              0,
              "#0d0887"
             ],
             [
              0.1111111111111111,
              "#46039f"
             ],
             [
              0.2222222222222222,
              "#7201a8"
             ],
             [
              0.3333333333333333,
              "#9c179e"
             ],
             [
              0.4444444444444444,
              "#bd3786"
             ],
             [
              0.5555555555555556,
              "#d8576b"
             ],
             [
              0.6666666666666666,
              "#ed7953"
             ],
             [
              0.7777777777777778,
              "#fb9f3a"
             ],
             [
              0.8888888888888888,
              "#fdca26"
             ],
             [
              1,
              "#f0f921"
             ]
            ],
            "type": "surface"
           }
          ],
          "table": [
           {
            "cells": {
             "fill": {
              "color": "#EBF0F8"
             },
             "line": {
              "color": "white"
             }
            },
            "header": {
             "fill": {
              "color": "#C8D4E3"
             },
             "line": {
              "color": "white"
             }
            },
            "type": "table"
           }
          ]
         },
         "layout": {
          "annotationdefaults": {
           "arrowcolor": "#2a3f5f",
           "arrowhead": 0,
           "arrowwidth": 1
          },
          "autotypenumbers": "strict",
          "coloraxis": {
           "colorbar": {
            "outlinewidth": 0,
            "ticks": ""
           }
          },
          "colorscale": {
           "diverging": [
            [
             0,
             "#8e0152"
            ],
            [
             0.1,
             "#c51b7d"
            ],
            [
             0.2,
             "#de77ae"
            ],
            [
             0.3,
             "#f1b6da"
            ],
            [
             0.4,
             "#fde0ef"
            ],
            [
             0.5,
             "#f7f7f7"
            ],
            [
             0.6,
             "#e6f5d0"
            ],
            [
             0.7,
             "#b8e186"
            ],
            [
             0.8,
             "#7fbc41"
            ],
            [
             0.9,
             "#4d9221"
            ],
            [
             1,
             "#276419"
            ]
           ],
           "sequential": [
            [
             0,
             "#0d0887"
            ],
            [
             0.1111111111111111,
             "#46039f"
            ],
            [
             0.2222222222222222,
             "#7201a8"
            ],
            [
             0.3333333333333333,
             "#9c179e"
            ],
            [
             0.4444444444444444,
             "#bd3786"
            ],
            [
             0.5555555555555556,
             "#d8576b"
            ],
            [
             0.6666666666666666,
             "#ed7953"
            ],
            [
             0.7777777777777778,
             "#fb9f3a"
            ],
            [
             0.8888888888888888,
             "#fdca26"
            ],
            [
             1,
             "#f0f921"
            ]
           ],
           "sequentialminus": [
            [
             0,
             "#0d0887"
            ],
            [
             0.1111111111111111,
             "#46039f"
            ],
            [
             0.2222222222222222,
             "#7201a8"
            ],
            [
             0.3333333333333333,
             "#9c179e"
            ],
            [
             0.4444444444444444,
             "#bd3786"
            ],
            [
             0.5555555555555556,
             "#d8576b"
            ],
            [
             0.6666666666666666,
             "#ed7953"
            ],
            [
             0.7777777777777778,
             "#fb9f3a"
            ],
            [
             0.8888888888888888,
             "#fdca26"
            ],
            [
             1,
             "#f0f921"
            ]
           ]
          },
          "colorway": [
           "#636efa",
           "#EF553B",
           "#00cc96",
           "#ab63fa",
           "#FFA15A",
           "#19d3f3",
           "#FF6692",
           "#B6E880",
           "#FF97FF",
           "#FECB52"
          ],
          "font": {
           "color": "#2a3f5f"
          },
          "geo": {
           "bgcolor": "white",
           "lakecolor": "white",
           "landcolor": "#E5ECF6",
           "showlakes": true,
           "showland": true,
           "subunitcolor": "white"
          },
          "hoverlabel": {
           "align": "left"
          },
          "hovermode": "closest",
          "mapbox": {
           "style": "light"
          },
          "paper_bgcolor": "white",
          "plot_bgcolor": "#E5ECF6",
          "polar": {
           "angularaxis": {
            "gridcolor": "white",
            "linecolor": "white",
            "ticks": ""
           },
           "bgcolor": "#E5ECF6",
           "radialaxis": {
            "gridcolor": "white",
            "linecolor": "white",
            "ticks": ""
           }
          },
          "scene": {
           "xaxis": {
            "backgroundcolor": "#E5ECF6",
            "gridcolor": "white",
            "gridwidth": 2,
            "linecolor": "white",
            "showbackground": true,
            "ticks": "",
            "zerolinecolor": "white"
           },
           "yaxis": {
            "backgroundcolor": "#E5ECF6",
            "gridcolor": "white",
            "gridwidth": 2,
            "linecolor": "white",
            "showbackground": true,
            "ticks": "",
            "zerolinecolor": "white"
           },
           "zaxis": {
            "backgroundcolor": "#E5ECF6",
            "gridcolor": "white",
            "gridwidth": 2,
            "linecolor": "white",
            "showbackground": true,
            "ticks": "",
            "zerolinecolor": "white"
           }
          },
          "shapedefaults": {
           "line": {
            "color": "#2a3f5f"
           }
          },
          "ternary": {
           "aaxis": {
            "gridcolor": "white",
            "linecolor": "white",
            "ticks": ""
           },
           "baxis": {
            "gridcolor": "white",
            "linecolor": "white",
            "ticks": ""
           },
           "bgcolor": "#E5ECF6",
           "caxis": {
            "gridcolor": "white",
            "linecolor": "white",
            "ticks": ""
           }
          },
          "title": {
           "x": 0.05
          },
          "xaxis": {
           "automargin": true,
           "gridcolor": "white",
           "linecolor": "white",
           "ticks": "",
           "title": {
            "standoff": 15
           },
           "zerolinecolor": "white",
           "zerolinewidth": 2
          },
          "yaxis": {
           "automargin": true,
           "gridcolor": "white",
           "linecolor": "white",
           "ticks": "",
           "title": {
            "standoff": 15
           },
           "zerolinecolor": "white",
           "zerolinewidth": 2
          }
         }
        },
        "title": {
         "text": "Percentage of players by role in the top 100"
        }
       }
      }
     },
     "metadata": {},
     "output_type": "display_data"
    }
   ],
   "source": [
    "df_pie = df.groupby(\"role\").size().to_frame('count').reset_index()\n",
    "fig3= px.pie(df_pie, values='count', names='role', title='Percentage of players by role in the top 100',color_discrete_sequence=px.colors.qualitative.Pastel)\n",
    "# Define hover info, text size, pull amount for each pie slice, and stroke\n",
    "fig3.update_traces(hoverinfo = 'label+percent', textfont_size = 12,\n",
    "                  textinfo = 'label+percent', pull = [0.1, 0.1, 0.1, 0.1, 0.1, 0.1])\n",
    "fig3.show()\n",
    "#Prevalence of Midfielders and Defenders\n",
    "#This is an interactive graph you can remove and add categories from the legend"
   ]
  },
  {
   "cell_type": "markdown",
   "metadata": {},
   "source": [
    "# Dashboard"
   ]
  },
  {
   "cell_type": "markdown",
   "metadata": {},
   "source": [
    "Dashboard with 3 charts on best 100 players: \\\n",
    "1- Scatter plot of Shooting Total vs Pace Total of strikers that can be filtered with a slider for Skill Moves and with a dropdown menu for the Preferred Foot\\\n",
    "2- Scatterplot of Overall vs Age of all players that can be filtered with a slider for IntReputation (Reputation in the football world)\\\n",
    "3- Scatterplot of Defendending Total vs Age that can be filtered with a slider for Defensive Work Rate and with a dropdown menu for the Preferred Foot*"
   ]
  },
  {
   "cell_type": "code",
   "execution_count": 132,
   "metadata": {},
   "outputs": [
    {
     "name": "stderr",
     "output_type": "stream",
     "text": [
      "/var/folders/sc/r0jqlfy569scw9syx066s6n80000gn/T/ipykernel_1833/1273140932.py:5: SettingWithCopyWarning:\n",
      "\n",
      "\n",
      "A value is trying to be set on a copy of a slice from a DataFrame.\n",
      "Try using .loc[row_indexer,col_indexer] = value instead\n",
      "\n",
      "See the caveats in the documentation: https://pandas.pydata.org/pandas-docs/stable/user_guide/indexing.html#returning-a-view-versus-a-copy\n",
      "\n",
      "/var/folders/sc/r0jqlfy569scw9syx066s6n80000gn/T/ipykernel_1833/1273140932.py:6: SettingWithCopyWarning:\n",
      "\n",
      "\n",
      "A value is trying to be set on a copy of a slice from a DataFrame.\n",
      "Try using .loc[row_indexer,col_indexer] = value instead\n",
      "\n",
      "See the caveats in the documentation: https://pandas.pydata.org/pandas-docs/stable/user_guide/indexing.html#returning-a-view-versus-a-copy\n",
      "\n",
      "/var/folders/sc/r0jqlfy569scw9syx066s6n80000gn/T/ipykernel_1833/1273140932.py:7: SettingWithCopyWarning:\n",
      "\n",
      "\n",
      "A value is trying to be set on a copy of a slice from a DataFrame.\n",
      "Try using .loc[row_indexer,col_indexer] = value instead\n",
      "\n",
      "See the caveats in the documentation: https://pandas.pydata.org/pandas-docs/stable/user_guide/indexing.html#returning-a-view-versus-a-copy\n",
      "\n",
      "/var/folders/sc/r0jqlfy569scw9syx066s6n80000gn/T/ipykernel_1833/1273140932.py:8: SettingWithCopyWarning:\n",
      "\n",
      "\n",
      "A value is trying to be set on a copy of a slice from a DataFrame.\n",
      "Try using .loc[row_indexer,col_indexer] = value instead\n",
      "\n",
      "See the caveats in the documentation: https://pandas.pydata.org/pandas-docs/stable/user_guide/indexing.html#returning-a-view-versus-a-copy\n",
      "\n"
     ]
    }
   ],
   "source": [
    "SkillMoves=df['SkillMoves'].unique().tolist().sort()\n",
    "foot_options=df['PreferredFoot'].unique().tolist()\n",
    "Reputation=df['IntReputation'].unique().tolist().sort()\n",
    "defenders=df[df['role']=='Defenders']\n",
    "defenders['DefensiveWorkRate']=defenders['DefensiveWorkRate'].replace('Low','1')\n",
    "defenders['DefensiveWorkRate']=defenders['DefensiveWorkRate'].replace('Medium','2')\n",
    "defenders['DefensiveWorkRate']=defenders['DefensiveWorkRate'].replace('High','3')\n",
    "defenders['DefensiveWorkRate']=defenders['DefensiveWorkRate'].astype(int)\n",
    "defenders['OnLoad']==defenders['OnLoad'].replace(False,'Owned')\n",
    "defenders['OnLoad']==defenders['OnLoad'].replace(True,'On Loan')\n",
    "defensiveworkrate= defenders['DefensiveWorkRate'].unique().tolist()\n",
    "defensiveworkrate.sort()"
   ]
  },
  {
   "cell_type": "code",
   "execution_count": 133,
   "metadata": {},
   "outputs": [],
   "source": [
    "external_stylesheets = ['https://codepen.io/chriddyp/pen/bWLwgP.css'] \n",
    "app = JupyterDash(__name__, external_stylesheets = external_stylesheets)"
   ]
  },
  {
   "cell_type": "code",
   "execution_count": 134,
   "metadata": {},
   "outputs": [],
   "source": [
    "app.layout = html.Div([\n",
    "\t\thtml.Div([\n",
    "\t\t\t\thtml.Div([\n",
    "\t\t\t\t\t\thtml.P( \"Filter by Skillmoves :\", className = \"control_label\"),\n",
    "\t\t\t\t\t\tdcc.RangeSlider(id = \"skill_slider\",\n",
    "\t\t\t\t\t\t\t            min = 2,\n",
    "\t\t\t\t\t\t\t            max = 5,\n",
    "\t\t\t\t\t\t\t            value = [2, 5],\n",
    "\t\t\t\t\t\t\t            className = \"dcc_control\"),\n",
    "\t\t\t\t\t\thtml.P(\"Filter by Preferred foot:\", className = \"control_label\"),\n",
    "\t\t\t\t\t\tdcc.Dropdown(   id = \"Preferredfoot\",\n",
    "                                        options =[{'label':foot_options[0],'value':'Left'},\n",
    "\t\t\t\t\t\t\t\t\t\t{'label':foot_options[1],'value':'Right'}],\n",
    "                                        multi = True,\n",
    "                                        value = ['Left', 'Right'],\n",
    "                                        className = \"dcc_control\")\n",
    "\t\t\t\t\t],\n",
    "\t\t\t\t\tclassName = \"pretty_container four columns\",\n",
    "\t\t\t\t\tid = \"cross-filter-options\",\n",
    "\t\t\t\t),\n",
    "\t\t\t\thtml.Div(   [dcc.Graph(id = \"graph\")],\n",
    "                            id = \"countGraphContainer\",\n",
    "                            className = \"pretty_container eight columns\",\n",
    "\t\t\t\t),\n",
    "\t\t\t],\n",
    "\t\t\tclassName = \"row flex-display\",\n",
    "\t\t),\n",
    "\t\thtml.Div([\n",
    "\t\t\t\thtml.Div([\n",
    "\t\t\t\t\t\thtml.P( \"Filter by Reputation :\", className = \"control_label\"),\n",
    "\t\t\t\t\t\tdcc.RangeSlider(id = \"skill_slider2\",\n",
    "\t\t\t\t\t\t\t            min = 1,\n",
    "\t\t\t\t\t\t\t            max = 5,\n",
    "\t\t\t\t\t\t\t            value = [1, 5],\n",
    "\t\t\t\t\t\t\t\t\t\tmarks={1:'1',\n",
    "\t\t\t\t\t\t\t\t\t\t2:'2',\n",
    "\t\t\t\t\t\t\t\t\t\t3:'3',\n",
    "\t\t\t\t\t\t\t\t\t\t4:'4',\n",
    "\t\t\t\t\t\t\t\t\t\t5:'5'},\n",
    "\t\t\t\t\t\t\t            className = \"dcc_control\"),\n",
    "\t\t\t\t\t],\n",
    "\t\t\t\t\tclassName = \"pretty_container four columns\",\n",
    "\t\t\t\t\tid = \"cross-filter\",\n",
    "\t\t\t\t),\n",
    "\t\t\t\thtml.Div(   [dcc.Graph(id = \"Reputation\")],\n",
    "                            id = \"GraphContainer\",\n",
    "                            className = \"pretty_container eight columns\",\n",
    "\t\t\t\t),\n",
    "\t\t\t],\n",
    "\t\t\tclassName = \"row flex-display\",\n",
    "\t\t),\n",
    "\t\thtml.Div([\n",
    "\t\t\t\thtml.Div([\n",
    "\t\t\t\t\t\thtml.P( \"Filter by Defensive Work Rate :\", className = \"control_label\"),\n",
    "\t\t\t\t\t\tdcc.RangeSlider(id = \"slider\",\n",
    "\t\t\t\t\t\t\t            min = 1,\n",
    "\t\t\t\t\t\t\t            max = 3,\n",
    "\t\t\t\t\t\t\t            value = [1, 3],\n",
    "\t\t\t\t\t\t\t\t\t\tmarks={\n",
    "\t\t\t\t\t\t\t\t\t\t\t1:'L',\n",
    "\t\t\t\t\t\t\t\t\t\t\t2:'M',\n",
    "\t\t\t\t\t\t\t\t\t\t\t3:'H',\n",
    "\t\t\t\t\t\t\t\t\t\t},\n",
    "\t\t\t\t\t\t\t            className = \"dcc_control\"),\n",
    "\t\t\t\t\t\thtml.P(\"Foot :\", className = \"control_label\"),\n",
    "\t\t\t\t\t\tdcc.Dropdown(   id = \"Foot\",\n",
    "                                         options =[{'label':foot_options[0],'value':'Left'},\n",
    "\t\t\t\t\t\t \t\t\t\t{'label':foot_options[1],'value':'Right'}],\n",
    "                                         multi = True,\n",
    "                                         value = ['Left', 'Right'],\n",
    "                                         className = \"dcc_control\")\n",
    "\t\t\t\t\t],\n",
    "\t\t\t\t\tclassName = \"pretty_container four columns\",\n",
    "\t\t\t\t\tid = \"crosfilt\",\n",
    "\t\t\t\t),\n",
    "\t\t\t\thtml.Div(   [dcc.Graph(id = \"grafico\")],\n",
    "                            id = \"grafico2\",\n",
    "                            className = \"pretty_container eight columns\",\n",
    "\t\t\t\t),\n",
    "\t\t\t],\n",
    "\t\t\tclassName = \"row flex-display\",\n",
    "\t\t),\n",
    "\t\t\n",
    "],\n",
    "\tid=\"mainContainer\",\n",
    "\tstyle={\"display\": \"flex\", \"flex-direction\": \"column\"}\n",
    ")"
   ]
  },
  {
   "cell_type": "code",
   "execution_count": 135,
   "metadata": {},
   "outputs": [],
   "source": [
    "@app.callback(\tOutput(\"graph\", \"figure\"),[Input(\"skill_slider\", \"value\"),Input('Preferredfoot','value')])\n",
    "def scatter(Skills,Preferredfoot):\n",
    "    strikmid=df[df['role']=='Strikers' ]\n",
    "    temp=strikmid[strikmid['PreferredFoot'].isin(Preferredfoot)]\n",
    "    temp=temp[temp['SkillMoves'].isin(list(range(Skills[0],Skills[-1]+1)))]\n",
    "    fig5= px.scatter(temp, x=\"ShootingTotal\", y=\"PaceTotal\", size = \"Overall\",symbol=\"SkillMoves\",color='PreferredFoot',title='Strikers')\n",
    "    return fig5"
   ]
  },
  {
   "cell_type": "code",
   "execution_count": 136,
   "metadata": {},
   "outputs": [],
   "source": [
    "@app.callback(\tOutput(\"Reputation\", \"figure\"),\tInput(\"skill_slider2\", \"value\"))\n",
    "def scatter(Reputation):\n",
    "    temp2=df[df['IntReputation'].isin(list(range(Reputation[0],Reputation[-1]+1)))]\n",
    "    fig6= px.scatter(temp2, y=\"Age\", x=\"Overall\",color='IntReputation',title='Players',color_continuous_scale=px.colors.sequential.deep)\n",
    "    return fig6"
   ]
  },
  {
   "cell_type": "code",
   "execution_count": 137,
   "metadata": {},
   "outputs": [],
   "source": [
    "@app.callback(\tOutput(\"grafico\", \"figure\"),[Input(\"slider\", \"value\"),Input('Foot','value')])\n",
    "def scatter(prestazione,piede):\n",
    "   temp3=defenders[defenders['PreferredFoot'].isin(piede)]\n",
    "   temp3=temp3[temp3['DefensiveWorkRate'].isin(list(range(prestazione[0],prestazione[-1]+1)))]\n",
    "   fig7= px.scatter(temp3, x=\"DefendingTotal\", y=\"Age\", size = \"Overall\",color='PreferredFoot',symbol='DefensiveWorkRate',  color_discrete_sequence=px.colors.qualitative.Pastel,title='Defenders')\n",
    "   return fig7\n"
   ]
  },
  {
   "cell_type": "code",
   "execution_count": 138,
   "metadata": {},
   "outputs": [
    {
     "data": {
      "text/html": [
       "\n",
       "        <iframe\n",
       "            width=\"100%\"\n",
       "            height=\"650\"\n",
       "            src=\"http://127.0.0.1:8050/\"\n",
       "            frameborder=\"0\"\n",
       "            allowfullscreen\n",
       "            \n",
       "        ></iframe>\n",
       "        "
      ],
      "text/plain": [
       "<IPython.lib.display.IFrame at 0x7f9a4d21c7f0>"
      ]
     },
     "metadata": {},
     "output_type": "display_data"
    }
   ],
   "source": [
    "app.run_server(mode='inline')"
   ]
  },
  {
   "cell_type": "markdown",
   "metadata": {},
   "source": [
    "# Network Analysis"
   ]
  },
  {
   "cell_type": "markdown",
   "metadata": {},
   "source": [
    " Since we didn't have a proper dataset for network or graph visualization we had to create the columns and edges ourselves. In order to identify whether it is true that to be in the top 100 players it is necessary to be part of one of the best teams in the world we decided to create edges between all the players belonging to the same Club or with the same nationality"
   ]
  },
  {
   "cell_type": "markdown",
   "metadata": {},
   "source": [
    "## First Graph"
   ]
  },
  {
   "cell_type": "markdown",
   "metadata": {},
   "source": [
    "Function to create Source and Target columns for Gephi and Networkx visualization"
   ]
  },
  {
   "cell_type": "code",
   "execution_count": 139,
   "metadata": {},
   "outputs": [
    {
     "name": "stderr",
     "output_type": "stream",
     "text": [
      "/var/folders/sc/r0jqlfy569scw9syx066s6n80000gn/T/ipykernel_1833/2022340965.py:47: FutureWarning:\n",
      "\n",
      "The default dtype for empty Series will be 'object' instead of 'float64' in a future version. Specify a dtype explicitly to silence this warning.\n",
      "\n",
      "/var/folders/sc/r0jqlfy569scw9syx066s6n80000gn/T/ipykernel_1833/2022340965.py:48: FutureWarning:\n",
      "\n",
      "The default dtype for empty Series will be 'object' instead of 'float64' in a future version. Specify a dtype explicitly to silence this warning.\n",
      "\n",
      "/var/folders/sc/r0jqlfy569scw9syx066s6n80000gn/T/ipykernel_1833/2022340965.py:47: FutureWarning:\n",
      "\n",
      "The default dtype for empty Series will be 'object' instead of 'float64' in a future version. Specify a dtype explicitly to silence this warning.\n",
      "\n",
      "/var/folders/sc/r0jqlfy569scw9syx066s6n80000gn/T/ipykernel_1833/2022340965.py:48: FutureWarning:\n",
      "\n",
      "The default dtype for empty Series will be 'object' instead of 'float64' in a future version. Specify a dtype explicitly to silence this warning.\n",
      "\n"
     ]
    },
    {
     "data": {
      "text/plain": [
       "582"
      ]
     },
     "execution_count": 139,
     "metadata": {},
     "output_type": "execute_result"
    }
   ],
   "source": [
    "# we'll build a function that will create two columns 'Source' and 'Target' in a new dataframe that will define the edges between players in the same team and with the same nationality.\n",
    "df2=df.iloc[:100,]\n",
    "df3=pd.DataFrame(index=list(range(0,542)))\n",
    "df4=pd.DataFrame(index=list(range(0,582)))\n",
    "lsourceclub=[]\n",
    "ltargetclub=[]\n",
    "lsourcenations=[]\n",
    "ltargetnations=[]\n",
    "nolink=[]\n",
    "def clubs(name):\n",
    "    l=[]\n",
    "    for el in range(0,len(df2['Name'])):\n",
    "        if df2['Name'][el]==name:\n",
    "            ind=el\n",
    "    for i in range(0,len(df2['Name'])):\n",
    "        if df2['Club'][i]==df2['Club'][ind] and i!=ind:\n",
    "            l.append(df2['Name'][i])\n",
    "    if len(l)!=0:\n",
    "        for x in l:\n",
    "            lsourceclub.append(df2['Name'][ind])\n",
    "            ltargetclub.append(x)\n",
    "    else:\n",
    "        lsourceclub.append(df2['Name'][ind])\n",
    "        ltargetclub.append(df2['Name'][ind])\n",
    "    l.clear()\n",
    "    df3['Source']=pd.Series(lsourceclub)\n",
    "    df3['Target']=pd.Series(ltargetclub)\n",
    "    return lsourceclub,ltargetclub\n",
    "for i in df2['Name']:\n",
    "    clubs(i)    \n",
    "def nationality(name):\n",
    "    l=[]\n",
    "    for el in range(0,len(df2['Name'])):\n",
    "        if df2['Name'][el]==name:\n",
    "            ind=el\n",
    "    for i in range(0,len(df2['Name'])):\n",
    "        if df2['Nationality'][i]==df2['Nationality'][ind] and i!=ind:\n",
    "            l.append(df2['Name'][i])\n",
    "            if len(l)!=0:\n",
    "                for x in l:\n",
    "                    lsourcenations.append(df2['Name'][ind])\n",
    "                    ltargetnations.append(x)\n",
    "            else:\n",
    "                lsourcenations.append(df2['Name'][ind])\n",
    "                ltargetnations.append(df2['Name'][ind])\n",
    "        l.clear()\n",
    "        df4['Source']=pd.Series(lsourcenations)\n",
    "        df4['Target']=pd.Series(ltargetnations)\n",
    "    return lsourcenations,ltargetnations\n",
    "for c in df2['Name']:\n",
    "    nationality(c)    \n",
    "len(lsourcenations)\n",
    "len(ltargetnations)"
   ]
  },
  {
   "cell_type": "code",
   "execution_count": 140,
   "metadata": {},
   "outputs": [
    {
     "data": {
      "text/html": [
       "<div>\n",
       "<style scoped>\n",
       "    .dataframe tbody tr th:only-of-type {\n",
       "        vertical-align: middle;\n",
       "    }\n",
       "\n",
       "    .dataframe tbody tr th {\n",
       "        vertical-align: top;\n",
       "    }\n",
       "\n",
       "    .dataframe thead th {\n",
       "        text-align: right;\n",
       "    }\n",
       "</style>\n",
       "<table border=\"1\" class=\"dataframe\">\n",
       "  <thead>\n",
       "    <tr style=\"text-align: right;\">\n",
       "      <th></th>\n",
       "      <th>Source</th>\n",
       "      <th>Target</th>\n",
       "    </tr>\n",
       "  </thead>\n",
       "  <tbody>\n",
       "    <tr>\n",
       "      <th>0</th>\n",
       "      <td>L. Messi</td>\n",
       "      <td>K. Mbappé</td>\n",
       "    </tr>\n",
       "    <tr>\n",
       "      <th>1</th>\n",
       "      <td>L. Messi</td>\n",
       "      <td>Neymar Jr</td>\n",
       "    </tr>\n",
       "    <tr>\n",
       "      <th>2</th>\n",
       "      <td>L. Messi</td>\n",
       "      <td>G. Donnarumma</td>\n",
       "    </tr>\n",
       "    <tr>\n",
       "      <th>3</th>\n",
       "      <td>L. Messi</td>\n",
       "      <td>Sergio Ramos</td>\n",
       "    </tr>\n",
       "    <tr>\n",
       "      <th>4</th>\n",
       "      <td>L. Messi</td>\n",
       "      <td>K. Navas</td>\n",
       "    </tr>\n",
       "    <tr>\n",
       "      <th>...</th>\n",
       "      <td>...</td>\n",
       "      <td>...</td>\n",
       "    </tr>\n",
       "    <tr>\n",
       "      <th>1119</th>\n",
       "      <td>Luis Alberto</td>\n",
       "      <td>A. Laporte</td>\n",
       "    </tr>\n",
       "    <tr>\n",
       "      <th>1120</th>\n",
       "      <td>Luis Alberto</td>\n",
       "      <td>David Silva</td>\n",
       "    </tr>\n",
       "    <tr>\n",
       "      <th>1121</th>\n",
       "      <td>Luis Alberto</td>\n",
       "      <td>Koke</td>\n",
       "    </tr>\n",
       "    <tr>\n",
       "      <th>1122</th>\n",
       "      <td>Luis Alberto</td>\n",
       "      <td>Oyarzabal</td>\n",
       "    </tr>\n",
       "    <tr>\n",
       "      <th>1123</th>\n",
       "      <td>Luis Alberto</td>\n",
       "      <td>Carvajal</td>\n",
       "    </tr>\n",
       "  </tbody>\n",
       "</table>\n",
       "<p>1124 rows × 2 columns</p>\n",
       "</div>"
      ],
      "text/plain": [
       "            Source         Target\n",
       "0         L. Messi      K. Mbappé\n",
       "1         L. Messi      Neymar Jr\n",
       "2         L. Messi  G. Donnarumma\n",
       "3         L. Messi   Sergio Ramos\n",
       "4         L. Messi       K. Navas\n",
       "...            ...            ...\n",
       "1119  Luis Alberto     A. Laporte\n",
       "1120  Luis Alberto    David Silva\n",
       "1121  Luis Alberto           Koke\n",
       "1122  Luis Alberto      Oyarzabal\n",
       "1123  Luis Alberto       Carvajal\n",
       "\n",
       "[1124 rows x 2 columns]"
      ]
     },
     "execution_count": 140,
     "metadata": {},
     "output_type": "execute_result"
    }
   ],
   "source": [
    "#Exporting dataframe with top 100 players connected by club and nation\n",
    "#This cell of code creates a csv file with the top 100 players by Source and Target \n",
    "dfgephi=pd.concat([df3,df4])\n",
    "dfgephi.to_csv('Top100playersconnection.csv')\n",
    "dfgephi=pd.read_csv('Top100playersconnection.csv')\n",
    "dfgephi.drop('Unnamed: 0',axis=1)"
   ]
  },
  {
   "cell_type": "markdown",
   "metadata": {},
   "source": [
    "## Graph Measures"
   ]
  },
  {
   "cell_type": "markdown",
   "metadata": {},
   "source": [
    "Function to find number of components and largest component in case we have more than one"
   ]
  },
  {
   "cell_type": "code",
   "execution_count": 141,
   "metadata": {},
   "outputs": [],
   "source": [
    "def Components(Graph):\n",
    "    connectedornot=nx.is_connected(Graph) #Is the graph connected? \n",
    "    print('Is the graph connected?:\\n'+str(connectedornot))\n",
    "    numberofcomponents=nx.number_connected_components(Graph) #Number of connected components\n",
    "    print('Number of components:\\n'+ str(numberofcomponents))\n",
    "    largest_cc_nodeset = max(nx.connected_components(Graph), key=len) #Largest of connected components\n",
    "    largest_component = Graph.subgraph(largest_cc_nodeset).copy()\n",
    "    print('The biggest component  is a:\\n'+str(largest_component))"
   ]
  },
  {
   "cell_type": "markdown",
   "metadata": {},
   "source": [
    "This is a function to compute all the measures related to the biggest  component of the graph. Performing such thing on the other components would be irrelevant since they are all single unconnected components "
   ]
  },
  {
   "cell_type": "code",
   "execution_count": 142,
   "metadata": {},
   "outputs": [],
   "source": [
    "def ComponentMeasures(Component):\n",
    "    numberofnodes=Component.number_of_nodes()\n",
    "    print('Number of nodes of the biggest component:\\n'+str(numberofnodes)) #Number of nodes\n",
    "    degree_centrality = nx.degree_centrality(Component) #Degree Centrality\n",
    "    degree_centrality_sort = sorted(degree_centrality.items(), key=lambda x:x[1], reverse = True)\n",
    "    print('Degree Centrality of top 10 nodes:\\n'+ str(degree_centrality_sort[0:10]))\n",
    "    betwenness_centrality = nx.betweenness_centrality(Component, normalized=False)\n",
    "    betwenness_centrality_sort = sorted(betwenness_centrality.items(), key=lambda x:x[1], reverse = True) #Betwenness Centrality\n",
    "    print('Betwenness Centrality of top 10 nodes:\\n'+ str(betwenness_centrality_sort[0:10]))\n",
    "    closeness_centrality=nx.closeness_centrality(Component) #Closeness Centrality\n",
    "    closeness_centrality_sort = sorted(closeness_centrality.items(), key=lambda x:x[1], reverse = True)\n",
    "    print('Closeness Centrality of top 10 nodes:\\n'+ str(closeness_centrality_sort[0:10])) \n",
    "    clustering_coefficient=nx.clustering(Component) #Clustering Coefficient\n",
    "    clustering_coefficient_sort = sorted(clustering_coefficient.items(), key=lambda x:x[1], reverse = True)\n",
    "    print('Clustering Coefficient of top 10 nodes:\\n'+ str(clustering_coefficient_sort[0:10]))\n",
    "    density=nx.density(Component) #Density\n",
    "    print('Density of the component:\\n'+str(density))\n",
    "    diameter=nx.diameter(Component) #Diameter of the component\n",
    "    print('Diameter of the component:\\n'+ str(diameter))\n",
    "    Avg_shortest_path=nx.average_shortest_path_length(Component) #Average shortest path of the component\n",
    "    print('Average Shortest Path:\\n'+str(Avg_shortest_path))\n"
   ]
  },
  {
   "cell_type": "markdown",
   "metadata": {},
   "source": [
    "Function to plot degree distribution of nodes"
   ]
  },
  {
   "cell_type": "code",
   "execution_count": 143,
   "metadata": {},
   "outputs": [],
   "source": [
    "def degree(Component,grafo):\n",
    "    degrees=[ ] #Distribution of degrees\n",
    "    for v in Component.nodes():\n",
    "        degrees.append(grafo.degree(v))\n",
    "    plt.figure(figsize=(12, 7)) \n",
    "    plt.title('Plot of Degree Distribution of nodes ')\n",
    "    sns.countplot(x=degrees)\n",
    "    plt.xlabel('Degree')\n",
    "    plt.ylabel('Count')\n",
    "    plt.show()"
   ]
  },
  {
   "cell_type": "markdown",
   "metadata": {},
   "source": [
    "#### Creating a networkx graph for first graph dataset"
   ]
  },
  {
   "cell_type": "code",
   "execution_count": 144,
   "metadata": {},
   "outputs": [
    {
     "data": {
      "image/png": "[encoded data removed]",
      "text/plain": [
       "<Figure size 432x288 with 1 Axes>"
      ]
     },
     "metadata": {},
     "output_type": "display_data"
    }
   ],
   "source": [
    "#Creating a graph with networkx\n",
    "grafo=nx.from_pandas_edgelist(dfgephi,'Source','Target')\n",
    "#Plotting graph\n",
    "nx.draw(grafo,with_labels=True)\n",
    "#A few players with self loop--> meaning that they don't have any nation or teammate in the top 100. \n",
    "#Will they represent a community of their own or will be they considered as belonging to a single community?"
   ]
  },
  {
   "cell_type": "markdown",
   "metadata": {},
   "source": [
    "Computing components measure and community detection for the first dataset (edges between all players in the same nation and all players in the same team)\n"
   ]
  },
  {
   "cell_type": "code",
   "execution_count": 145,
   "metadata": {},
   "outputs": [
    {
     "name": "stdout",
     "output_type": "stream",
     "text": [
      "Is the graph connected?:\n",
      "False\n",
      "Number of components:\n",
      "4\n",
      "The biggest component  is a:\n",
      "Graph with 97 nodes and 530 edges\n",
      "Number of nodes of the biggest component:\n",
      "97\n",
      "Degree Centrality of top 10 nodes:\n",
      "[('Sergio Ramos', 0.22916666666666666), ('Rodri', 0.22916666666666666), ('A. Laporte', 0.22916666666666666), ('Thiago', 0.21875), ('Carvajal', 0.20833333333333331), ('I. Gündoğan', 0.19791666666666666), ('K. Mbappé', 0.17708333333333331), ('Ederson', 0.17708333333333331), ('Sergio Busquets', 0.17708333333333331), ('Jordi Alba', 0.17708333333333331)]\n",
      "Betwenness Centrality of top 10 nodes:\n",
      "[('K. Mbappé', 318.62127030005905), ('I. Gündoğan', 299.0162837307157), ('Sergio Ramos', 266.5802131262304), ('T. Alexander-Arnold', 248.21397301829597), ('M. ter Stegen', 215.4718641519554), ('Thiago', 212.8580792204013), ('Carvajal', 204.95283494259007), ('K. Coman', 201.95622424733523), ('V. van Dijk', 200.36893280763155), ('Rodri', 199.6868801498508)]\n",
      "Closeness Centrality of top 10 nodes:\n",
      "[('Rodri', 0.4873096446700508), ('A. Laporte', 0.4873096446700508), ('Sergio Ramos', 0.48), ('Carvajal', 0.47761194029850745), ('Thiago', 0.46601941747572817), ('Sergio Busquets', 0.463768115942029), ('Jordi Alba', 0.463768115942029), ('K. Mbappé', 0.46153846153846156), ('Ederson', 0.45933014354066987), ('Neymar Jr', 0.4528301886792453)]\n",
      "Clustering Coefficient of top 10 nodes:\n",
      "[('K. Navas', 1.0), ('A. Hakimi', 1.0), ('R. Mahrez', 1.0), ('H. Son', 1.0), ('L. Modrić', 1.0), ('D. Alaba', 1.0), ('M. Salah', 1.0), ('A. Robertson', 1.0), ('E. Haaland', 1.0), ('S. Milinković-Savić', 1.0)]\n",
      "Density of the component:\n",
      "0.11383161512027491\n",
      "Diameter of the component:\n",
      "6\n",
      "Average Shortest Path:\n",
      "2.593857388316151\n"
     ]
    },
    {
     "data": {
      "image/png": "[encoded data removed]",
      "text/plain": [
       "<Figure size 864x504 with 1 Axes>"
      ]
     },
     "metadata": {
      "needs_background": "light"
     },
     "output_type": "display_data"
    }
   ],
   "source": [
    "largest_cc_nodeset = max(nx.connected_components(grafo), key=len) #Largest of connected components\n",
    "Component = grafo.subgraph(largest_cc_nodeset).copy()\n",
    "Components(grafo)\n",
    "ComponentMeasures(Component)\n",
    "degree(Component,grafo)"
   ]
  },
  {
   "cell_type": "markdown",
   "metadata": {},
   "source": [
    "The fact that the distribution of the degree of nodes doesn't follow a power-law distribution so this might tell us that maybe we 're not really dealing with a social network. There are a lot of clique probably this will be seen in the last part"
   ]
  },
  {
   "cell_type": "markdown",
   "metadata": {},
   "source": [
    "## Community Detection"
   ]
  },
  {
   "cell_type": "markdown",
   "metadata": {},
   "source": [
    "#### Looking for communities with a divisive algorithm --> Girvan-Newman"
   ]
  },
  {
   "cell_type": "code",
   "execution_count": 146,
   "metadata": {},
   "outputs": [
    {
     "name": "stdout",
     "output_type": "stream",
     "text": [
      "[['T. Alexander-Arnold', 'T. Courtois', 'Luis Alberto', 'N. Kanté', 'T. Müller', 'A. Griezmann', 'Carvajal', 'L. Modrić', 'E. Haaland', 'A. Robertson', 'K. De Bruyne', 'S. Milinković-Savić', 'Koke', 'S. Agüero', 'Alisson', 'Cristiano Ronaldo', 'Marcos Llorente', 'Ederson', 'João Cancelo', 'David Silva', 'L. Messi', 'K. Benzema', 'R. Mahrez', 'Parejo', 'E. Cavani', 'R. Sterling', 'L. Martínez', 'M. Reus', 'S. Gnabry', 'J. Vardy', 'F. de Jong', 'K. Walker', 'Fabinho', 'E. Hazard', 'J. Kimmich', 'Neymar Jr', 'Thiago', 'K. Navas', 'M. Verratti', 'H. Kane', 'Gerard Moreno', 'M. de Ligt', 'K. Casteels', 'G. Chiellini', 'D. Alaba', 'A. Hakimi', 'I. Gündoğan', 'M. ter Stegen', 'Sergio Ramos', 'Sergio Busquets', 'J. Sancho', 'Thiago Silva', 'M. Salah', 'J. Oblak', 'R. Lewandowski', 'M. Rashford', 'Bernardo Silva', 'A. Laporte', 'L. Bonucci', 'W. Szczęsny', 'Oyarzabal', 'Marquinhos', 'G. Donnarumma', 'Casemiro', 'T. Kroos', 'Bruno Fernandes', 'L. Insigne', 'L. Goretzka', 'Rodri', 'L. Digne', 'K. Mbappé', 'A. Di María', 'Jordi Alba', 'Jorginho', 'M. Neuer', 'C. Immobile', 'P. Pogba', 'S. Mané', 'H. Son', 'L. Suárez', 'K. Koulibaly', 'A. Gómez', 'V. van Dijk', 'H. Lloris', 'M. Hummels', 'R. Varane', 'R. Lukaku', 'S. de Vrij', 'S. Handanovič', 'Rúben Dias', 'M. Škriniar', 'P. Dybala', 'M. Depay', 'K. Coman', 'Roberto Firmino'], ['W. Ndidi', 'K. Schmeichel'], ['P. Gulácsi'], ['Y. Sommer'], ['P. Aubameyang']]\n"
     ]
    },
    {
     "data": {
      "image/png": "[encoded data removed]",
      "text/plain": [
       "<Figure size 864x576 with 1 Axes>"
      ]
     },
     "metadata": {},
     "output_type": "display_data"
    }
   ],
   "source": [
    "##Girvan Newman community detection --> Divisive clustering\n",
    "communities=girvan_newman(grafo, most_valuable_edge=None)\n",
    "plt.figure(figsize=(12,8))\n",
    "node_groups = []\n",
    "for com in next(communities):\n",
    "  node_groups.append(list(com))\n",
    "print(node_groups)\n",
    "color_map = []\n",
    "for node in grafo:\n",
    "    if node in node_groups[0]:\n",
    "      color_map.append('green')\n",
    "    else: \n",
    "      color_map.append('lightblue')  \n",
    "nx.draw(grafo, node_color=color_map, with_labels=True, font_size=10)\n",
    "plt.show()"
   ]
  },
  {
   "cell_type": "markdown",
   "metadata": {},
   "source": [
    "#### Why Ndidi and Schmeichel belong to the purple community and not to the green one composed by all the nodes in the giant components?"
   ]
  },
  {
   "cell_type": "code",
   "execution_count": 147,
   "metadata": {},
   "outputs": [
    {
     "name": "stdout",
     "output_type": "stream",
     "text": [
      "Schmeichel ranking and team:\n",
      "77    Leicester City\n",
      "Name: Club, dtype: object\n",
      "Leicester City players:\n",
      "63         J. Vardy\n",
      "77    K. Schmeichel\n",
      "93         W. Ndidi\n",
      "Name: Name, dtype: object\n",
      "77    Denmark\n",
      "Name: Nationality, dtype: object\n"
     ]
    },
    {
     "data": {
      "text/html": [
       "<div>\n",
       "<style scoped>\n",
       "    .dataframe tbody tr th:only-of-type {\n",
       "        vertical-align: middle;\n",
       "    }\n",
       "\n",
       "    .dataframe tbody tr th {\n",
       "        vertical-align: top;\n",
       "    }\n",
       "\n",
       "    .dataframe thead th {\n",
       "        text-align: right;\n",
       "    }\n",
       "</style>\n",
       "<table border=\"1\" class=\"dataframe\">\n",
       "  <thead>\n",
       "    <tr style=\"text-align: right;\">\n",
       "      <th></th>\n",
       "      <th>ID</th>\n",
       "      <th>Name</th>\n",
       "      <th>FullName</th>\n",
       "      <th>Age</th>\n",
       "      <th>Height</th>\n",
       "      <th>Weight</th>\n",
       "      <th>PhotoUrl</th>\n",
       "      <th>Nationality</th>\n",
       "      <th>Overall</th>\n",
       "      <th>Potential</th>\n",
       "      <th>...</th>\n",
       "      <th>CMRating</th>\n",
       "      <th>RMRating</th>\n",
       "      <th>LWBRating</th>\n",
       "      <th>CDMRating</th>\n",
       "      <th>RWBRating</th>\n",
       "      <th>LBRating</th>\n",
       "      <th>CBRating</th>\n",
       "      <th>RBRating</th>\n",
       "      <th>GKRating</th>\n",
       "      <th>role</th>\n",
       "    </tr>\n",
       "  </thead>\n",
       "  <tbody>\n",
       "    <tr>\n",
       "      <th>77</th>\n",
       "      <td>163587</td>\n",
       "      <td>K. Schmeichel</td>\n",
       "      <td>Kasper Schmeichel</td>\n",
       "      <td>34</td>\n",
       "      <td>189</td>\n",
       "      <td>89</td>\n",
       "      <td>https://cdn.sofifa.com/players/163/587/22_60.png</td>\n",
       "      <td>Denmark</td>\n",
       "      <td>85</td>\n",
       "      <td>85</td>\n",
       "      <td>...</td>\n",
       "      <td>41</td>\n",
       "      <td>37</td>\n",
       "      <td>33</td>\n",
       "      <td>38</td>\n",
       "      <td>33</td>\n",
       "      <td>32</td>\n",
       "      <td>31</td>\n",
       "      <td>32</td>\n",
       "      <td>85</td>\n",
       "      <td>Goalkeepers</td>\n",
       "    </tr>\n",
       "  </tbody>\n",
       "</table>\n",
       "<p>1 rows × 91 columns</p>\n",
       "</div>"
      ],
      "text/plain": [
       "        ID           Name           FullName  Age  Height  Weight  \\\n",
       "77  163587  K. Schmeichel  Kasper Schmeichel   34     189      89   \n",
       "\n",
       "                                            PhotoUrl Nationality  Overall  \\\n",
       "77  https://cdn.sofifa.com/players/163/587/22_60.png     Denmark       85   \n",
       "\n",
       "    Potential  ...  CMRating  RMRating  LWBRating CDMRating RWBRating  \\\n",
       "77         85  ...        41        37         33        38        33   \n",
       "\n",
       "   LBRating  CBRating  RBRating  GKRating         role  \n",
       "77       32        31        32        85  Goalkeepers  \n",
       "\n",
       "[1 rows x 91 columns]"
      ]
     },
     "execution_count": 147,
     "metadata": {},
     "output_type": "execute_result"
    }
   ],
   "source": [
    "print('Schmeichel ranking and team:\\n' + str(df[df['Name']=='K. Schmeichel'].Club))\n",
    "print('Leicester City players:\\n' + str(df[df['Club']=='Leicester City'].Name)) ##There are also other two players coming from leicester city \n",
    "# Let's take a look at those from Schmeichel's nationality\n",
    "print(str(df[df['Name']=='K. Schmeichel'].Nationality))\n",
    "df[df['Nationality']=='Denmark'] \n",
    "#The reason for him to belong to another community is that he is the only one of his nation to be in the top 100 "
   ]
  },
  {
   "cell_type": "code",
   "execution_count": 148,
   "metadata": {},
   "outputs": [
    {
     "name": "stdout",
     "output_type": "stream",
     "text": [
      "W. Ndidi ranking and team:\n",
      "93    Leicester City\n",
      "Name: Club, dtype: object\n",
      "Leicester City players:\n",
      "63         J. Vardy\n",
      "77    K. Schmeichel\n",
      "93         W. Ndidi\n",
      "Name: Name, dtype: object\n",
      "93    Nigeria\n",
      "Name: Nationality, dtype: object\n"
     ]
    },
    {
     "data": {
      "text/html": [
       "<div>\n",
       "<style scoped>\n",
       "    .dataframe tbody tr th:only-of-type {\n",
       "        vertical-align: middle;\n",
       "    }\n",
       "\n",
       "    .dataframe tbody tr th {\n",
       "        vertical-align: top;\n",
       "    }\n",
       "\n",
       "    .dataframe thead th {\n",
       "        text-align: right;\n",
       "    }\n",
       "</style>\n",
       "<table border=\"1\" class=\"dataframe\">\n",
       "  <thead>\n",
       "    <tr style=\"text-align: right;\">\n",
       "      <th></th>\n",
       "      <th>ID</th>\n",
       "      <th>Name</th>\n",
       "      <th>FullName</th>\n",
       "      <th>Age</th>\n",
       "      <th>Height</th>\n",
       "      <th>Weight</th>\n",
       "      <th>PhotoUrl</th>\n",
       "      <th>Nationality</th>\n",
       "      <th>Overall</th>\n",
       "      <th>Potential</th>\n",
       "      <th>...</th>\n",
       "      <th>CMRating</th>\n",
       "      <th>RMRating</th>\n",
       "      <th>LWBRating</th>\n",
       "      <th>CDMRating</th>\n",
       "      <th>RWBRating</th>\n",
       "      <th>LBRating</th>\n",
       "      <th>CBRating</th>\n",
       "      <th>RBRating</th>\n",
       "      <th>GKRating</th>\n",
       "      <th>role</th>\n",
       "    </tr>\n",
       "  </thead>\n",
       "  <tbody>\n",
       "    <tr>\n",
       "      <th>93</th>\n",
       "      <td>226790</td>\n",
       "      <td>W. Ndidi</td>\n",
       "      <td>Wilfred Ndidi</td>\n",
       "      <td>24</td>\n",
       "      <td>183</td>\n",
       "      <td>74</td>\n",
       "      <td>https://cdn.sofifa.com/players/226/790/22_60.png</td>\n",
       "      <td>Nigeria</td>\n",
       "      <td>85</td>\n",
       "      <td>88</td>\n",
       "      <td>...</td>\n",
       "      <td>79</td>\n",
       "      <td>73</td>\n",
       "      <td>81</td>\n",
       "      <td>85</td>\n",
       "      <td>81</td>\n",
       "      <td>82</td>\n",
       "      <td>86</td>\n",
       "      <td>82</td>\n",
       "      <td>22</td>\n",
       "      <td>Defenders</td>\n",
       "    </tr>\n",
       "  </tbody>\n",
       "</table>\n",
       "<p>1 rows × 91 columns</p>\n",
       "</div>"
      ],
      "text/plain": [
       "        ID      Name       FullName  Age  Height  Weight  \\\n",
       "93  226790  W. Ndidi  Wilfred Ndidi   24     183      74   \n",
       "\n",
       "                                            PhotoUrl Nationality  Overall  \\\n",
       "93  https://cdn.sofifa.com/players/226/790/22_60.png     Nigeria       85   \n",
       "\n",
       "    Potential  ...  CMRating  RMRating  LWBRating CDMRating RWBRating  \\\n",
       "93         88  ...        79        73         81        85        81   \n",
       "\n",
       "   LBRating  CBRating  RBRating  GKRating       role  \n",
       "93       82        86        82        22  Defenders  \n",
       "\n",
       "[1 rows x 91 columns]"
      ]
     },
     "execution_count": 148,
     "metadata": {},
     "output_type": "execute_result"
    }
   ],
   "source": [
    "print('W. Ndidi ranking and team:\\n' + str(df[df['Name']=='W. Ndidi'].Club))\n",
    "print('Leicester City players:\\n' + str(df[df['Club']=='Leicester City'].Name)) ##There are also other two players coming from leicester city \n",
    "# Let's take a look at those from Ndidi's nationality\n",
    "print(str(df[df['Name']=='W. Ndidi'].Nationality))\n",
    "df[df['Nationality']=='Nigeria'] \n",
    "#The reason for him to belong to another community is that he is the only one of his nation to be in the top 100 "
   ]
  },
  {
   "cell_type": "markdown",
   "metadata": {},
   "source": [
    "The reason for Ndidi and Schemichel not belonging to the big green community is because they are the only ones of their nation"
   ]
  },
  {
   "cell_type": "markdown",
   "metadata": {},
   "source": [
    "#### Looking for communities with an agglomerative algorithm --> Louavin method"
   ]
  },
  {
   "cell_type": "code",
   "execution_count": 149,
   "metadata": {},
   "outputs": [
    {
     "data": {
      "image/png": "[encoded data removed]",
      "text/plain": [
       "<Figure size 1008x576 with 1 Axes>"
      ]
     },
     "metadata": {},
     "output_type": "display_data"
    }
   ],
   "source": [
    "##Louvain community detection --> Agglomerative clustering\n",
    "partition = community_louvain.best_partition(grafo)\n",
    "plt.figure(figsize=(14,8))\n",
    "# draw the graph\n",
    "pos = nx.spring_layout(grafo)\n",
    "# color the nodes according to their partition\n",
    "cmap = cm.get_cmap('RdBu', max(partition.values()) + 1)\n",
    "nx.draw_networkx_nodes(grafo, pos, partition.keys(), node_size=100,\n",
    "                       cmap=cmap, node_color=list(partition.values()))\n",
    "nx.draw_networkx_edges(grafo, pos, alpha=0.4)\n",
    "nx.draw_networkx_labels(grafo,pos,font_size=1)\n",
    "plt.show()\n",
    "#Different communities : Communities by team  and nationalities\n",
    "# The three players that do not belong to the giant component represent a community fo their own (Each one is of a different community)"
   ]
  },
  {
   "cell_type": "markdown",
   "metadata": {},
   "source": [
    "The three players (Aubameyang,Gulacsi and Sommer) that do not belong to the giant component represent a community fo their own (Each one is of a different community)"
   ]
  },
  {
   "cell_type": "code",
   "execution_count": 150,
   "metadata": {},
   "outputs": [],
   "source": [
    "#Function to find different n-nodes cliques in graphs (x is the graph. Initialnumber is the smallest number of node clique you want to find ,endingnumber is the highest number of nodes clique you want to find)\n",
    "def findcliques(x,initialnumber,endingnumber):\n",
    "    for c in range(initialnumber,endingnumber+1):\n",
    "        comm=list(k_clique_communities(x,c))\n",
    "        print(str(c)+'-nodes clique:\\n')\n",
    "        if len(list(comm))!=0:\n",
    "            for el in range(0,len(list(comm))):\n",
    "                print(str(list(comm[el]))+'\\n')\n",
    "        else:\n",
    "            print(\"I'm sorry there are no \"+str(c)+\"-nodes cliques in this graph\\n\")"
   ]
  },
  {
   "cell_type": "markdown",
   "metadata": {},
   "source": [
    "We would reccommend to try it out with the a higher number like 10 or 11  ;)\\\n",
    "(hint:  there are cliques of more than 10 nodes)"
   ]
  },
  {
   "cell_type": "code",
   "execution_count": 151,
   "metadata": {},
   "outputs": [
    {
     "name": "stdout",
     "output_type": "stream",
     "text": [
      "3-nodes clique:\n",
      "\n",
      "['T. Alexander-Arnold', 'M. Salah', 'S. Mané', 'A. Gómez', 'L. Martínez', 'V. van Dijk', 'Sergio Ramos', 'Fabinho', 'Neymar Jr', 'Thiago', 'K. Navas', 'M. Verratti', 'A. Robertson', 'L. Bonucci', 'W. Szczęsny', 'S. Agüero', 'Alisson', 'M. de Ligt', 'G. Donnarumma', 'Marquinhos', 'Casemiro', 'Ederson', 'G. Chiellini', 'L. Insigne', 'A. Hakimi', 'K. Mbappé', 'L. Messi', 'P. Dybala', 'A. Di María', 'Thiago Silva', 'Jorginho', 'Roberto Firmino', 'C. Immobile']\n",
      "\n",
      "['T. Alexander-Arnold', 'Parejo', 'E. Cavani', 'P. Pogba', 'J. Oblak', 'L. Suárez', 'R. Sterling', 'Jordi Alba', 'J. Vardy', 'Luis Alberto', 'F. de Jong', 'K. Walker', 'V. van Dijk', 'Sergio Ramos', 'N. Kanté', 'M. Rashford', 'A. Griezmann', 'H. Lloris', 'Carvajal', 'Bernardo Silva', 'Thiago', 'A. Laporte', 'R. Varane', 'H. Kane', 'K. De Bruyne', 'Koke', 'S. de Vrij', 'Gerard Moreno', 'S. Agüero', 'M. de Ligt', 'Oyarzabal', 'Cristiano Ronaldo', 'Marcos Llorente', 'João Cancelo', 'Ederson', 'Bruno Fernandes', 'Rodri', 'Rúben Dias', 'David Silva', 'L. Digne', 'K. Mbappé', 'M. Depay', 'I. Gündoğan', 'K. Benzema', 'K. Coman', 'M. ter Stegen', 'R. Mahrez', 'Sergio Busquets', 'J. Sancho']\n",
      "\n",
      "['Casemiro', 'T. Kroos', 'T. Courtois', 'Carvajal', 'E. Hazard', 'L. Modrić', 'K. Casteels', 'K. Benzema', 'K. De Bruyne', 'D. Alaba', 'R. Lukaku']\n",
      "\n",
      "['T. Kroos', 'M. Reus', 'L. Goretzka', 'S. Gnabry', 'R. Lewandowski', 'T. Müller', 'M. Hummels', 'J. Kimmich', 'E. Haaland', 'I. Gündoğan', 'K. Coman', 'M. ter Stegen', 'M. Neuer']\n",
      "\n",
      "['R. Lukaku', 'Jorginho', 'N. Kanté', 'Thiago Silva']\n",
      "\n",
      "['Luis Alberto', 'S. Milinković-Savić', 'C. Immobile']\n",
      "\n",
      "['H. Lloris', 'H. Son', 'H. Kane']\n",
      "\n",
      "['M. Škriniar', 'S. Handanovič', 'L. Martínez', 'S. de Vrij']\n",
      "\n",
      "['W. Ndidi', 'J. Vardy', 'K. Schmeichel']\n",
      "\n",
      "4-nodes clique:\n",
      "\n",
      "['T. Alexander-Arnold', 'M. Salah', 'Fabinho', 'Marquinhos', 'Casemiro', 'Ederson', 'S. Mané', 'Neymar Jr', 'Thiago', 'Thiago Silva', 'A. Robertson', 'Roberto Firmino', 'V. van Dijk', 'Alisson']\n",
      "\n",
      "['T. Alexander-Arnold', 'M. Rashford', 'J. Vardy', 'H. Kane', 'K. Walker', 'R. Sterling', 'J. Sancho']\n",
      "\n",
      "['A. Griezmann', 'Marcos Llorente', 'J. Oblak', 'L. Suárez', 'Koke']\n",
      "\n",
      "['E. Hazard', 'T. Courtois', 'K. De Bruyne', 'R. Lukaku', 'K. Casteels']\n",
      "\n",
      "['Casemiro', 'T. Kroos', 'T. Courtois', 'Carvajal', 'E. Hazard', 'L. Modrić', 'K. Benzema', 'D. Alaba']\n",
      "\n",
      "['T. Kroos', 'M. Reus', 'L. Goretzka', 'S. Gnabry', 'R. Lewandowski', 'T. Müller', 'M. Hummels', 'J. Kimmich', 'I. Gündoğan', 'K. Coman', 'M. ter Stegen', 'M. Neuer']\n",
      "\n",
      "['R. Lukaku', 'Jorginho', 'N. Kanté', 'Thiago Silva']\n",
      "\n",
      "['L. Digne', 'A. Griezmann', 'P. Pogba', 'H. Lloris', 'K. Benzema', 'K. Coman', 'R. Varane', 'N. Kanté', 'K. Mbappé']\n",
      "\n",
      "['L. Messi', 'G. Donnarumma', 'Marquinhos', 'Neymar Jr', 'A. Di María', 'K. Navas', 'M. Verratti', 'Sergio Ramos', 'A. Hakimi', 'K. Mbappé']\n",
      "\n",
      "['Parejo', 'Oyarzabal', 'Marcos Llorente', 'Carvajal', 'Thiago', 'Sergio Busquets', 'A. Laporte', 'Jordi Alba', 'Rodri', 'Luis Alberto', 'Koke', 'Sergio Ramos', 'David Silva', 'Gerard Moreno']\n",
      "\n",
      "['M. Rashford', 'E. Cavani', 'Cristiano Ronaldo', 'P. Pogba', 'R. Varane', 'Bruno Fernandes', 'J. Sancho']\n",
      "\n",
      "['Cristiano Ronaldo', 'João Cancelo', 'Ederson', 'R. Sterling', 'Bruno Fernandes', 'K. De Bruyne', 'Rodri', 'Rúben Dias', 'K. Walker', 'Bernardo Silva', 'I. Gündoğan', 'A. Laporte', 'R. Mahrez']\n",
      "\n",
      "['M. de Ligt', 'P. Dybala', 'L. Bonucci', 'G. Chiellini', 'W. Szczęsny']\n",
      "\n",
      "['L. Insigne', 'M. Verratti', 'G. Donnarumma', 'L. Bonucci', 'G. Chiellini', 'Jorginho', 'C. Immobile']\n",
      "\n",
      "['L. Messi', 'P. Dybala', 'A. Gómez', 'L. Martínez', 'A. Di María', 'S. Agüero']\n",
      "\n",
      "['M. ter Stegen', 'M. Depay', 'Jordi Alba', 'F. de Jong', 'S. Agüero', 'Sergio Busquets']\n",
      "\n",
      "['M. Škriniar', 'S. Handanovič', 'L. Martínez', 'S. de Vrij']\n",
      "\n",
      "['M. de Ligt', 'M. Depay', 'F. de Jong', 'V. van Dijk', 'S. de Vrij']\n",
      "\n",
      "5-nodes clique:\n",
      "\n",
      "['T. Alexander-Arnold', 'M. Salah', 'Fabinho', 'S. Mané', 'Thiago', 'A. Robertson', 'Roberto Firmino', 'V. van Dijk', 'Alisson']\n",
      "\n",
      "['T. Alexander-Arnold', 'M. Rashford', 'J. Vardy', 'H. Kane', 'K. Walker', 'R. Sterling', 'J. Sancho']\n",
      "\n",
      "['A. Griezmann', 'Marcos Llorente', 'J. Oblak', 'L. Suárez', 'Koke']\n",
      "\n",
      "['E. Hazard', 'T. Courtois', 'K. De Bruyne', 'R. Lukaku', 'K. Casteels']\n",
      "\n",
      "['Casemiro', 'T. Kroos', 'T. Courtois', 'Carvajal', 'E. Hazard', 'L. Modrić', 'K. Benzema', 'D. Alaba']\n",
      "\n",
      "['T. Kroos', 'M. Reus', 'L. Goretzka', 'S. Gnabry', 'R. Lewandowski', 'T. Müller', 'M. Hummels', 'J. Kimmich', 'I. Gündoğan', 'K. Coman', 'M. ter Stegen', 'M. Neuer']\n",
      "\n",
      "['L. Digne', 'A. Griezmann', 'P. Pogba', 'H. Lloris', 'K. Benzema', 'K. Coman', 'R. Varane', 'N. Kanté', 'K. Mbappé']\n",
      "\n",
      "['L. Messi', 'G. Donnarumma', 'Marquinhos', 'Neymar Jr', 'A. Di María', 'K. Navas', 'M. Verratti', 'Sergio Ramos', 'A. Hakimi', 'K. Mbappé']\n",
      "\n",
      "['Parejo', 'Oyarzabal', 'Marcos Llorente', 'Carvajal', 'Thiago', 'Sergio Busquets', 'A. Laporte', 'Jordi Alba', 'Rodri', 'Luis Alberto', 'Koke', 'Sergio Ramos', 'David Silva', 'Gerard Moreno']\n",
      "\n",
      "['M. Rashford', 'E. Cavani', 'Cristiano Ronaldo', 'P. Pogba', 'R. Varane', 'Bruno Fernandes', 'J. Sancho']\n",
      "\n",
      "['Cristiano Ronaldo', 'João Cancelo', 'Bernardo Silva', 'Rúben Dias', 'Bruno Fernandes']\n",
      "\n",
      "['João Cancelo', 'Ederson', 'I. Gündoğan', 'Bernardo Silva', 'R. Sterling', 'A. Laporte', 'R. Mahrez', 'Rodri', 'K. De Bruyne', 'Rúben Dias', 'K. Walker']\n",
      "\n",
      "['M. de Ligt', 'P. Dybala', 'L. Bonucci', 'G. Chiellini', 'W. Szczęsny']\n",
      "\n",
      "['L. Insigne', 'M. Verratti', 'G. Donnarumma', 'L. Bonucci', 'G. Chiellini', 'Jorginho', 'C. Immobile']\n",
      "\n",
      "['L. Messi', 'P. Dybala', 'A. Gómez', 'L. Martínez', 'A. Di María', 'S. Agüero']\n",
      "\n",
      "['M. ter Stegen', 'M. Depay', 'Jordi Alba', 'F. de Jong', 'S. Agüero', 'Sergio Busquets']\n",
      "\n",
      "['Fabinho', 'Marquinhos', 'Casemiro', 'Ederson', 'Neymar Jr', 'Thiago Silva', 'Roberto Firmino', 'Alisson']\n",
      "\n",
      "['M. de Ligt', 'M. Depay', 'F. de Jong', 'V. van Dijk', 'S. de Vrij']\n",
      "\n"
     ]
    }
   ],
   "source": [
    "findcliques(grafo,3,5)\n",
    "#Outputs a really long list meaning that most nodes share a lot neighbours since there are a lot of communities between clubs and nations"
   ]
  },
  {
   "cell_type": "markdown",
   "metadata": {},
   "source": [
    "Outputs a really long list meaning that most nodes share a lot neighbours since there are a lot of communities between clubs and nations"
   ]
  },
  {
   "cell_type": "code",
   "execution_count": 152,
   "metadata": {},
   "outputs": [
    {
     "name": "stdout",
     "output_type": "stream",
     "text": [
      "13-nodes clique:\n",
      "\n",
      "['Parejo', 'Oyarzabal', 'Marcos Llorente', 'Carvajal', 'Thiago', 'Sergio Busquets', 'A. Laporte', 'Jordi Alba', 'Rodri', 'Luis Alberto', 'Koke', 'Sergio Ramos', 'David Silva', 'Gerard Moreno']\n",
      "\n",
      "14-nodes clique:\n",
      "\n",
      "['Parejo', 'Oyarzabal', 'Marcos Llorente', 'Carvajal', 'Thiago', 'Sergio Busquets', 'A. Laporte', 'Jordi Alba', 'Rodri', 'Luis Alberto', 'Koke', 'Sergio Ramos', 'David Silva', 'Gerard Moreno']\n",
      "\n",
      "15-nodes clique:\n",
      "\n",
      "I'm sorry there are no 15-nodes cliques in this graph\n",
      "\n"
     ]
    }
   ],
   "source": [
    "findcliques(grafo,13,15)\n",
    "#Huge cliques representing the fact that there are a lot of edges between players belonging to the same teams. Means that most of the players in the top 100 belong to niches of clubs or nations"
   ]
  },
  {
   "cell_type": "markdown",
   "metadata": {},
   "source": [
    "Huge cliques representing the fact that there are a lot of edges between players belonging to the same teams. Means that most of the players in the top 100 belong to niches of clubs or nations"
   ]
  },
  {
   "cell_type": "markdown",
   "metadata": {},
   "source": [
    "## Second graph dataset "
   ]
  },
  {
   "cell_type": "markdown",
   "metadata": {},
   "source": [
    "Let's try now to compute the same measures and perform the same community detection by creating semi-random edges.\\\n",
    "With semi-random we mean that we'll create only two undirected edges for each player,one with a nation mate and another with a club teammate.\\\n",
    "WATCHOUT: It doesn't mean that each players we'll have only two edges ,there might be cases of players with more edges because of connection created by other players with the same team and/or nationality"
   ]
  },
  {
   "cell_type": "markdown",
   "metadata": {},
   "source": [
    "#### Creating a dataset with semi-random link between players (Random links between players in the same team and with the same nationality)"
   ]
  },
  {
   "cell_type": "code",
   "execution_count": 153,
   "metadata": {},
   "outputs": [
    {
     "name": "stderr",
     "output_type": "stream",
     "text": [
      "/var/folders/sc/r0jqlfy569scw9syx066s6n80000gn/T/ipykernel_1833/2467641202.py:15: SettingWithCopyWarning:\n",
      "\n",
      "\n",
      "A value is trying to be set on a copy of a slice from a DataFrame\n",
      "\n",
      "See the caveats in the documentation: https://pandas.pydata.org/pandas-docs/stable/user_guide/indexing.html#returning-a-view-versus-a-copy\n",
      "\n",
      "/var/folders/sc/r0jqlfy569scw9syx066s6n80000gn/T/ipykernel_1833/2467641202.py:16: SettingWithCopyWarning:\n",
      "\n",
      "\n",
      "A value is trying to be set on a copy of a slice from a DataFrame\n",
      "\n",
      "See the caveats in the documentation: https://pandas.pydata.org/pandas-docs/stable/user_guide/indexing.html#returning-a-view-versus-a-copy\n",
      "\n",
      "/var/folders/sc/r0jqlfy569scw9syx066s6n80000gn/T/ipykernel_1833/2467641202.py:39: SettingWithCopyWarning:\n",
      "\n",
      "\n",
      "A value is trying to be set on a copy of a slice from a DataFrame\n",
      "\n",
      "See the caveats in the documentation: https://pandas.pydata.org/pandas-docs/stable/user_guide/indexing.html#returning-a-view-versus-a-copy\n",
      "\n",
      "/var/folders/sc/r0jqlfy569scw9syx066s6n80000gn/T/ipykernel_1833/2467641202.py:40: SettingWithCopyWarning:\n",
      "\n",
      "\n",
      "A value is trying to be set on a copy of a slice from a DataFrame\n",
      "\n",
      "See the caveats in the documentation: https://pandas.pydata.org/pandas-docs/stable/user_guide/indexing.html#returning-a-view-versus-a-copy\n",
      "\n"
     ]
    }
   ],
   "source": [
    "#Creating random edges between players in the same team for network visualization. We take only 100 instances for computational and visualization reasons\n",
    "df2=df\n",
    "df2['Source']=0\n",
    "df2['Target']=0 \n",
    "def createsourcetarget(name):\n",
    "    l=[]\n",
    "    for el in range(0,len(df2['Name'])):\n",
    "        if df2['Name'][el]==name:\n",
    "            ind=el\n",
    "    for i in range(0,len(df2['Name'])):\n",
    "        if df2['Club'][i]==df2['Club'][ind] and i!=ind:\n",
    "            l.append(df2['Name'][i])\n",
    "    if len(l)!=0:\n",
    "        item=random.choice(l)\n",
    "        df2['Source'][ind]=item\n",
    "        df2['Target'][ind]=df2['Name'][ind]\n",
    "    else:\n",
    "        df2['Source'][ind]=df2['Name'][ind] #If there are not other players from the same team the player as an edge with itself\n",
    "        df2['Target'][ind]=df2['Name'][ind]\n",
    "    l.clear()\n",
    "    return df2\n",
    "for i in df2['Name']:\n",
    "    createsourcetarget(i)\n",
    "    \n",
    "#Creating random edges between players in the same  national team for network visualization.\n",
    "df5=df.iloc[:100, ]\n",
    "df5['Source']=0\n",
    "df5['Target']=0 \n",
    "def createsourcetarget(name):\n",
    "    l=[]\n",
    "    for el in range(0,len(df5['Name'])):\n",
    "        if df5['Name'][el]==name:\n",
    "            ind=el\n",
    "    for i in range(0,len(df5['Name'])):\n",
    "        if df5['Nationality'][i]==df5['Nationality'][ind] and i!=ind:\n",
    "            l.append(df5['Name'][i])\n",
    "    if len(l)!=0:\n",
    "        item=random.choice(l)\n",
    "        df5['Source'][ind]=item\n",
    "        df5['Target'][ind]=df5['Name'][ind]\n",
    "    else:\n",
    "        df5['Source'][ind]=df5['Name'][ind] #If there are not other players from the same team the player as an edge with itself\n",
    "        df5['Target'][ind]=df5['Name'][ind]\n",
    "    l.clear()\n",
    "    return df5\n",
    "for i in df5['Name']:\n",
    "    createsourcetarget(i)"
   ]
  },
  {
   "cell_type": "code",
   "execution_count": 154,
   "metadata": {},
   "outputs": [
    {
     "data": {
      "text/html": [
       "<div>\n",
       "<style scoped>\n",
       "    .dataframe tbody tr th:only-of-type {\n",
       "        vertical-align: middle;\n",
       "    }\n",
       "\n",
       "    .dataframe tbody tr th {\n",
       "        vertical-align: top;\n",
       "    }\n",
       "\n",
       "    .dataframe thead th {\n",
       "        text-align: right;\n",
       "    }\n",
       "</style>\n",
       "<table border=\"1\" class=\"dataframe\">\n",
       "  <thead>\n",
       "    <tr style=\"text-align: right;\">\n",
       "      <th></th>\n",
       "      <th>ID</th>\n",
       "      <th>Name</th>\n",
       "      <th>FullName</th>\n",
       "      <th>Age</th>\n",
       "      <th>Height</th>\n",
       "      <th>Weight</th>\n",
       "      <th>PhotoUrl</th>\n",
       "      <th>Nationality</th>\n",
       "      <th>Overall</th>\n",
       "      <th>Potential</th>\n",
       "      <th>...</th>\n",
       "      <th>LWBRating</th>\n",
       "      <th>CDMRating</th>\n",
       "      <th>RWBRating</th>\n",
       "      <th>LBRating</th>\n",
       "      <th>CBRating</th>\n",
       "      <th>RBRating</th>\n",
       "      <th>GKRating</th>\n",
       "      <th>role</th>\n",
       "      <th>Source</th>\n",
       "      <th>Target</th>\n",
       "    </tr>\n",
       "  </thead>\n",
       "  <tbody>\n",
       "    <tr>\n",
       "      <th>0</th>\n",
       "      <td>158023</td>\n",
       "      <td>L. Messi</td>\n",
       "      <td>Lionel Messi</td>\n",
       "      <td>34</td>\n",
       "      <td>170</td>\n",
       "      <td>72</td>\n",
       "      <td>https://cdn.sofifa.com/players/158/023/22_60.png</td>\n",
       "      <td>Argentina</td>\n",
       "      <td>93</td>\n",
       "      <td>93</td>\n",
       "      <td>...</td>\n",
       "      <td>69</td>\n",
       "      <td>67</td>\n",
       "      <td>69</td>\n",
       "      <td>64</td>\n",
       "      <td>53</td>\n",
       "      <td>64</td>\n",
       "      <td>22</td>\n",
       "      <td>Strikers</td>\n",
       "      <td>Neymar Jr</td>\n",
       "      <td>L. Messi</td>\n",
       "    </tr>\n",
       "    <tr>\n",
       "      <th>1</th>\n",
       "      <td>188545</td>\n",
       "      <td>R. Lewandowski</td>\n",
       "      <td>Robert Lewandowski</td>\n",
       "      <td>32</td>\n",
       "      <td>185</td>\n",
       "      <td>81</td>\n",
       "      <td>https://cdn.sofifa.com/players/188/545/22_60.png</td>\n",
       "      <td>Poland</td>\n",
       "      <td>92</td>\n",
       "      <td>92</td>\n",
       "      <td>...</td>\n",
       "      <td>67</td>\n",
       "      <td>69</td>\n",
       "      <td>67</td>\n",
       "      <td>64</td>\n",
       "      <td>63</td>\n",
       "      <td>64</td>\n",
       "      <td>22</td>\n",
       "      <td>Strikers</td>\n",
       "      <td>S. Gnabry</td>\n",
       "      <td>R. Lewandowski</td>\n",
       "    </tr>\n",
       "    <tr>\n",
       "      <th>2</th>\n",
       "      <td>20801</td>\n",
       "      <td>Cristiano Ronaldo</td>\n",
       "      <td>C. Ronaldo dos Santos Aveiro</td>\n",
       "      <td>36</td>\n",
       "      <td>187</td>\n",
       "      <td>83</td>\n",
       "      <td>https://cdn.sofifa.com/players/020/801/22_60.png</td>\n",
       "      <td>Portugal</td>\n",
       "      <td>91</td>\n",
       "      <td>91</td>\n",
       "      <td>...</td>\n",
       "      <td>66</td>\n",
       "      <td>62</td>\n",
       "      <td>66</td>\n",
       "      <td>63</td>\n",
       "      <td>56</td>\n",
       "      <td>63</td>\n",
       "      <td>23</td>\n",
       "      <td>Strikers</td>\n",
       "      <td>M. Rashford</td>\n",
       "      <td>Cristiano Ronaldo</td>\n",
       "    </tr>\n",
       "    <tr>\n",
       "      <th>3</th>\n",
       "      <td>231747</td>\n",
       "      <td>K. Mbappé</td>\n",
       "      <td>Kylian Mbappé</td>\n",
       "      <td>22</td>\n",
       "      <td>182</td>\n",
       "      <td>73</td>\n",
       "      <td>https://cdn.sofifa.com/players/231/747/22_60.png</td>\n",
       "      <td>France</td>\n",
       "      <td>91</td>\n",
       "      <td>95</td>\n",
       "      <td>...</td>\n",
       "      <td>70</td>\n",
       "      <td>66</td>\n",
       "      <td>70</td>\n",
       "      <td>66</td>\n",
       "      <td>57</td>\n",
       "      <td>66</td>\n",
       "      <td>21</td>\n",
       "      <td>Strikers</td>\n",
       "      <td>Neymar Jr</td>\n",
       "      <td>K. Mbappé</td>\n",
       "    </tr>\n",
       "    <tr>\n",
       "      <th>4</th>\n",
       "      <td>200389</td>\n",
       "      <td>J. Oblak</td>\n",
       "      <td>Jan Oblak</td>\n",
       "      <td>28</td>\n",
       "      <td>188</td>\n",
       "      <td>87</td>\n",
       "      <td>https://cdn.sofifa.com/players/200/389/22_60.png</td>\n",
       "      <td>Slovenia</td>\n",
       "      <td>91</td>\n",
       "      <td>93</td>\n",
       "      <td>...</td>\n",
       "      <td>35</td>\n",
       "      <td>39</td>\n",
       "      <td>35</td>\n",
       "      <td>35</td>\n",
       "      <td>36</td>\n",
       "      <td>35</td>\n",
       "      <td>92</td>\n",
       "      <td>Goalkeepers</td>\n",
       "      <td>L. Suárez</td>\n",
       "      <td>J. Oblak</td>\n",
       "    </tr>\n",
       "    <tr>\n",
       "      <th>...</th>\n",
       "      <td>...</td>\n",
       "      <td>...</td>\n",
       "      <td>...</td>\n",
       "      <td>...</td>\n",
       "      <td>...</td>\n",
       "      <td>...</td>\n",
       "      <td>...</td>\n",
       "      <td>...</td>\n",
       "      <td>...</td>\n",
       "      <td>...</td>\n",
       "      <td>...</td>\n",
       "      <td>...</td>\n",
       "      <td>...</td>\n",
       "      <td>...</td>\n",
       "      <td>...</td>\n",
       "      <td>...</td>\n",
       "      <td>...</td>\n",
       "      <td>...</td>\n",
       "      <td>...</td>\n",
       "      <td>...</td>\n",
       "      <td>...</td>\n",
       "    </tr>\n",
       "    <tr>\n",
       "      <th>195</th>\n",
       "      <td>205498</td>\n",
       "      <td>Jorginho</td>\n",
       "      <td>Luiz Frello Filho Jorge</td>\n",
       "      <td>29</td>\n",
       "      <td>180</td>\n",
       "      <td>68</td>\n",
       "      <td>https://cdn.sofifa.com/players/205/498/22_60.png</td>\n",
       "      <td>Italy</td>\n",
       "      <td>85</td>\n",
       "      <td>85</td>\n",
       "      <td>...</td>\n",
       "      <td>80</td>\n",
       "      <td>84</td>\n",
       "      <td>80</td>\n",
       "      <td>78</td>\n",
       "      <td>75</td>\n",
       "      <td>78</td>\n",
       "      <td>21</td>\n",
       "      <td>Midfielders</td>\n",
       "      <td>C. Immobile</td>\n",
       "      <td>Jorginho</td>\n",
       "    </tr>\n",
       "    <tr>\n",
       "      <th>196</th>\n",
       "      <td>204963</td>\n",
       "      <td>Carvajal</td>\n",
       "      <td>Daniel Carvajal Ramos</td>\n",
       "      <td>29</td>\n",
       "      <td>173</td>\n",
       "      <td>73</td>\n",
       "      <td>https://cdn.sofifa.com/players/204/963/22_60.png</td>\n",
       "      <td>Spain</td>\n",
       "      <td>85</td>\n",
       "      <td>85</td>\n",
       "      <td>...</td>\n",
       "      <td>85</td>\n",
       "      <td>84</td>\n",
       "      <td>85</td>\n",
       "      <td>85</td>\n",
       "      <td>83</td>\n",
       "      <td>85</td>\n",
       "      <td>23</td>\n",
       "      <td>Defenders</td>\n",
       "      <td>Sergio Ramos</td>\n",
       "      <td>Carvajal</td>\n",
       "    </tr>\n",
       "    <tr>\n",
       "      <th>197</th>\n",
       "      <td>200458</td>\n",
       "      <td>L. Digne</td>\n",
       "      <td>Lucas Digne</td>\n",
       "      <td>27</td>\n",
       "      <td>178</td>\n",
       "      <td>74</td>\n",
       "      <td>https://cdn.sofifa.com/players/200/458/22_60.png</td>\n",
       "      <td>France</td>\n",
       "      <td>84</td>\n",
       "      <td>84</td>\n",
       "      <td>...</td>\n",
       "      <td>84</td>\n",
       "      <td>82</td>\n",
       "      <td>84</td>\n",
       "      <td>84</td>\n",
       "      <td>81</td>\n",
       "      <td>84</td>\n",
       "      <td>19</td>\n",
       "      <td>Defenders</td>\n",
       "      <td>K. Coman</td>\n",
       "      <td>L. Digne</td>\n",
       "    </tr>\n",
       "    <tr>\n",
       "      <th>198</th>\n",
       "      <td>197445</td>\n",
       "      <td>D. Alaba</td>\n",
       "      <td>David Alaba</td>\n",
       "      <td>29</td>\n",
       "      <td>180</td>\n",
       "      <td>78</td>\n",
       "      <td>https://cdn.sofifa.com/players/197/445/22_60.png</td>\n",
       "      <td>Austria</td>\n",
       "      <td>84</td>\n",
       "      <td>84</td>\n",
       "      <td>...</td>\n",
       "      <td>84</td>\n",
       "      <td>84</td>\n",
       "      <td>84</td>\n",
       "      <td>84</td>\n",
       "      <td>84</td>\n",
       "      <td>84</td>\n",
       "      <td>21</td>\n",
       "      <td>Defenders</td>\n",
       "      <td>D. Alaba</td>\n",
       "      <td>D. Alaba</td>\n",
       "    </tr>\n",
       "    <tr>\n",
       "      <th>199</th>\n",
       "      <td>198706</td>\n",
       "      <td>Luis Alberto</td>\n",
       "      <td>Luis Alberto Romero Alconchel</td>\n",
       "      <td>28</td>\n",
       "      <td>183</td>\n",
       "      <td>74</td>\n",
       "      <td>https://cdn.sofifa.com/players/198/706/22_60.png</td>\n",
       "      <td>Spain</td>\n",
       "      <td>84</td>\n",
       "      <td>84</td>\n",
       "      <td>...</td>\n",
       "      <td>71</td>\n",
       "      <td>73</td>\n",
       "      <td>71</td>\n",
       "      <td>67</td>\n",
       "      <td>61</td>\n",
       "      <td>67</td>\n",
       "      <td>18</td>\n",
       "      <td>Midfielders</td>\n",
       "      <td>Oyarzabal</td>\n",
       "      <td>Luis Alberto</td>\n",
       "    </tr>\n",
       "  </tbody>\n",
       "</table>\n",
       "<p>200 rows × 93 columns</p>\n",
       "</div>"
      ],
      "text/plain": [
       "         ID               Name                       FullName  Age  Height  \\\n",
       "0    158023           L. Messi                   Lionel Messi   34     170   \n",
       "1    188545     R. Lewandowski             Robert Lewandowski   32     185   \n",
       "2     20801  Cristiano Ronaldo   C. Ronaldo dos Santos Aveiro   36     187   \n",
       "3    231747          K. Mbappé                  Kylian Mbappé   22     182   \n",
       "4    200389           J. Oblak                      Jan Oblak   28     188   \n",
       "..      ...                ...                            ...  ...     ...   \n",
       "195  205498           Jorginho        Luiz Frello Filho Jorge   29     180   \n",
       "196  204963           Carvajal          Daniel Carvajal Ramos   29     173   \n",
       "197  200458           L. Digne                    Lucas Digne   27     178   \n",
       "198  197445           D. Alaba                    David Alaba   29     180   \n",
       "199  198706       Luis Alberto  Luis Alberto Romero Alconchel   28     183   \n",
       "\n",
       "     Weight                                          PhotoUrl Nationality  \\\n",
       "0        72  https://cdn.sofifa.com/players/158/023/22_60.png   Argentina   \n",
       "1        81  https://cdn.sofifa.com/players/188/545/22_60.png      Poland   \n",
       "2        83  https://cdn.sofifa.com/players/020/801/22_60.png    Portugal   \n",
       "3        73  https://cdn.sofifa.com/players/231/747/22_60.png      France   \n",
       "4        87  https://cdn.sofifa.com/players/200/389/22_60.png    Slovenia   \n",
       "..      ...                                               ...         ...   \n",
       "195      68  https://cdn.sofifa.com/players/205/498/22_60.png       Italy   \n",
       "196      73  https://cdn.sofifa.com/players/204/963/22_60.png       Spain   \n",
       "197      74  https://cdn.sofifa.com/players/200/458/22_60.png      France   \n",
       "198      78  https://cdn.sofifa.com/players/197/445/22_60.png     Austria   \n",
       "199      74  https://cdn.sofifa.com/players/198/706/22_60.png       Spain   \n",
       "\n",
       "     Overall  Potential  ...  LWBRating  CDMRating  RWBRating LBRating  \\\n",
       "0         93         93  ...         69         67         69       64   \n",
       "1         92         92  ...         67         69         67       64   \n",
       "2         91         91  ...         66         62         66       63   \n",
       "3         91         95  ...         70         66         70       66   \n",
       "4         91         93  ...         35         39         35       35   \n",
       "..       ...        ...  ...        ...        ...        ...      ...   \n",
       "195       85         85  ...         80         84         80       78   \n",
       "196       85         85  ...         85         84         85       85   \n",
       "197       84         84  ...         84         82         84       84   \n",
       "198       84         84  ...         84         84         84       84   \n",
       "199       84         84  ...         71         73         71       67   \n",
       "\n",
       "    CBRating RBRating  GKRating         role        Source             Target  \n",
       "0         53       64        22     Strikers     Neymar Jr           L. Messi  \n",
       "1         63       64        22     Strikers     S. Gnabry     R. Lewandowski  \n",
       "2         56       63        23     Strikers   M. Rashford  Cristiano Ronaldo  \n",
       "3         57       66        21     Strikers     Neymar Jr          K. Mbappé  \n",
       "4         36       35        92  Goalkeepers     L. Suárez           J. Oblak  \n",
       "..       ...      ...       ...          ...           ...                ...  \n",
       "195       75       78        21  Midfielders   C. Immobile           Jorginho  \n",
       "196       83       85        23    Defenders  Sergio Ramos           Carvajal  \n",
       "197       81       84        19    Defenders      K. Coman           L. Digne  \n",
       "198       84       84        21    Defenders      D. Alaba           D. Alaba  \n",
       "199       61       67        18  Midfielders     Oyarzabal       Luis Alberto  \n",
       "\n",
       "[200 rows x 93 columns]"
      ]
     },
     "execution_count": 154,
     "metadata": {},
     "output_type": "execute_result"
    }
   ],
   "source": [
    "#Creating csv files for both Gephi and network visualization with networkx\n",
    "dfnet=pd.concat([df2,df5])\n",
    "df2.to_csv('Datasetwithsourcetargetcolumnsclub.csv')\n",
    "df5.to_csv('Datasetwithspurcetargetcolumnsnations.csv')\n",
    "dfnet.to_csv('Datasetwithsourcetargetcolumns.csv')\n",
    "dfnet=pd.read_csv('Datasetwithsourcetargetcolumns.csv')\n",
    "dfnet.drop('Unnamed: 0',axis=1)"
   ]
  },
  {
   "cell_type": "markdown",
   "metadata": {},
   "source": [
    "#### Creating a networkx graph for the second graph dataset"
   ]
  },
  {
   "cell_type": "code",
   "execution_count": 155,
   "metadata": {},
   "outputs": [
    {
     "data": {
      "image/png": "[encoded data removed]",
      "text/plain": [
       "<Figure size 432x288 with 1 Axes>"
      ]
     },
     "metadata": {},
     "output_type": "display_data"
    }
   ],
   "source": [
    "g=nx.from_pandas_edgelist(dfnet,'Source','Target')\n",
    "#Plotting graph\n",
    "nx.draw(g,with_labels=True)\n",
    " #As before... , few players with self loop--> meaning that they don't have any nation or teammate in the top 100. Will they represent a community of their own or will be they considered as belonging to a single community?"
   ]
  },
  {
   "cell_type": "markdown",
   "metadata": {},
   "source": [
    "Computing components measure and community detection for the second dataset (one random edge with a player in the same nation and one with players in the same team for each player)\n"
   ]
  },
  {
   "cell_type": "code",
   "execution_count": 156,
   "metadata": {},
   "outputs": [
    {
     "name": "stdout",
     "output_type": "stream",
     "text": [
      "Is the graph connected?:\n",
      "False\n",
      "Number of components:\n",
      "4\n",
      "The biggest component  is a:\n",
      "Graph with 97 nodes and 171 edges\n",
      "Number of nodes of the biggest component:\n",
      "97\n",
      "Degree Centrality of top 10 nodes:\n",
      "[('I. Gündoğan', 0.07291666666666666), ('Neymar Jr', 0.0625), ('M. Verratti', 0.0625), ('Jorginho', 0.0625), ('Thiago', 0.0625), ('Marquinhos', 0.0625), ('M. Rashford', 0.05208333333333333), ('K. De Bruyne', 0.05208333333333333), ('S. Agüero', 0.05208333333333333), ('M. ter Stegen', 0.05208333333333333)]\n",
      "Betwenness Centrality of top 10 nodes:\n",
      "[('I. Gündoğan', 683.1201298701299), ('Jorginho', 575.2580447330449), ('M. ter Stegen', 518.0591991341993), ('Thiago', 439.2608946608947), ('K. De Bruyne', 425.6885281385283), ('Neymar Jr', 407.9919913419915), ('M. Verratti', 395.2000360750362), ('Alisson', 334.90923520923513), ('S. Agüero', 325.2592712842714), ('T. Kroos', 320.1314213564214)]\n",
      "Closeness Centrality of top 10 nodes:\n",
      "[('I. Gündoğan', 0.2831858407079646), ('Jorginho', 0.2742857142857143), ('A. Laporte', 0.2742857142857143), ('M. ter Stegen', 0.2719546742209632), ('M. Verratti', 0.26740947075208915), ('Rodri', 0.26740947075208915), ('M. Neuer', 0.2659279778393352), ('Thiago', 0.2644628099173554), ('Ederson', 0.26301369863013696), ('Neymar Jr', 0.2615803814713896)]\n",
      "Clustering Coefficient of top 10 nodes:\n",
      "[('E. Haaland', 1.0), ('João Cancelo', 1.0), ('S. Milinković-Savić', 1.0), ('J. Kimmich', 0.3333333333333333), ('V. van Dijk', 0.3333333333333333), ('M. Reus', 0.3333333333333333), ('Luis Alberto', 0.3333333333333333), ('C. Immobile', 0.3333333333333333), ('F. de Jong', 0.3333333333333333), ('Bernardo Silva', 0.3333333333333333)]\n",
      "Density of the component:\n",
      "0.03672680412371134\n",
      "Diameter of the component:\n",
      "10\n",
      "Average Shortest Path:\n",
      "4.400987972508591\n"
     ]
    },
    {
     "data": {
      "image/png": "[encoded data removed]",
      "text/plain": [
       "<Figure size 864x504 with 1 Axes>"
      ]
     },
     "metadata": {
      "needs_background": "light"
     },
     "output_type": "display_data"
    }
   ],
   "source": [
    "Components(g)\n",
    "largest_cc_nodeset = max(nx.connected_components(g), key=len) #Largest of connected components\n",
    "Componentrandom = g.subgraph(largest_cc_nodeset).copy()\n",
    "ComponentMeasures(Componentrandom)\n",
    "degree(Componentrandom,g) #Plotting distribution of degrees of the giant component"
   ]
  },
  {
   "cell_type": "markdown",
   "metadata": {},
   "source": [
    "### Community Detection\n"
   ]
  },
  {
   "cell_type": "markdown",
   "metadata": {},
   "source": [
    "#### Looking for communities with a divisive algorithm --> Girvan-Newman"
   ]
  },
  {
   "cell_type": "code",
   "execution_count": 157,
   "metadata": {},
   "outputs": [
    {
     "name": "stdout",
     "output_type": "stream",
     "text": [
      "[['M. Salah', 'Parejo', 'S. Mané', 'J. Oblak', 'T. Courtois', 'K. Koulibaly', 'A. Gómez', 'L. Martínez', 'Sergio Busquets', 'M. Reus', 'Jordi Alba', 'S. Gnabry', 'R. Lewandowski', 'Luis Alberto', 'F. de Jong', 'V. van Dijk', 'T. Müller', 'Fabinho', 'A. Griezmann', 'E. Hazard', 'J. Kimmich', 'Carvajal', 'M. Hummels', 'Neymar Jr', 'L. Modrić', 'Thiago', 'E. Haaland', 'A. Laporte', 'K. Navas', 'M. Verratti', 'A. Robertson', 'L. Bonucci', 'K. De Bruyne', 'R. Lukaku', 'S. Milinković-Savić', 'W. Szczęsny', 'Koke', 'Alisson', 'Gerard Moreno', 'S. Agüero', 'M. de Ligt', 'Jorginho', 'Oyarzabal', 'Marquinhos', 'G. Donnarumma', 'Casemiro', 'Ederson', 'K. Casteels', 'Marcos Llorente', 'G. Chiellini', 'T. Kroos', 'S. de Vrij', 'L. Insigne', 'L. Goretzka', 'Rodri', 'D. Alaba', 'S. Handanovič', 'A. Hakimi', 'K. Mbappé', 'David Silva', 'L. Messi', 'M. Škriniar', 'P. Dybala', 'M. Depay', 'I. Gündoğan', 'K. Benzema', 'A. Di María', 'M. ter Stegen', 'Thiago Silva', 'Sergio Ramos', 'M. Neuer', 'Roberto Firmino', 'C. Immobile'], ['T. Alexander-Arnold', 'E. Cavani', 'P. Pogba', 'H. Son', 'L. Suárez', 'R. Sterling', 'J. Vardy', 'K. Walker', 'N. Kanté', 'M. Rashford', 'H. Lloris', 'Bernardo Silva', 'R. Varane', 'H. Kane', 'Cristiano Ronaldo', 'João Cancelo', 'Bruno Fernandes', 'W. Ndidi', 'Rúben Dias', 'L. Digne', 'K. Schmeichel', 'K. Coman', 'R. Mahrez', 'J. Sancho'], ['P. Gulácsi'], ['Y. Sommer'], ['P. Aubameyang']]\n"
     ]
    },
    {
     "data": {
      "image/png": "[encoded data removed]",
      "text/plain": [
       "<Figure size 864x576 with 1 Axes>"
      ]
     },
     "metadata": {},
     "output_type": "display_data"
    }
   ],
   "source": [
    "##Girvan Newman community detection --> Divisive clustering\n",
    "communities=girvan_newman(g, most_valuable_edge=None)\n",
    "plt.figure(figsize=(12,8))\n",
    "node_groups = []\n",
    "for com in next(communities):\n",
    "  node_groups.append(list(com))\n",
    "print(node_groups)\n",
    "color_map = []\n",
    "for node in g:\n",
    "    if node in node_groups[0]:\n",
    "      color_map.append('blue')\n",
    "    else: \n",
    "      color_map.append('red')  \n",
    "nx.draw(g, node_color=color_map, with_labels=True, font_size=11)\n",
    "plt.show()\n",
    "#It detects only two communities which are mostly composed by :\n",
    "#Seems that Blue Serie A,Ligue 1 players <--> Red Bundesliga,La Liga and Premier League players but it is not 100% perfect "
   ]
  },
  {
   "cell_type": "markdown",
   "metadata": {},
   "source": [
    "It detects only two communities which are mostly composed by: \n",
    "Seems that blue nodes are Serie A,Ligue 1 players <--> red ones are Bundesliga,La Liga and Premier League players.\\\n",
    "However  it is not 100% perfect given the randomness of the edges"
   ]
  },
  {
   "cell_type": "markdown",
   "metadata": {},
   "source": [
    "#### Looking for communities with an agglomerative algorithm --> Louvain method"
   ]
  },
  {
   "cell_type": "code",
   "execution_count": 158,
   "metadata": {},
   "outputs": [
    {
     "data": {
      "image/png": "[encoded data removed]",
      "text/plain": [
       "<Figure size 864x576 with 1 Axes>"
      ]
     },
     "metadata": {},
     "output_type": "display_data"
    }
   ],
   "source": [
    "##Louvain community detection --> Agglomerative clustering\n",
    "import matplotlib.cm as cm\n",
    "partition = community_louvain.best_partition(g)\n",
    "plt.figure(figsize=(12,8))\n",
    "# draw the graph\n",
    "pos = nx.spring_layout(g)\n",
    "# color the nodes according to their partition\n",
    "cmap = cm.get_cmap('RdBu', max(partition.values()) + 1)\n",
    "nx.draw_networkx_nodes(g, pos, partition.keys(), node_size=100,\n",
    "                       cmap=cmap, node_color=list(partition.values()))\n",
    "nx.draw_networkx_edges(g, pos, alpha=0.5)\n",
    "nx.draw_networkx_labels(g,pos,font_size=10)\n",
    "plt.show()\n",
    "#A lot of different communities : mosts are between players of the same club but there are some also between players of similar nationalities"
   ]
  },
  {
   "cell_type": "markdown",
   "metadata": {},
   "source": [
    "A lot of different communities : mosts are between players of the same club but there are some also between players of similar nationalities"
   ]
  },
  {
   "cell_type": "code",
   "execution_count": 159,
   "metadata": {},
   "outputs": [
    {
     "name": "stdout",
     "output_type": "stream",
     "text": [
      "3-nodes clique:\n",
      "\n",
      "['Luis Alberto', 'S. Milinković-Savić', 'C. Immobile']\n",
      "\n",
      "['M. Rashford', 'J. Vardy', 'K. Walker']\n",
      "\n",
      "['E. Haaland', 'M. Hummels', 'M. Reus']\n",
      "\n",
      "['Bernardo Silva', 'Rúben Dias', 'João Cancelo']\n",
      "\n",
      "['M. ter Stegen', 'M. Depay', 'S. Agüero']\n",
      "\n",
      "['M. Verratti', 'Jorginho', 'C. Immobile']\n",
      "\n",
      "['S. Handanovič', 'L. Martínez', 'S. de Vrij']\n",
      "\n",
      "['F. de Jong', 'V. van Dijk', 'M. Depay']\n",
      "\n",
      "['M. ter Stegen', 'S. Gnabry', 'J. Kimmich', 'I. Gündoğan', 'M. Neuer']\n",
      "\n",
      "4-nodes clique:\n",
      "\n",
      "I'm sorry there are no 4-nodes cliques in this graph\n",
      "\n",
      "5-nodes clique:\n",
      "\n",
      "I'm sorry there are no 5-nodes cliques in this graph\n",
      "\n"
     ]
    }
   ],
   "source": [
    "findcliques(g,3,5)\n",
    "#Obviously many less dense neighbourhoods related to the fact that they only have random edges by club and nationality"
   ]
  },
  {
   "cell_type": "markdown",
   "metadata": {},
   "source": [
    "Obviously many less dense neighbourhoods related to the fact that they only have random edges by club and nationality"
   ]
  },
  {
   "cell_type": "markdown",
   "metadata": {},
   "source": [
    "## Conclusions "
   ]
  },
  {
   "cell_type": "markdown",
   "metadata": {},
   "source": [
    "As can be seen from the networks plotted, we different partitions of players detected by two main algorithms: agglomerative (Louvain),which identifies different partitions related to club and nations,  and divisive (Girvan-Newman),which identifies only two communities. The three nodes which do not have any link with the others (Aubameyang, Gulàcsi and Sommer) seem to form in both initial network and semi-random network, respectively a unique community for the Girvan-Newman while they form each one a different community according to Louvain. \\\n",
    "\n",
    "Another interesting insight is that of the two players belonging to the biggest component in the first graph (Ndidi, Schmeichel), classified by the Girvan Newman algorithm as belonging to the same community of those three in the other three unconnected components of the graph. These two are probably detected as belonging to the other community because they have both only one connection with other players in the top 100 since they are the only ones of their nations to be in the top 100.\\\n",
    "\n",
    "\n",
    "So this explicitly tells us that, by applying two different clustering algorithms for partitioning the nodes in both a true and semi-random environment, the key finding of the study is that in order to be in the top 100 in FIFA players have to belong to one of the strongest clubs in the world. Only 3% of the players in the top 100 don’t belong to one of the current best teams in the world.\\\n",
    "Moreover, as seen with the first Girvan-Newman algorithm for Schemichel and Ndidi which are the only players of their nation (together with the three outside the giant component),  belonging to the strongest club is not enough.\\\n",
    "We can state that in order to be in the top 100 on FIFA you have to both play for one of the best teams in the world and you have to belong to one of those niches of nations with other strong players."
   ]
  },
  {
   "cell_type": "code",
   "execution_count": 160,
   "metadata": {},
   "outputs": [
    {
     "data": {
      "application/vnd.plotly.v1+json": {
       "config": {
        "plotlyServerURL": "https://plot.ly"
       },
       "data": [
        {
         "domain": {
          "x": [
           0,
           1
          ],
          "y": [
           0,
           1
          ]
         },
         "hoverinfo": "label+percent",
         "hovertemplate": "label=%{label}<br>value=%{value}<extra></extra>",
         "labels": [
          "Players in Top Clubs or in niche of top football nations",
          "Players not in Top Clubs or Nations"
         ],
         "legendgroup": "",
         "name": "",
         "showlegend": true,
         "textfont": {
          "size": 12
         },
         "textinfo": "label+percent",
         "type": "pie",
         "values": [
          97,
          3
         ]
        }
       ],
       "layout": {
        "legend": {
         "tracegroupgap": 0
        },
        "piecolorway": [
         "#1F77B4",
         "#FF7F0E",
         "#2CA02C",
         "#D62728",
         "#9467BD",
         "#8C564B",
         "#E377C2",
         "#7F7F7F",
         "#BCBD22",
         "#17BECF"
        ],
        "template": {
         "data": {
          "bar": [
           {
            "error_x": {
             "color": "#2a3f5f"
            },
            "error_y": {
             "color": "#2a3f5f"
            },
            "marker": {
             "line": {
              "color": "#E5ECF6",
              "width": 0.5
             },
             "pattern": {
              "fillmode": "overlay",
              "size": 10,
              "solidity": 0.2
             }
            },
            "type": "bar"
           }
          ],
          "barpolar": [
           {
            "marker": {
             "line": {
              "color": "#E5ECF6",
              "width": 0.5
             },
             "pattern": {
              "fillmode": "overlay",
              "size": 10,
              "solidity": 0.2
             }
            },
            "type": "barpolar"
           }
          ],
          "carpet": [
           {
            "aaxis": {
             "endlinecolor": "#2a3f5f",
             "gridcolor": "white",
             "linecolor": "white",
             "minorgridcolor": "white",
             "startlinecolor": "#2a3f5f"
            },
            "baxis": {
             "endlinecolor": "#2a3f5f",
             "gridcolor": "white",
             "linecolor": "white",
             "minorgridcolor": "white",
             "startlinecolor": "#2a3f5f"
            },
            "type": "carpet"
           }
          ],
          "choropleth": [
           {
            "colorbar": {
             "outlinewidth": 0,
             "ticks": ""
            },
            "type": "choropleth"
           }
          ],
          "contour": [
           {
            "colorbar": {
             "outlinewidth": 0,
             "ticks": ""
            },
            "colorscale": [
             [
              0,
              "#0d0887"
             ],
             [
              0.1111111111111111,
              "#46039f"
             ],
             [
              0.2222222222222222,
              "#7201a8"
             ],
             [
              0.3333333333333333,
              "#9c179e"
             ],
             [
              0.4444444444444444,
              "#bd3786"
             ],
             [
              0.5555555555555556,
              "#d8576b"
             ],
             [
              0.6666666666666666,
              "#ed7953"
             ],
             [
              0.7777777777777778,
              "#fb9f3a"
             ],
             [
              0.8888888888888888,
              "#fdca26"
             ],
             [
              1,
              "#f0f921"
             ]
            ],
            "type": "contour"
           }
          ],
          "contourcarpet": [
           {
            "colorbar": {
             "outlinewidth": 0,
             "ticks": ""
            },
            "type": "contourcarpet"
           }
          ],
          "heatmap": [
           {
            "colorbar": {
             "outlinewidth": 0,
             "ticks": ""
            },
            "colorscale": [
             [
              0,
              "#0d0887"
             ],
             [
              0.1111111111111111,
              "#46039f"
             ],
             [
              0.2222222222222222,
              "#7201a8"
             ],
             [
              0.3333333333333333,
              "#9c179e"
             ],
             [
              0.4444444444444444,
              "#bd3786"
             ],
             [
              0.5555555555555556,
              "#d8576b"
             ],
             [
              0.6666666666666666,
              "#ed7953"
             ],
             [
              0.7777777777777778,
              "#fb9f3a"
             ],
             [
              0.8888888888888888,
              "#fdca26"
             ],
             [
              1,
              "#f0f921"
             ]
            ],
            "type": "heatmap"
           }
          ],
          "heatmapgl": [
           {
            "colorbar": {
             "outlinewidth": 0,
             "ticks": ""
            },
            "colorscale": [
             [
              0,
              "#0d0887"
             ],
             [
              0.1111111111111111,
              "#46039f"
             ],
             [
              0.2222222222222222,
              "#7201a8"
             ],
             [
              0.3333333333333333,
              "#9c179e"
             ],
             [
              0.4444444444444444,
              "#bd3786"
             ],
             [
              0.5555555555555556,
              "#d8576b"
             ],
             [
              0.6666666666666666,
              "#ed7953"
             ],
             [
              0.7777777777777778,
              "#fb9f3a"
             ],
             [
              0.8888888888888888,
              "#fdca26"
             ],
             [
              1,
              "#f0f921"
             ]
            ],
            "type": "heatmapgl"
           }
          ],
          "histogram": [
           {
            "marker": {
             "pattern": {
              "fillmode": "overlay",
              "size": 10,
              "solidity": 0.2
             }
            },
            "type": "histogram"
           }
          ],
          "histogram2d": [
           {
            "colorbar": {
             "outlinewidth": 0,
             "ticks": ""
            },
            "colorscale": [
             [
              0,
              "#0d0887"
             ],
             [
              0.1111111111111111,
              "#46039f"
             ],
             [
              0.2222222222222222,
              "#7201a8"
             ],
             [
              0.3333333333333333,
              "#9c179e"
             ],
             [
              0.4444444444444444,
              "#bd3786"
             ],
             [
              0.5555555555555556,
              "#d8576b"
             ],
             [
              0.6666666666666666,
              "#ed7953"
             ],
             [
              0.7777777777777778,
              "#fb9f3a"
             ],
             [
              0.8888888888888888,
              "#fdca26"
             ],
             [
              1,
              "#f0f921"
             ]
            ],
            "type": "histogram2d"
           }
          ],
          "histogram2dcontour": [
           {
            "colorbar": {
             "outlinewidth": 0,
             "ticks": ""
            },
            "colorscale": [
             [
              0,
              "#0d0887"
             ],
             [
              0.1111111111111111,
              "#46039f"
             ],
             [
              0.2222222222222222,
              "#7201a8"
             ],
             [
              0.3333333333333333,
              "#9c179e"
             ],
             [
              0.4444444444444444,
              "#bd3786"
             ],
             [
              0.5555555555555556,
              "#d8576b"
             ],
             [
              0.6666666666666666,
              "#ed7953"
             ],
             [
              0.7777777777777778,
              "#fb9f3a"
             ],
             [
              0.8888888888888888,
              "#fdca26"
             ],
             [
              1,
              "#f0f921"
             ]
            ],
            "type": "histogram2dcontour"
           }
          ],
          "mesh3d": [
           {
            "colorbar": {
             "outlinewidth": 0,
             "ticks": ""
            },
            "type": "mesh3d"
           }
          ],
          "parcoords": [
           {
            "line": {
             "colorbar": {
              "outlinewidth": 0,
              "ticks": ""
             }
            },
            "type": "parcoords"
           }
          ],
          "pie": [
           {
            "automargin": true,
            "type": "pie"
           }
          ],
          "scatter": [
           {
            "marker": {
             "colorbar": {
              "outlinewidth": 0,
              "ticks": ""
             }
            },
            "type": "scatter"
           }
          ],
          "scatter3d": [
           {
            "line": {
             "colorbar": {
              "outlinewidth": 0,
              "ticks": ""
             }
            },
            "marker": {
             "colorbar": {
              "outlinewidth": 0,
              "ticks": ""
             }
            },
            "type": "scatter3d"
           }
          ],
          "scattercarpet": [
           {
            "marker": {
             "colorbar": {
              "outlinewidth": 0,
              "ticks": ""
             }
            },
            "type": "scattercarpet"
           }
          ],
          "scattergeo": [
           {
            "marker": {
             "colorbar": {
              "outlinewidth": 0,
              "ticks": ""
             }
            },
            "type": "scattergeo"
           }
          ],
          "scattergl": [
           {
            "marker": {
             "colorbar": {
              "outlinewidth": 0,
              "ticks": ""
             }
            },
            "type": "scattergl"
           }
          ],
          "scattermapbox": [
           {
            "marker": {
             "colorbar": {
              "outlinewidth": 0,
              "ticks": ""
             }
            },
            "type": "scattermapbox"
           }
          ],
          "scatterpolar": [
           {
            "marker": {
             "colorbar": {
              "outlinewidth": 0,
              "ticks": ""
             }
            },
            "type": "scatterpolar"
           }
          ],
          "scatterpolargl": [
           {
            "marker": {
             "colorbar": {
              "outlinewidth": 0,
              "ticks": ""
             }
            },
            "type": "scatterpolargl"
           }
          ],
          "scatterternary": [
           {
            "marker": {
             "colorbar": {
              "outlinewidth": 0,
              "ticks": ""
             }
            },
            "type": "scatterternary"
           }
          ],
          "surface": [
           {
            "colorbar": {
             "outlinewidth": 0,
             "ticks": ""
            },
            "colorscale": [
             [
              0,
              "#0d0887"
             ],
             [
              0.1111111111111111,
              "#46039f"
             ],
             [
              0.2222222222222222,
              "#7201a8"
             ],
             [
              0.3333333333333333,
              "#9c179e"
             ],
             [
              0.4444444444444444,
              "#bd3786"
             ],
             [
              0.5555555555555556,
              "#d8576b"
             ],
             [
              0.6666666666666666,
              "#ed7953"
             ],
             [
              0.7777777777777778,
              "#fb9f3a"
             ],
             [
              0.8888888888888888,
              "#fdca26"
             ],
             [
              1,
              "#f0f921"
             ]
            ],
            "type": "surface"
           }
          ],
          "table": [
           {
            "cells": {
             "fill": {
              "color": "#EBF0F8"
             },
             "line": {
              "color": "white"
             }
            },
            "header": {
             "fill": {
              "color": "#C8D4E3"
             },
             "line": {
              "color": "white"
             }
            },
            "type": "table"
           }
          ]
         },
         "layout": {
          "annotationdefaults": {
           "arrowcolor": "#2a3f5f",
           "arrowhead": 0,
           "arrowwidth": 1
          },
          "autotypenumbers": "strict",
          "coloraxis": {
           "colorbar": {
            "outlinewidth": 0,
            "ticks": ""
           }
          },
          "colorscale": {
           "diverging": [
            [
             0,
             "#8e0152"
            ],
            [
             0.1,
             "#c51b7d"
            ],
            [
             0.2,
             "#de77ae"
            ],
            [
             0.3,
             "#f1b6da"
            ],
            [
             0.4,
             "#fde0ef"
            ],
            [
             0.5,
             "#f7f7f7"
            ],
            [
             0.6,
             "#e6f5d0"
            ],
            [
             0.7,
             "#b8e186"
            ],
            [
             0.8,
             "#7fbc41"
            ],
            [
             0.9,
             "#4d9221"
            ],
            [
             1,
             "#276419"
            ]
           ],
           "sequential": [
            [
             0,
             "#0d0887"
            ],
            [
             0.1111111111111111,
             "#46039f"
            ],
            [
             0.2222222222222222,
             "#7201a8"
            ],
            [
             0.3333333333333333,
             "#9c179e"
            ],
            [
             0.4444444444444444,
             "#bd3786"
            ],
            [
             0.5555555555555556,
             "#d8576b"
            ],
            [
             0.6666666666666666,
             "#ed7953"
            ],
            [
             0.7777777777777778,
             "#fb9f3a"
            ],
            [
             0.8888888888888888,
             "#fdca26"
            ],
            [
             1,
             "#f0f921"
            ]
           ],
           "sequentialminus": [
            [
             0,
             "#0d0887"
            ],
            [
             0.1111111111111111,
             "#46039f"
            ],
            [
             0.2222222222222222,
             "#7201a8"
            ],
            [
             0.3333333333333333,
             "#9c179e"
            ],
            [
             0.4444444444444444,
             "#bd3786"
            ],
            [
             0.5555555555555556,
             "#d8576b"
            ],
            [
             0.6666666666666666,
             "#ed7953"
            ],
            [
             0.7777777777777778,
             "#fb9f3a"
            ],
            [
             0.8888888888888888,
             "#fdca26"
            ],
            [
             1,
             "#f0f921"
            ]
           ]
          },
          "colorway": [
           "#636efa",
           "#EF553B",
           "#00cc96",
           "#ab63fa",
           "#FFA15A",
           "#19d3f3",
           "#FF6692",
           "#B6E880",
           "#FF97FF",
           "#FECB52"
          ],
          "font": {
           "color": "#2a3f5f"
          },
          "geo": {
           "bgcolor": "white",
           "lakecolor": "white",
           "landcolor": "#E5ECF6",
           "showlakes": true,
           "showland": true,
           "subunitcolor": "white"
          },
          "hoverlabel": {
           "align": "left"
          },
          "hovermode": "closest",
          "mapbox": {
           "style": "light"
          },
          "paper_bgcolor": "white",
          "plot_bgcolor": "#E5ECF6",
          "polar": {
           "angularaxis": {
            "gridcolor": "white",
            "linecolor": "white",
            "ticks": ""
           },
           "bgcolor": "#E5ECF6",
           "radialaxis": {
            "gridcolor": "white",
            "linecolor": "white",
            "ticks": ""
           }
          },
          "scene": {
           "xaxis": {
            "backgroundcolor": "#E5ECF6",
            "gridcolor": "white",
            "gridwidth": 2,
            "linecolor": "white",
            "showbackground": true,
            "ticks": "",
            "zerolinecolor": "white"
           },
           "yaxis": {
            "backgroundcolor": "#E5ECF6",
            "gridcolor": "white",
            "gridwidth": 2,
            "linecolor": "white",
            "showbackground": true,
            "ticks": "",
            "zerolinecolor": "white"
           },
           "zaxis": {
            "backgroundcolor": "#E5ECF6",
            "gridcolor": "white",
            "gridwidth": 2,
            "linecolor": "white",
            "showbackground": true,
            "ticks": "",
            "zerolinecolor": "white"
           }
          },
          "shapedefaults": {
           "line": {
            "color": "#2a3f5f"
           }
          },
          "ternary": {
           "aaxis": {
            "gridcolor": "white",
            "linecolor": "white",
            "ticks": ""
           },
           "baxis": {
            "gridcolor": "white",
            "linecolor": "white",
            "ticks": ""
           },
           "bgcolor": "#E5ECF6",
           "caxis": {
            "gridcolor": "white",
            "linecolor": "white",
            "ticks": ""
           }
          },
          "title": {
           "x": 0.05
          },
          "xaxis": {
           "automargin": true,
           "gridcolor": "white",
           "linecolor": "white",
           "ticks": "",
           "title": {
            "standoff": 15
           },
           "zerolinecolor": "white",
           "zerolinewidth": 2
          },
          "yaxis": {
           "automargin": true,
           "gridcolor": "white",
           "linecolor": "white",
           "ticks": "",
           "title": {
            "standoff": 15
           },
           "zerolinecolor": "white",
           "zerolinewidth": 2
          }
         }
        },
        "title": {
         "text": "Percentage of players in the top 100"
        }
       }
      }
     },
     "metadata": {},
     "output_type": "display_data"
    }
   ],
   "source": [
    "pie= px.pie(values=[97,3], names=['Players in Top Clubs or in niche of top football nations', 'Players not in Top Clubs or Nations'], title='Percentage of players in the top 100',color_discrete_sequence=px.colors.qualitative.D3)\n",
    "# Define hover info, text size, pull amount for each pie slice, and stroke\n",
    "pie.update_traces(hoverinfo = 'label+percent', textfont_size = 12, textinfo = 'label+percent')\n",
    "pie.show()"
   ]
  }
 ],
 "metadata": {
  "interpreter": {
   "hash": "991c7dc2d139f841e5ebb3a840d08ca4fa2bd820468edd6c0468c72534216241"
  },
  "kernelspec": {
   "display_name": "Python 3.9.7 ('Machine_L')",
   "language": "python",
   "name": "python3"
  },
  "language_info": {
   "codemirror_mode": {
    "name": "ipython",
    "version": 3
   },
   "file_extension": ".py",
   "mimetype": "text/x-python",
   "name": "python",
   "nbconvert_exporter": "python",
   "pygments_lexer": "ipython3",
   "version": "3.8.13"
  },
  "orig_nbformat": 4
 },
 "nbformat": 4,
 "nbformat_minor": 2
}
